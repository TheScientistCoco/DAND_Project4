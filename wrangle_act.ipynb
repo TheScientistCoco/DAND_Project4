{
 "cells": [
  {
   "cell_type": "markdown",
   "metadata": {},
   "source": [
    "# Project: Wrangle and Analyze Twitter Data\n",
    "Yu Tao 12/26/2020"
   ]
  },
  {
   "cell_type": "markdown",
   "metadata": {},
   "source": [
    "## Table of Contents\n",
    "- Introduction\n",
    "- Data Wrangling\n",
    "    - Gathering Data\n",
    "    - Assessing Data\n",
    "        - Data Quality\n",
    "        - Data Tidiness\n",
    "    - Cleaning Data\n",
    "- Data Analysis and Visualization\n",
    "- Summary and Conclusion"
   ]
  },
  {
   "cell_type": "markdown",
   "metadata": {},
   "source": [
    "## Introduction"
   ]
  },
  {
   "cell_type": "markdown",
   "metadata": {},
   "source": [
    "The Twitter data from [**'WeRateDogs'**](https://twitter.com/dog_rates?lang=de) account has been analyzed in this project. First, I gathered the data from various sources, then I inspected the properties of the data and performed necessary data cleaning. With the cleaned data, I am able to analyze and visualize some interesting features and details from this Twitter account."
   ]
  },
  {
   "cell_type": "markdown",
   "metadata": {},
   "source": [
    "First of all, I will import in the cell below all the **libraries and modules** needed for this project."
   ]
  },
  {
   "cell_type": "code",
   "execution_count": 10,
   "metadata": {},
   "outputs": [],
   "source": [
    "# import all the packages needed for the project\n",
    "# data analysis and plotting\n",
    "import numpy as np\n",
    "import pandas as pd\n",
    "import matplotlib.pyplot as plt\n",
    "import seaborn as sns\n",
    "%matplotlib inline\n",
    "\n",
    "import requests # download data\n",
    "import re # text processing\n",
    "import tweepy # using Twitter api\n",
    "import json # json data processing\n",
    "\n",
    "# display image from HTML\n",
    "from IPython.display import HTML, display\n",
    "\n",
    "import time\n",
    "\n",
    "import warnings\n",
    "warnings.filterwarnings('ignore')"
   ]
  },
  {
   "cell_type": "markdown",
   "metadata": {},
   "source": [
    "## Data Wrangling\n",
    "### Gathering Data"
   ]
  },
  {
   "cell_type": "markdown",
   "metadata": {},
   "source": [
    "**(1) WeRateDogs Twitter archive**\n",
    "\n",
    "First I downloaded a data file named '**twitter-archive-enhanced.csv**' from Udacity, which contains the WeRateDogs Twitter archive (tweet ID, timestamp, text, etc.) for all 5000+ of their tweets as they stood on August 1, 2017. I loaded it into a pandas dataframe called **df_twitter_archive**."
   ]
  },
  {
   "cell_type": "code",
   "execution_count": 11,
   "metadata": {
    "scrolled": false
   },
   "outputs": [
    {
     "data": {
      "text/html": [
       "<div>\n",
       "<style scoped>\n",
       "    .dataframe tbody tr th:only-of-type {\n",
       "        vertical-align: middle;\n",
       "    }\n",
       "\n",
       "    .dataframe tbody tr th {\n",
       "        vertical-align: top;\n",
       "    }\n",
       "\n",
       "    .dataframe thead th {\n",
       "        text-align: right;\n",
       "    }\n",
       "</style>\n",
       "<table border=\"1\" class=\"dataframe\">\n",
       "  <thead>\n",
       "    <tr style=\"text-align: right;\">\n",
       "      <th></th>\n",
       "      <th>tweet_id</th>\n",
       "      <th>in_reply_to_status_id</th>\n",
       "      <th>in_reply_to_user_id</th>\n",
       "      <th>timestamp</th>\n",
       "      <th>source</th>\n",
       "      <th>text</th>\n",
       "      <th>retweeted_status_id</th>\n",
       "      <th>retweeted_status_user_id</th>\n",
       "      <th>retweeted_status_timestamp</th>\n",
       "      <th>expanded_urls</th>\n",
       "      <th>rating_numerator</th>\n",
       "      <th>rating_denominator</th>\n",
       "      <th>name</th>\n",
       "      <th>doggo</th>\n",
       "      <th>floofer</th>\n",
       "      <th>pupper</th>\n",
       "      <th>puppo</th>\n",
       "    </tr>\n",
       "  </thead>\n",
       "  <tbody>\n",
       "    <tr>\n",
       "      <th>0</th>\n",
       "      <td>892420643555336193</td>\n",
       "      <td>NaN</td>\n",
       "      <td>NaN</td>\n",
       "      <td>2017-08-01 16:23:56 +0000</td>\n",
       "      <td>&lt;a href=\"http://twitter.com/download/iphone\" r...</td>\n",
       "      <td>This is Phineas. He's a mystical boy. Only eve...</td>\n",
       "      <td>NaN</td>\n",
       "      <td>NaN</td>\n",
       "      <td>NaN</td>\n",
       "      <td>https://twitter.com/dog_rates/status/892420643...</td>\n",
       "      <td>13</td>\n",
       "      <td>10</td>\n",
       "      <td>Phineas</td>\n",
       "      <td>None</td>\n",
       "      <td>None</td>\n",
       "      <td>None</td>\n",
       "      <td>None</td>\n",
       "    </tr>\n",
       "    <tr>\n",
       "      <th>1</th>\n",
       "      <td>892177421306343426</td>\n",
       "      <td>NaN</td>\n",
       "      <td>NaN</td>\n",
       "      <td>2017-08-01 00:17:27 +0000</td>\n",
       "      <td>&lt;a href=\"http://twitter.com/download/iphone\" r...</td>\n",
       "      <td>This is Tilly. She's just checking pup on you....</td>\n",
       "      <td>NaN</td>\n",
       "      <td>NaN</td>\n",
       "      <td>NaN</td>\n",
       "      <td>https://twitter.com/dog_rates/status/892177421...</td>\n",
       "      <td>13</td>\n",
       "      <td>10</td>\n",
       "      <td>Tilly</td>\n",
       "      <td>None</td>\n",
       "      <td>None</td>\n",
       "      <td>None</td>\n",
       "      <td>None</td>\n",
       "    </tr>\n",
       "    <tr>\n",
       "      <th>2</th>\n",
       "      <td>891815181378084864</td>\n",
       "      <td>NaN</td>\n",
       "      <td>NaN</td>\n",
       "      <td>2017-07-31 00:18:03 +0000</td>\n",
       "      <td>&lt;a href=\"http://twitter.com/download/iphone\" r...</td>\n",
       "      <td>This is Archie. He is a rare Norwegian Pouncin...</td>\n",
       "      <td>NaN</td>\n",
       "      <td>NaN</td>\n",
       "      <td>NaN</td>\n",
       "      <td>https://twitter.com/dog_rates/status/891815181...</td>\n",
       "      <td>12</td>\n",
       "      <td>10</td>\n",
       "      <td>Archie</td>\n",
       "      <td>None</td>\n",
       "      <td>None</td>\n",
       "      <td>None</td>\n",
       "      <td>None</td>\n",
       "    </tr>\n",
       "    <tr>\n",
       "      <th>3</th>\n",
       "      <td>891689557279858688</td>\n",
       "      <td>NaN</td>\n",
       "      <td>NaN</td>\n",
       "      <td>2017-07-30 15:58:51 +0000</td>\n",
       "      <td>&lt;a href=\"http://twitter.com/download/iphone\" r...</td>\n",
       "      <td>This is Darla. She commenced a snooze mid meal...</td>\n",
       "      <td>NaN</td>\n",
       "      <td>NaN</td>\n",
       "      <td>NaN</td>\n",
       "      <td>https://twitter.com/dog_rates/status/891689557...</td>\n",
       "      <td>13</td>\n",
       "      <td>10</td>\n",
       "      <td>Darla</td>\n",
       "      <td>None</td>\n",
       "      <td>None</td>\n",
       "      <td>None</td>\n",
       "      <td>None</td>\n",
       "    </tr>\n",
       "    <tr>\n",
       "      <th>4</th>\n",
       "      <td>891327558926688256</td>\n",
       "      <td>NaN</td>\n",
       "      <td>NaN</td>\n",
       "      <td>2017-07-29 16:00:24 +0000</td>\n",
       "      <td>&lt;a href=\"http://twitter.com/download/iphone\" r...</td>\n",
       "      <td>This is Franklin. He would like you to stop ca...</td>\n",
       "      <td>NaN</td>\n",
       "      <td>NaN</td>\n",
       "      <td>NaN</td>\n",
       "      <td>https://twitter.com/dog_rates/status/891327558...</td>\n",
       "      <td>12</td>\n",
       "      <td>10</td>\n",
       "      <td>Franklin</td>\n",
       "      <td>None</td>\n",
       "      <td>None</td>\n",
       "      <td>None</td>\n",
       "      <td>None</td>\n",
       "    </tr>\n",
       "  </tbody>\n",
       "</table>\n",
       "</div>"
      ],
      "text/plain": [
       "             tweet_id  in_reply_to_status_id  in_reply_to_user_id  \\\n",
       "0  892420643555336193                    NaN                  NaN   \n",
       "1  892177421306343426                    NaN                  NaN   \n",
       "2  891815181378084864                    NaN                  NaN   \n",
       "3  891689557279858688                    NaN                  NaN   \n",
       "4  891327558926688256                    NaN                  NaN   \n",
       "\n",
       "                   timestamp  \\\n",
       "0  2017-08-01 16:23:56 +0000   \n",
       "1  2017-08-01 00:17:27 +0000   \n",
       "2  2017-07-31 00:18:03 +0000   \n",
       "3  2017-07-30 15:58:51 +0000   \n",
       "4  2017-07-29 16:00:24 +0000   \n",
       "\n",
       "                                              source  \\\n",
       "0  <a href=\"http://twitter.com/download/iphone\" r...   \n",
       "1  <a href=\"http://twitter.com/download/iphone\" r...   \n",
       "2  <a href=\"http://twitter.com/download/iphone\" r...   \n",
       "3  <a href=\"http://twitter.com/download/iphone\" r...   \n",
       "4  <a href=\"http://twitter.com/download/iphone\" r...   \n",
       "\n",
       "                                                text  retweeted_status_id  \\\n",
       "0  This is Phineas. He's a mystical boy. Only eve...                  NaN   \n",
       "1  This is Tilly. She's just checking pup on you....                  NaN   \n",
       "2  This is Archie. He is a rare Norwegian Pouncin...                  NaN   \n",
       "3  This is Darla. She commenced a snooze mid meal...                  NaN   \n",
       "4  This is Franklin. He would like you to stop ca...                  NaN   \n",
       "\n",
       "   retweeted_status_user_id retweeted_status_timestamp  \\\n",
       "0                       NaN                        NaN   \n",
       "1                       NaN                        NaN   \n",
       "2                       NaN                        NaN   \n",
       "3                       NaN                        NaN   \n",
       "4                       NaN                        NaN   \n",
       "\n",
       "                                       expanded_urls  rating_numerator  \\\n",
       "0  https://twitter.com/dog_rates/status/892420643...                13   \n",
       "1  https://twitter.com/dog_rates/status/892177421...                13   \n",
       "2  https://twitter.com/dog_rates/status/891815181...                12   \n",
       "3  https://twitter.com/dog_rates/status/891689557...                13   \n",
       "4  https://twitter.com/dog_rates/status/891327558...                12   \n",
       "\n",
       "   rating_denominator      name doggo floofer pupper puppo  \n",
       "0                  10   Phineas  None    None   None  None  \n",
       "1                  10     Tilly  None    None   None  None  \n",
       "2                  10    Archie  None    None   None  None  \n",
       "3                  10     Darla  None    None   None  None  \n",
       "4                  10  Franklin  None    None   None  None  "
      ]
     },
     "execution_count": 11,
     "metadata": {},
     "output_type": "execute_result"
    }
   ],
   "source": [
    "# load twitter-archive-enhanced csv\n",
    "df_twitter_archive = pd.read_csv('twitter-archive-enhanced.csv')\n",
    "df_twitter_archive.head()"
   ]
  },
  {
   "cell_type": "code",
   "execution_count": 12,
   "metadata": {
    "scrolled": false
   },
   "outputs": [
    {
     "name": "stdout",
     "output_type": "stream",
     "text": [
      "<class 'pandas.core.frame.DataFrame'>\n",
      "RangeIndex: 2356 entries, 0 to 2355\n",
      "Data columns (total 17 columns):\n",
      "tweet_id                      2356 non-null int64\n",
      "in_reply_to_status_id         78 non-null float64\n",
      "in_reply_to_user_id           78 non-null float64\n",
      "timestamp                     2356 non-null object\n",
      "source                        2356 non-null object\n",
      "text                          2356 non-null object\n",
      "retweeted_status_id           181 non-null float64\n",
      "retweeted_status_user_id      181 non-null float64\n",
      "retweeted_status_timestamp    181 non-null object\n",
      "expanded_urls                 2297 non-null object\n",
      "rating_numerator              2356 non-null int64\n",
      "rating_denominator            2356 non-null int64\n",
      "name                          2356 non-null object\n",
      "doggo                         2356 non-null object\n",
      "floofer                       2356 non-null object\n",
      "pupper                        2356 non-null object\n",
      "puppo                         2356 non-null object\n",
      "dtypes: float64(4), int64(3), object(10)\n",
      "memory usage: 313.0+ KB\n"
     ]
    }
   ],
   "source": [
    "# basic info of df_twitter_archive\n",
    "df_twitter_archive.info()"
   ]
  },
  {
   "cell_type": "markdown",
   "metadata": {},
   "source": [
    "**(2) Tweet image predictions**\n",
    "\n",
    "The tweet image predictions, i.e., what breed of dog (or other object, animal, etc.) is present in each tweet according to a neural network. This file (**image_predictions.tsv**) is hosted on Udacity's servers and should be downloaded programmatically using the Requests library and the following URL. The detail of obtaining the data is shown as follows:"
   ]
  },
  {
   "cell_type": "code",
   "execution_count": 13,
   "metadata": {},
   "outputs": [],
   "source": [
    "# use url request to access data\n",
    "url = \"https://d17h27t6h515a5.cloudfront.net/topher/2017/August/599fd2ad_image-predictions/image-predictions.tsv\"\n",
    "response = requests.get(url)"
   ]
  },
  {
   "cell_type": "code",
   "execution_count": 14,
   "metadata": {},
   "outputs": [],
   "source": [
    "# save the data to image_predictions.tsv\n",
    "with open(\"image_predictions.tsv\", mode = \"wb\") as file:\n",
    "    file.write(response.content)"
   ]
  },
  {
   "cell_type": "code",
   "execution_count": 15,
   "metadata": {},
   "outputs": [
    {
     "data": {
      "text/html": [
       "<div>\n",
       "<style scoped>\n",
       "    .dataframe tbody tr th:only-of-type {\n",
       "        vertical-align: middle;\n",
       "    }\n",
       "\n",
       "    .dataframe tbody tr th {\n",
       "        vertical-align: top;\n",
       "    }\n",
       "\n",
       "    .dataframe thead th {\n",
       "        text-align: right;\n",
       "    }\n",
       "</style>\n",
       "<table border=\"1\" class=\"dataframe\">\n",
       "  <thead>\n",
       "    <tr style=\"text-align: right;\">\n",
       "      <th></th>\n",
       "      <th>tweet_id</th>\n",
       "      <th>jpg_url</th>\n",
       "      <th>img_num</th>\n",
       "      <th>p1</th>\n",
       "      <th>p1_conf</th>\n",
       "      <th>p1_dog</th>\n",
       "      <th>p2</th>\n",
       "      <th>p2_conf</th>\n",
       "      <th>p2_dog</th>\n",
       "      <th>p3</th>\n",
       "      <th>p3_conf</th>\n",
       "      <th>p3_dog</th>\n",
       "    </tr>\n",
       "  </thead>\n",
       "  <tbody>\n",
       "    <tr>\n",
       "      <th>0</th>\n",
       "      <td>666020888022790149</td>\n",
       "      <td>https://pbs.twimg.com/media/CT4udn0WwAA0aMy.jpg</td>\n",
       "      <td>1</td>\n",
       "      <td>Welsh_springer_spaniel</td>\n",
       "      <td>0.465074</td>\n",
       "      <td>True</td>\n",
       "      <td>collie</td>\n",
       "      <td>0.156665</td>\n",
       "      <td>True</td>\n",
       "      <td>Shetland_sheepdog</td>\n",
       "      <td>0.061428</td>\n",
       "      <td>True</td>\n",
       "    </tr>\n",
       "    <tr>\n",
       "      <th>1</th>\n",
       "      <td>666029285002620928</td>\n",
       "      <td>https://pbs.twimg.com/media/CT42GRgUYAA5iDo.jpg</td>\n",
       "      <td>1</td>\n",
       "      <td>redbone</td>\n",
       "      <td>0.506826</td>\n",
       "      <td>True</td>\n",
       "      <td>miniature_pinscher</td>\n",
       "      <td>0.074192</td>\n",
       "      <td>True</td>\n",
       "      <td>Rhodesian_ridgeback</td>\n",
       "      <td>0.072010</td>\n",
       "      <td>True</td>\n",
       "    </tr>\n",
       "    <tr>\n",
       "      <th>2</th>\n",
       "      <td>666033412701032449</td>\n",
       "      <td>https://pbs.twimg.com/media/CT4521TWwAEvMyu.jpg</td>\n",
       "      <td>1</td>\n",
       "      <td>German_shepherd</td>\n",
       "      <td>0.596461</td>\n",
       "      <td>True</td>\n",
       "      <td>malinois</td>\n",
       "      <td>0.138584</td>\n",
       "      <td>True</td>\n",
       "      <td>bloodhound</td>\n",
       "      <td>0.116197</td>\n",
       "      <td>True</td>\n",
       "    </tr>\n",
       "    <tr>\n",
       "      <th>3</th>\n",
       "      <td>666044226329800704</td>\n",
       "      <td>https://pbs.twimg.com/media/CT5Dr8HUEAA-lEu.jpg</td>\n",
       "      <td>1</td>\n",
       "      <td>Rhodesian_ridgeback</td>\n",
       "      <td>0.408143</td>\n",
       "      <td>True</td>\n",
       "      <td>redbone</td>\n",
       "      <td>0.360687</td>\n",
       "      <td>True</td>\n",
       "      <td>miniature_pinscher</td>\n",
       "      <td>0.222752</td>\n",
       "      <td>True</td>\n",
       "    </tr>\n",
       "    <tr>\n",
       "      <th>4</th>\n",
       "      <td>666049248165822465</td>\n",
       "      <td>https://pbs.twimg.com/media/CT5IQmsXIAAKY4A.jpg</td>\n",
       "      <td>1</td>\n",
       "      <td>miniature_pinscher</td>\n",
       "      <td>0.560311</td>\n",
       "      <td>True</td>\n",
       "      <td>Rottweiler</td>\n",
       "      <td>0.243682</td>\n",
       "      <td>True</td>\n",
       "      <td>Doberman</td>\n",
       "      <td>0.154629</td>\n",
       "      <td>True</td>\n",
       "    </tr>\n",
       "  </tbody>\n",
       "</table>\n",
       "</div>"
      ],
      "text/plain": [
       "             tweet_id                                          jpg_url  \\\n",
       "0  666020888022790149  https://pbs.twimg.com/media/CT4udn0WwAA0aMy.jpg   \n",
       "1  666029285002620928  https://pbs.twimg.com/media/CT42GRgUYAA5iDo.jpg   \n",
       "2  666033412701032449  https://pbs.twimg.com/media/CT4521TWwAEvMyu.jpg   \n",
       "3  666044226329800704  https://pbs.twimg.com/media/CT5Dr8HUEAA-lEu.jpg   \n",
       "4  666049248165822465  https://pbs.twimg.com/media/CT5IQmsXIAAKY4A.jpg   \n",
       "\n",
       "   img_num                      p1   p1_conf  p1_dog                  p2  \\\n",
       "0        1  Welsh_springer_spaniel  0.465074    True              collie   \n",
       "1        1                 redbone  0.506826    True  miniature_pinscher   \n",
       "2        1         German_shepherd  0.596461    True            malinois   \n",
       "3        1     Rhodesian_ridgeback  0.408143    True             redbone   \n",
       "4        1      miniature_pinscher  0.560311    True          Rottweiler   \n",
       "\n",
       "    p2_conf  p2_dog                   p3   p3_conf  p3_dog  \n",
       "0  0.156665    True    Shetland_sheepdog  0.061428    True  \n",
       "1  0.074192    True  Rhodesian_ridgeback  0.072010    True  \n",
       "2  0.138584    True           bloodhound  0.116197    True  \n",
       "3  0.360687    True   miniature_pinscher  0.222752    True  \n",
       "4  0.243682    True             Doberman  0.154629    True  "
      ]
     },
     "execution_count": 15,
     "metadata": {},
     "output_type": "execute_result"
    }
   ],
   "source": [
    "# load the tsv file as df_image_prediction dataframe\n",
    "df_image_prediction = pd.read_csv('image_predictions.tsv', sep='\\t' )\n",
    "df_image_prediction.head()"
   ]
  },
  {
   "cell_type": "markdown",
   "metadata": {},
   "source": [
    "The dataframe lists the basic infomation of the tweet image and three predictions of the object in the image with confidence level."
   ]
  },
  {
   "cell_type": "markdown",
   "metadata": {},
   "source": [
    "**(3) Additional Twitter Data**\n",
    "\n",
    "There are extra twitter features from WeRateDogs that I will utilize in the analysis, e.g. each tweet's **retweet count and favorite (\"like\") count**. Next I used the Twitter api to fetch Twitter data from WeRateDogs (the alternative way is to download the tweet_json file directly from Udacity). In the below cell I only showed the basic method, there are more details on how to use Twitter API to get data via this link: https://stackoverflow.com/questions/28384588/twitter-api-get-tweets-with-specific-id"
   ]
  },
  {
   "cell_type": "code",
   "execution_count": 8,
   "metadata": {},
   "outputs": [],
   "source": [
    "# use the key and token from your API account to access the data\n",
    "consumer_key = ''\n",
    "consumer_secret = ''\n",
    "access_token = ''\n",
    "access_secret = ''\n",
    "\n",
    "auth = tweepy.OAuthHandler(consumer_key, consumer_secret)\n",
    "auth.set_access_token(access_token, access_secret)\n",
    "\n",
    "api = tweepy.API(auth)"
   ]
  },
  {
   "cell_type": "code",
   "execution_count": 9,
   "metadata": {},
   "outputs": [
    {
     "name": "stdout",
     "output_type": "stream",
     "text": [
      "Tweet id: 888202515573088257 failed.\n",
      "Tweet id: 873697596434513921 failed.\n",
      "Tweet id: 872668790621863937 failed.\n",
      "Tweet id: 872261713294495745 failed.\n",
      "Tweet id: 869988702071779329 failed.\n",
      "Tweet id: 866816280283807744 failed.\n",
      "Tweet id: 861769973181624320 failed.\n",
      "Tweet id: 856602993587888130 failed.\n",
      "Tweet id: 851953902622658560 failed.\n",
      "Tweet id: 845459076796616705 failed.\n",
      "Tweet id: 844704788403113984 failed.\n",
      "Tweet id: 842892208864923648 failed.\n",
      "Tweet id: 837366284874571778 failed.\n",
      "Tweet id: 837012587749474308 failed.\n",
      "Tweet id: 829374341691346946 failed.\n",
      "Tweet id: 827228250799742977 failed.\n",
      "Tweet id: 812747805718642688 failed.\n",
      "Tweet id: 802247111496568832 failed.\n",
      "Tweet id: 779123168116150273 failed.\n",
      "Tweet id: 775096608509886464 failed.\n",
      "Tweet id: 771004394259247104 failed.\n",
      "Tweet id: 770743923962707968 failed.\n",
      "Tweet id: 759566828574212096 failed.\n"
     ]
    },
    {
     "name": "stderr",
     "output_type": "stream",
     "text": [
      "Rate limit reached. Sleeping for: 669\n"
     ]
    },
    {
     "name": "stdout",
     "output_type": "stream",
     "text": [
      "Tweet id: 754011816964026368 failed.\n",
      "Tweet id: 680055455951884288 failed.\n"
     ]
    },
    {
     "name": "stderr",
     "output_type": "stream",
     "text": [
      "Rate limit reached. Sleeping for: 665\n"
     ]
    },
    {
     "name": "stdout",
     "output_type": "stream",
     "text": [
      "Tweet information stored successfully!\n",
      "1955.787596464157\n"
     ]
    }
   ],
   "source": [
    "# use df_list to save additional twitter data\n",
    "df_list = []\n",
    "error_list = []\n",
    "\n",
    "start_time = time.time()\n",
    "\n",
    "# iterate through tweet id and save each tweet as a json file\n",
    "for tweet_id in df_twitter_archive['tweet_id']:   \n",
    "    try:\n",
    "        tweet = api.get_status(tweet_id, wait_on_rate_limit=True, wait_on_rate_limit_notify=True)\n",
    "        # appending the tweets as json objects\n",
    "        df_list.append(tweet._json)\n",
    "        tweet = \"\"\n",
    "    except:\n",
    "        print(\"Tweet id: \" + str(tweet_id) + \" failed.\")\n",
    "\n",
    "with open ('tweet_json.txt', 'w') as outfile:\n",
    "    json.dump(df_list, outfile)\n",
    "    \n",
    "print(\"Tweet information stored successfully!\")\n",
    "        \n",
    "end_time = time.time()\n",
    "print (end_time - start_time)"
   ]
  },
  {
   "cell_type": "markdown",
   "metadata": {},
   "source": [
    "The gathering process takes **~30 min**, the **try-except** block helps us identify some twitter ids that we were not able to fetch the data. Now I have the additional twitter data saved as **tweet_json.txt**, I wrote it into a pandas dataframe called **df_tweet_json**."
   ]
  },
  {
   "cell_type": "code",
   "execution_count": 16,
   "metadata": {},
   "outputs": [
    {
     "data": {
      "text/html": [
       "<div>\n",
       "<style scoped>\n",
       "    .dataframe tbody tr th:only-of-type {\n",
       "        vertical-align: middle;\n",
       "    }\n",
       "\n",
       "    .dataframe tbody tr th {\n",
       "        vertical-align: top;\n",
       "    }\n",
       "\n",
       "    .dataframe thead th {\n",
       "        text-align: right;\n",
       "    }\n",
       "</style>\n",
       "<table border=\"1\" class=\"dataframe\">\n",
       "  <thead>\n",
       "    <tr style=\"text-align: right;\">\n",
       "      <th></th>\n",
       "      <th>tweet_id</th>\n",
       "      <th>favorite_count</th>\n",
       "      <th>retweet_count</th>\n",
       "      <th>retweeted</th>\n",
       "    </tr>\n",
       "  </thead>\n",
       "  <tbody>\n",
       "    <tr>\n",
       "      <th>0</th>\n",
       "      <td>892420643555336193</td>\n",
       "      <td>39467</td>\n",
       "      <td>8853</td>\n",
       "      <td>False</td>\n",
       "    </tr>\n",
       "    <tr>\n",
       "      <th>1</th>\n",
       "      <td>892177421306343426</td>\n",
       "      <td>33819</td>\n",
       "      <td>6514</td>\n",
       "      <td>False</td>\n",
       "    </tr>\n",
       "    <tr>\n",
       "      <th>2</th>\n",
       "      <td>891815181378084864</td>\n",
       "      <td>25461</td>\n",
       "      <td>4328</td>\n",
       "      <td>False</td>\n",
       "    </tr>\n",
       "    <tr>\n",
       "      <th>3</th>\n",
       "      <td>891689557279858688</td>\n",
       "      <td>42908</td>\n",
       "      <td>8964</td>\n",
       "      <td>False</td>\n",
       "    </tr>\n",
       "    <tr>\n",
       "      <th>4</th>\n",
       "      <td>891327558926688256</td>\n",
       "      <td>41048</td>\n",
       "      <td>9774</td>\n",
       "      <td>False</td>\n",
       "    </tr>\n",
       "  </tbody>\n",
       "</table>\n",
       "</div>"
      ],
      "text/plain": [
       "             tweet_id  favorite_count  retweet_count  retweeted\n",
       "0  892420643555336193           39467           8853      False\n",
       "1  892177421306343426           33819           6514      False\n",
       "2  891815181378084864           25461           4328      False\n",
       "3  891689557279858688           42908           8964      False\n",
       "4  891327558926688256           41048           9774      False"
      ]
     },
     "execution_count": 16,
     "metadata": {},
     "output_type": "execute_result"
    }
   ],
   "source": [
    "# use a list to store the info extracted from tweet_json.txt\n",
    "twitter_api = []\n",
    "\n",
    "with open(\"tweet_json.txt\", \"r\") as file:\n",
    "    for line in file:\n",
    "        try: \n",
    "            tweet = json.loads(line)           \n",
    "            twitter_api.append({\"tweet_id\": tweet[\"id\"],\n",
    "                                \"favorite_count\": tweet[\"favorite_count\"],\n",
    "                                \"retweet_count\": tweet[\"retweet_count\"],\n",
    "                                \"retweeted\": tweet[\"retweeted\"]})               \n",
    "        except:\n",
    "            print(\"reading line error\")\n",
    "\n",
    "# load twitter_api into a pandas dataframe\n",
    "df_tweet_json = pd.DataFrame(twitter_api, columns = [\"tweet_id\", \"favorite_count\", \"retweet_count\", \"retweeted\"])\n",
    "df_tweet_json.head()"
   ]
  },
  {
   "cell_type": "markdown",
   "metadata": {},
   "source": [
    "### Assessing Data\n",
    "\n",
    "The **quality and tidiness** of each dataframe are examined in detail, first I performed a quick visual assessment, by browsing twitter_archive_enhanced.csv and image_prediction.tsv in Excel and tweet_json.txt in text editor to get a general idea of the data, then I systematically assessed each of them using different Python commands shown in this section. A summary of data assessing is given at the end of this section.\n",
    "\n",
    "##### df_twitter_archive"
   ]
  },
  {
   "cell_type": "code",
   "execution_count": 17,
   "metadata": {
    "scrolled": false
   },
   "outputs": [
    {
     "name": "stdout",
     "output_type": "stream",
     "text": [
      "<class 'pandas.core.frame.DataFrame'>\n",
      "RangeIndex: 2356 entries, 0 to 2355\n",
      "Data columns (total 17 columns):\n",
      "tweet_id                      2356 non-null int64\n",
      "in_reply_to_status_id         78 non-null float64\n",
      "in_reply_to_user_id           78 non-null float64\n",
      "timestamp                     2356 non-null object\n",
      "source                        2356 non-null object\n",
      "text                          2356 non-null object\n",
      "retweeted_status_id           181 non-null float64\n",
      "retweeted_status_user_id      181 non-null float64\n",
      "retweeted_status_timestamp    181 non-null object\n",
      "expanded_urls                 2297 non-null object\n",
      "rating_numerator              2356 non-null int64\n",
      "rating_denominator            2356 non-null int64\n",
      "name                          2356 non-null object\n",
      "doggo                         2356 non-null object\n",
      "floofer                       2356 non-null object\n",
      "pupper                        2356 non-null object\n",
      "puppo                         2356 non-null object\n",
      "dtypes: float64(4), int64(3), object(10)\n",
      "memory usage: 313.0+ KB\n"
     ]
    }
   ],
   "source": [
    "# check using info method\n",
    "df_twitter_archive.info()"
   ]
  },
  {
   "cell_type": "markdown",
   "metadata": {},
   "source": [
    "We can see that there are many **missing values**, mainly in the columns related to reply and retweet. Since we are only interested in the original tweets, I will drop them later in the data cleaning section.\n",
    "\n",
    "Another observation is that we also need to change the data type of the timestamp column to **datetime**."
   ]
  },
  {
   "cell_type": "code",
   "execution_count": 18,
   "metadata": {
    "scrolled": false
   },
   "outputs": [
    {
     "data": {
      "text/html": [
       "<div>\n",
       "<style scoped>\n",
       "    .dataframe tbody tr th:only-of-type {\n",
       "        vertical-align: middle;\n",
       "    }\n",
       "\n",
       "    .dataframe tbody tr th {\n",
       "        vertical-align: top;\n",
       "    }\n",
       "\n",
       "    .dataframe thead th {\n",
       "        text-align: right;\n",
       "    }\n",
       "</style>\n",
       "<table border=\"1\" class=\"dataframe\">\n",
       "  <thead>\n",
       "    <tr style=\"text-align: right;\">\n",
       "      <th></th>\n",
       "      <th>tweet_id</th>\n",
       "      <th>in_reply_to_status_id</th>\n",
       "      <th>in_reply_to_user_id</th>\n",
       "      <th>timestamp</th>\n",
       "      <th>source</th>\n",
       "      <th>text</th>\n",
       "      <th>retweeted_status_id</th>\n",
       "      <th>retweeted_status_user_id</th>\n",
       "      <th>retweeted_status_timestamp</th>\n",
       "      <th>expanded_urls</th>\n",
       "      <th>rating_numerator</th>\n",
       "      <th>rating_denominator</th>\n",
       "      <th>name</th>\n",
       "      <th>doggo</th>\n",
       "      <th>floofer</th>\n",
       "      <th>pupper</th>\n",
       "      <th>puppo</th>\n",
       "    </tr>\n",
       "  </thead>\n",
       "  <tbody>\n",
       "    <tr>\n",
       "      <th>1057</th>\n",
       "      <td>742150209887731712</td>\n",
       "      <td>NaN</td>\n",
       "      <td>NaN</td>\n",
       "      <td>2016-06-13 00:22:53 +0000</td>\n",
       "      <td>&lt;a href=\"http://twitter.com/download/iphone\" r...</td>\n",
       "      <td>This is Edmund. He sends stellar selfies. Cute...</td>\n",
       "      <td>NaN</td>\n",
       "      <td>NaN</td>\n",
       "      <td>NaN</td>\n",
       "      <td>https://twitter.com/dog_rates/status/742150209...</td>\n",
       "      <td>8</td>\n",
       "      <td>10</td>\n",
       "      <td>Edmund</td>\n",
       "      <td>None</td>\n",
       "      <td>None</td>\n",
       "      <td>pupper</td>\n",
       "      <td>None</td>\n",
       "    </tr>\n",
       "    <tr>\n",
       "      <th>116</th>\n",
       "      <td>870308999962521604</td>\n",
       "      <td>NaN</td>\n",
       "      <td>NaN</td>\n",
       "      <td>2017-06-01 16:00:09 +0000</td>\n",
       "      <td>&lt;a href=\"http://twitter.com/download/iphone\" r...</td>\n",
       "      <td>This is Rumble, but he's not ready to. Would r...</td>\n",
       "      <td>NaN</td>\n",
       "      <td>NaN</td>\n",
       "      <td>NaN</td>\n",
       "      <td>https://twitter.com/dog_rates/status/870308999...</td>\n",
       "      <td>13</td>\n",
       "      <td>10</td>\n",
       "      <td>Rumble</td>\n",
       "      <td>None</td>\n",
       "      <td>None</td>\n",
       "      <td>None</td>\n",
       "      <td>None</td>\n",
       "    </tr>\n",
       "    <tr>\n",
       "      <th>339</th>\n",
       "      <td>832273440279240704</td>\n",
       "      <td>NaN</td>\n",
       "      <td>NaN</td>\n",
       "      <td>2017-02-16 17:00:25 +0000</td>\n",
       "      <td>&lt;a href=\"http://twitter.com/download/iphone\" r...</td>\n",
       "      <td>Say hello to Smiley. He's a blind therapy dogg...</td>\n",
       "      <td>NaN</td>\n",
       "      <td>NaN</td>\n",
       "      <td>NaN</td>\n",
       "      <td>https://twitter.com/dog_rates/status/832273440...</td>\n",
       "      <td>14</td>\n",
       "      <td>10</td>\n",
       "      <td>Smiley</td>\n",
       "      <td>doggo</td>\n",
       "      <td>None</td>\n",
       "      <td>None</td>\n",
       "      <td>None</td>\n",
       "    </tr>\n",
       "    <tr>\n",
       "      <th>635</th>\n",
       "      <td>793601777308463104</td>\n",
       "      <td>NaN</td>\n",
       "      <td>NaN</td>\n",
       "      <td>2016-11-01 23:53:02 +0000</td>\n",
       "      <td>&lt;a href=\"http://twitter.com/download/iphone\" r...</td>\n",
       "      <td>This is Dobby. I can't stop looking at her fee...</td>\n",
       "      <td>NaN</td>\n",
       "      <td>NaN</td>\n",
       "      <td>NaN</td>\n",
       "      <td>https://twitter.com/dog_rates/status/793601777...</td>\n",
       "      <td>12</td>\n",
       "      <td>10</td>\n",
       "      <td>Dobby</td>\n",
       "      <td>None</td>\n",
       "      <td>None</td>\n",
       "      <td>None</td>\n",
       "      <td>None</td>\n",
       "    </tr>\n",
       "    <tr>\n",
       "      <th>2143</th>\n",
       "      <td>669970042633789440</td>\n",
       "      <td>NaN</td>\n",
       "      <td>NaN</td>\n",
       "      <td>2015-11-26 20:04:40 +0000</td>\n",
       "      <td>&lt;a href=\"http://twitter.com/download/iphone\" r...</td>\n",
       "      <td>This is Julio. He was one of the original Ring...</td>\n",
       "      <td>NaN</td>\n",
       "      <td>NaN</td>\n",
       "      <td>NaN</td>\n",
       "      <td>https://twitter.com/dog_rates/status/669970042...</td>\n",
       "      <td>10</td>\n",
       "      <td>10</td>\n",
       "      <td>Julio</td>\n",
       "      <td>None</td>\n",
       "      <td>None</td>\n",
       "      <td>None</td>\n",
       "      <td>None</td>\n",
       "    </tr>\n",
       "  </tbody>\n",
       "</table>\n",
       "</div>"
      ],
      "text/plain": [
       "                tweet_id  in_reply_to_status_id  in_reply_to_user_id  \\\n",
       "1057  742150209887731712                    NaN                  NaN   \n",
       "116   870308999962521604                    NaN                  NaN   \n",
       "339   832273440279240704                    NaN                  NaN   \n",
       "635   793601777308463104                    NaN                  NaN   \n",
       "2143  669970042633789440                    NaN                  NaN   \n",
       "\n",
       "                      timestamp  \\\n",
       "1057  2016-06-13 00:22:53 +0000   \n",
       "116   2017-06-01 16:00:09 +0000   \n",
       "339   2017-02-16 17:00:25 +0000   \n",
       "635   2016-11-01 23:53:02 +0000   \n",
       "2143  2015-11-26 20:04:40 +0000   \n",
       "\n",
       "                                                 source  \\\n",
       "1057  <a href=\"http://twitter.com/download/iphone\" r...   \n",
       "116   <a href=\"http://twitter.com/download/iphone\" r...   \n",
       "339   <a href=\"http://twitter.com/download/iphone\" r...   \n",
       "635   <a href=\"http://twitter.com/download/iphone\" r...   \n",
       "2143  <a href=\"http://twitter.com/download/iphone\" r...   \n",
       "\n",
       "                                                   text  retweeted_status_id  \\\n",
       "1057  This is Edmund. He sends stellar selfies. Cute...                  NaN   \n",
       "116   This is Rumble, but he's not ready to. Would r...                  NaN   \n",
       "339   Say hello to Smiley. He's a blind therapy dogg...                  NaN   \n",
       "635   This is Dobby. I can't stop looking at her fee...                  NaN   \n",
       "2143  This is Julio. He was one of the original Ring...                  NaN   \n",
       "\n",
       "      retweeted_status_user_id retweeted_status_timestamp  \\\n",
       "1057                       NaN                        NaN   \n",
       "116                        NaN                        NaN   \n",
       "339                        NaN                        NaN   \n",
       "635                        NaN                        NaN   \n",
       "2143                       NaN                        NaN   \n",
       "\n",
       "                                          expanded_urls  rating_numerator  \\\n",
       "1057  https://twitter.com/dog_rates/status/742150209...                 8   \n",
       "116   https://twitter.com/dog_rates/status/870308999...                13   \n",
       "339   https://twitter.com/dog_rates/status/832273440...                14   \n",
       "635   https://twitter.com/dog_rates/status/793601777...                12   \n",
       "2143  https://twitter.com/dog_rates/status/669970042...                10   \n",
       "\n",
       "      rating_denominator    name  doggo floofer  pupper puppo  \n",
       "1057                  10  Edmund   None    None  pupper  None  \n",
       "116                   10  Rumble   None    None    None  None  \n",
       "339                   10  Smiley  doggo    None    None  None  \n",
       "635                   10   Dobby   None    None    None  None  \n",
       "2143                  10   Julio   None    None    None  None  "
      ]
     },
     "execution_count": 18,
     "metadata": {},
     "output_type": "execute_result"
    }
   ],
   "source": [
    "# pick 5 sample rows\n",
    "df_twitter_archive.sample(5)"
   ]
  },
  {
   "cell_type": "markdown",
   "metadata": {},
   "source": [
    "We can see from the above 5 sample tweets that (1) not all the dogs in the posts have names; (2) WeRateDogs classifies dogs as doggo/floofer/pupper/puppo, but not all the dogs necessarily have a category."
   ]
  },
  {
   "cell_type": "code",
   "execution_count": 19,
   "metadata": {},
   "outputs": [
    {
     "data": {
      "text/plain": [
       "0"
      ]
     },
     "execution_count": 19,
     "metadata": {},
     "output_type": "execute_result"
    }
   ],
   "source": [
    "# check whether duplicates exist\n",
    "df_twitter_archive['tweet_id'].duplicated().sum()"
   ]
  },
  {
   "cell_type": "markdown",
   "metadata": {},
   "source": [
    "Luckily we don't have duplicate entries. Now let's focus on the **rating numerator** (later on rating denominator), these dog ratings almost always have a denominator of 10. The numerators are almost always greater than 10. 11/10, 12/10, 13/10, etc. Why? Because [\"they're good dogs Brent.\"](https://knowyourmeme.com/memes/theyre-good-dogs-brent)"
   ]
  },
  {
   "cell_type": "code",
   "execution_count": 20,
   "metadata": {
    "scrolled": false
   },
   "outputs": [
    {
     "data": {
      "text/plain": [
       "12      558\n",
       "11      464\n",
       "10      461\n",
       "13      351\n",
       "9       158\n",
       "8       102\n",
       "7        55\n",
       "14       54\n",
       "5        37\n",
       "6        32\n",
       "3        19\n",
       "4        17\n",
       "1         9\n",
       "2         9\n",
       "420       2\n",
       "0         2\n",
       "15        2\n",
       "75        2\n",
       "80        1\n",
       "20        1\n",
       "24        1\n",
       "26        1\n",
       "44        1\n",
       "50        1\n",
       "60        1\n",
       "165       1\n",
       "84        1\n",
       "88        1\n",
       "144       1\n",
       "182       1\n",
       "143       1\n",
       "666       1\n",
       "960       1\n",
       "1776      1\n",
       "17        1\n",
       "27        1\n",
       "45        1\n",
       "99        1\n",
       "121       1\n",
       "204       1\n",
       "Name: rating_numerator, dtype: int64"
      ]
     },
     "execution_count": 20,
     "metadata": {},
     "output_type": "execute_result"
    }
   ],
   "source": [
    "# count the rating numerator\n",
    "df_twitter_archive.rating_numerator.value_counts()"
   ]
  },
  {
   "cell_type": "markdown",
   "metadata": {},
   "source": [
    "There are various numerators, including 0 and some extraodinary large numbers, such as 1776, 960, etc. I would like to access the text of these tweets to see the details."
   ]
  },
  {
   "cell_type": "code",
   "execution_count": 21,
   "metadata": {
    "scrolled": false
   },
   "outputs": [
    {
     "name": "stdout",
     "output_type": "stream",
     "text": [
      "979    This is Atticus. He's quite simply America af. 1776/10 https://t.co/GRXwMxLBkh\n",
      "Name: text, dtype: object\n",
      "763    This is Sophie. She's a Jubilant Bush Pupper. Super h*ckin rare. Appears at random just to smile at the locals. 11.27/10 would smile back https://t.co/QFaUiIHxHq\n",
      "Name: text, dtype: object\n",
      "605     RT @dog_rates: Not familiar with this breed. No tail (weird). Only 2 legs. Doesn't bark. Surprisingly quick. Shits eggs. 1/10 https://t.co/…\n",
      "1446    After reading the comments I may have overestimated this pup. Downgraded to a 1/10. Please forgive me                                       \n",
      "1869    What kind of person sends in a picture without a dog in it? 1/10 just because that's a nice table https://t.co/RDXCfk8hK0                   \n",
      "1940    The millennials have spoken and we've decided to immediately demote to a 1/10. Thank you                                                    \n",
      "2038    After 22 minutes of careful deliberation this dog is being demoted to a 1/10. The longer you look at him the more terrifying he becomes     \n",
      "2091    Flamboyant pup here. Probably poisonous. Won't eat kibble. Doesn't bark. Slow af. Petting doesn't look fun. 1/10 https://t.co/jxukeh2BeO    \n",
      "2261    Never seen dog like this. Breathes heavy. Tilts head in a pattern. No bark. Shitty at fetch. Not even cordless. 1/10 https://t.co/i9iSGNn3fx\n",
      "2335    This is an Albanian 3 1/2 legged  Episcopalian. Loves well-polished hardwood flooring. Penis on the collar. 9/10 https://t.co/d9NcXFKwLv    \n",
      "2338    Not familiar with this breed. No tail (weird). Only 2 legs. Doesn't bark. Surprisingly quick. Shits eggs. 1/10 https://t.co/Asgdc6kuLX      \n",
      "Name: text, dtype: object\n",
      "315     When you're so blinded by your systematic plagiarism that you forget what day it is. 0/10 https://t.co/YbEJPkg4Ag      \n",
      "1016    PUPDATE: can't see any. Even if I could, I couldn't reach them to pet. 0/10 much disappointment https://t.co/c7WXaB2nqX\n",
      "Name: text, dtype: object\n"
     ]
    }
   ],
   "source": [
    "# access tweet text for specific numerators\n",
    "pd.set_option('display.max_colwidth', -1)\n",
    "print(df_twitter_archive.query(\"rating_numerator == '1776'\").text)\n",
    "print(df_twitter_archive.query(\"rating_numerator == '27'\").text)\n",
    "print(df_twitter_archive.query(\"rating_numerator == '1'\").text)\n",
    "print(df_twitter_archive.query(\"rating_numerator == '0'\").text)"
   ]
  },
  {
   "cell_type": "markdown",
   "metadata": {},
   "source": [
    "From the text and corresponding links, 1776 is a valid numerator (the dog is in a US national flag to celebrate the country's establishment in year 1776). There are numerators, such as 0 or 1, because the pictures don't have dogs inside at all. Besides, there seems to be fractional numerators (maybe in denominator as well), such as 11.27/10, let's check."
   ]
  },
  {
   "cell_type": "code",
   "execution_count": 22,
   "metadata": {
    "scrolled": false
   },
   "outputs": [
    {
     "data": {
      "text/html": [
       "<div>\n",
       "<style scoped>\n",
       "    .dataframe tbody tr th:only-of-type {\n",
       "        vertical-align: middle;\n",
       "    }\n",
       "\n",
       "    .dataframe tbody tr th {\n",
       "        vertical-align: top;\n",
       "    }\n",
       "\n",
       "    .dataframe thead th {\n",
       "        text-align: right;\n",
       "    }\n",
       "</style>\n",
       "<table border=\"1\" class=\"dataframe\">\n",
       "  <thead>\n",
       "    <tr style=\"text-align: right;\">\n",
       "      <th></th>\n",
       "      <th>tweet_id</th>\n",
       "      <th>text</th>\n",
       "      <th>rating_numerator</th>\n",
       "      <th>rating_denominator</th>\n",
       "    </tr>\n",
       "  </thead>\n",
       "  <tbody>\n",
       "    <tr>\n",
       "      <th>45</th>\n",
       "      <td>883482846933004288</td>\n",
       "      <td>This is Bella. She hopes her smile made you smile. If not, she is also offering you her favorite monkey. 13.5/10 https://t.co/qjrljjt948</td>\n",
       "      <td>5</td>\n",
       "      <td>10</td>\n",
       "    </tr>\n",
       "    <tr>\n",
       "      <th>340</th>\n",
       "      <td>832215909146226688</td>\n",
       "      <td>RT @dog_rates: This is Logan, the Chow who lived. He solemnly swears he's up to lots of good. H*ckin magical af 9.75/10 https://t.co/yBO5wu…</td>\n",
       "      <td>75</td>\n",
       "      <td>10</td>\n",
       "    </tr>\n",
       "    <tr>\n",
       "      <th>695</th>\n",
       "      <td>786709082849828864</td>\n",
       "      <td>This is Logan, the Chow who lived. He solemnly swears he's up to lots of good. H*ckin magical af 9.75/10 https://t.co/yBO5wuqaPS</td>\n",
       "      <td>75</td>\n",
       "      <td>10</td>\n",
       "    </tr>\n",
       "    <tr>\n",
       "      <th>763</th>\n",
       "      <td>778027034220126208</td>\n",
       "      <td>This is Sophie. She's a Jubilant Bush Pupper. Super h*ckin rare. Appears at random just to smile at the locals. 11.27/10 would smile back https://t.co/QFaUiIHxHq</td>\n",
       "      <td>27</td>\n",
       "      <td>10</td>\n",
       "    </tr>\n",
       "    <tr>\n",
       "      <th>1689</th>\n",
       "      <td>681340665377193984</td>\n",
       "      <td>I've been told there's a slight possibility he's checking his mirror. We'll bump to 9.5/10. Still a menace</td>\n",
       "      <td>5</td>\n",
       "      <td>10</td>\n",
       "    </tr>\n",
       "    <tr>\n",
       "      <th>1712</th>\n",
       "      <td>680494726643068929</td>\n",
       "      <td>Here we have uncovered an entire battalion of holiday puppers. Average of 11.26/10 https://t.co/eNm2S6p9BD</td>\n",
       "      <td>26</td>\n",
       "      <td>10</td>\n",
       "    </tr>\n",
       "  </tbody>\n",
       "</table>\n",
       "</div>"
      ],
      "text/plain": [
       "                tweet_id  \\\n",
       "45    883482846933004288   \n",
       "340   832215909146226688   \n",
       "695   786709082849828864   \n",
       "763   778027034220126208   \n",
       "1689  681340665377193984   \n",
       "1712  680494726643068929   \n",
       "\n",
       "                                                                                                                                                                   text  \\\n",
       "45                             This is Bella. She hopes her smile made you smile. If not, she is also offering you her favorite monkey. 13.5/10 https://t.co/qjrljjt948   \n",
       "340                        RT @dog_rates: This is Logan, the Chow who lived. He solemnly swears he's up to lots of good. H*ckin magical af 9.75/10 https://t.co/yBO5wu…   \n",
       "695                                    This is Logan, the Chow who lived. He solemnly swears he's up to lots of good. H*ckin magical af 9.75/10 https://t.co/yBO5wuqaPS   \n",
       "763   This is Sophie. She's a Jubilant Bush Pupper. Super h*ckin rare. Appears at random just to smile at the locals. 11.27/10 would smile back https://t.co/QFaUiIHxHq   \n",
       "1689                                                         I've been told there's a slight possibility he's checking his mirror. We'll bump to 9.5/10. Still a menace   \n",
       "1712                                                         Here we have uncovered an entire battalion of holiday puppers. Average of 11.26/10 https://t.co/eNm2S6p9BD   \n",
       "\n",
       "      rating_numerator  rating_denominator  \n",
       "45                   5                  10  \n",
       "340                 75                  10  \n",
       "695                 75                  10  \n",
       "763                 27                  10  \n",
       "1689                 5                  10  \n",
       "1712                26                  10  "
      ]
     },
     "metadata": {},
     "output_type": "display_data"
    }
   ],
   "source": [
    "# define pattern1, which represents fractional numbers that have decimals in the numerator\n",
    "pattern1 = \"(\\d+\\.\\d*\\/\\d+)\"\n",
    "# search through the text for ratings with decimal numerators\n",
    "with pd.option_context('max_colwidth', 200):\n",
    "    display(df_twitter_archive[df_twitter_archive['text'].str.contains(pattern1)]\n",
    "            [['tweet_id', 'text', 'rating_numerator', 'rating_denominator']])"
   ]
  },
  {
   "cell_type": "markdown",
   "metadata": {},
   "source": [
    "There are 6 tweets and their ratings from the text have decimal numbers in the numerator. For example, there are **13.5/10, 9.75/10**, etc. I also found some errors in the **rating_numerator** cloumn, it falsely takes the number after the decimal point as the rating numerator instead of using the whole float number (e.g. should be 9.75, but is 75 actually), we need to clean this as well."
   ]
  },
  {
   "cell_type": "markdown",
   "metadata": {},
   "source": [
    "Now I will check the **rating_denominator** similarly."
   ]
  },
  {
   "cell_type": "code",
   "execution_count": 23,
   "metadata": {
    "scrolled": true
   },
   "outputs": [
    {
     "data": {
      "text/plain": [
       "10     2333\n",
       "11     3   \n",
       "50     3   \n",
       "80     2   \n",
       "20     2   \n",
       "2      1   \n",
       "16     1   \n",
       "40     1   \n",
       "70     1   \n",
       "15     1   \n",
       "90     1   \n",
       "110    1   \n",
       "120    1   \n",
       "130    1   \n",
       "150    1   \n",
       "170    1   \n",
       "7      1   \n",
       "0      1   \n",
       "Name: rating_denominator, dtype: int64"
      ]
     },
     "execution_count": 23,
     "metadata": {},
     "output_type": "execute_result"
    }
   ],
   "source": [
    "# count the rating_denominator\n",
    "df_twitter_archive.rating_denominator.value_counts()"
   ]
  },
  {
   "cell_type": "markdown",
   "metadata": {},
   "source": [
    "Almost all the denominators are 10 except a few ones with different values, let's check the original text for some of them."
   ]
  },
  {
   "cell_type": "code",
   "execution_count": 24,
   "metadata": {
    "scrolled": true
   },
   "outputs": [
    {
     "name": "stdout",
     "output_type": "stream",
     "text": [
      "1120    Say hello to this unbelievably well behaved squad of doggos. 204/170 would try to pet all at once https://t.co/yGQI3He3xv\n",
      "Name: text, dtype: object\n",
      "313    @jonnysun @Lin_Manuel ok jomny I know you're excited but 960/00 isn't a valid rating, 13/10 is tho\n",
      "Name: text, dtype: object\n"
     ]
    }
   ],
   "source": [
    "# access tweet text for specific denominators\n",
    "pd.set_option('display.max_colwidth', -1)\n",
    "print(df_twitter_archive.query(\"rating_denominator == '170'\").text)\n",
    "print(df_twitter_archive.query(\"rating_denominator == '0'\").text)"
   ]
  },
  {
   "cell_type": "markdown",
   "metadata": {},
   "source": [
    "170 is a valid denominator as in 240/170 from the first text line above. There is also a 0 in the denominator, the text of which actually has two ratings. Based on the text, 13/10 seems to be the more appropriate rating. But it brings to us that we need to deal with **tweets with more than one ratings** properly in the clean section."
   ]
  },
  {
   "cell_type": "markdown",
   "metadata": {},
   "source": [
    "Similarly, I'd like to check for decimal denominators."
   ]
  },
  {
   "cell_type": "code",
   "execution_count": 25,
   "metadata": {
    "scrolled": true
   },
   "outputs": [
    {
     "data": {
      "text/html": [
       "<div>\n",
       "<style scoped>\n",
       "    .dataframe tbody tr th:only-of-type {\n",
       "        vertical-align: middle;\n",
       "    }\n",
       "\n",
       "    .dataframe tbody tr th {\n",
       "        vertical-align: top;\n",
       "    }\n",
       "\n",
       "    .dataframe thead th {\n",
       "        text-align: right;\n",
       "    }\n",
       "</style>\n",
       "<table border=\"1\" class=\"dataframe\">\n",
       "  <thead>\n",
       "    <tr style=\"text-align: right;\">\n",
       "      <th></th>\n",
       "      <th>tweet_id</th>\n",
       "      <th>text</th>\n",
       "      <th>rating_numerator</th>\n",
       "      <th>rating_denominator</th>\n",
       "    </tr>\n",
       "  </thead>\n",
       "  <tbody>\n",
       "  </tbody>\n",
       "</table>\n",
       "</div>"
      ],
      "text/plain": [
       "Empty DataFrame\n",
       "Columns: [tweet_id, text, rating_numerator, rating_denominator]\n",
       "Index: []"
      ]
     },
     "metadata": {},
     "output_type": "display_data"
    }
   ],
   "source": [
    "# pattern for decimal denominator\n",
    "pattern2 = \"(\\d+\\/\\d+\\.\\d+)\"\n",
    "# search through the text for decimal denominator\n",
    "with pd.option_context('max_colwidth', 200):\n",
    "    display(df_twitter_archive[df_twitter_archive['text'].str.contains(pattern2)]\n",
    "            [['tweet_id', 'text', 'rating_numerator', 'rating_denominator']])"
   ]
  },
  {
   "cell_type": "markdown",
   "metadata": {},
   "source": [
    "It's good news that **we don't have decimal denominators** in our tweet archive. As I mentioned before, there are multiple occurences of ratings in one tweet. Let's check."
   ]
  },
  {
   "cell_type": "code",
   "execution_count": 26,
   "metadata": {},
   "outputs": [
    {
     "data": {
      "text/plain": [
       "1    2323\n",
       "2    32  \n",
       "3    1   \n",
       "Name: rating_count, dtype: int64"
      ]
     },
     "execution_count": 26,
     "metadata": {},
     "output_type": "execute_result"
    }
   ],
   "source": [
    "# count for occurance of ratings in one text\n",
    "pattern = \"(\\d+(\\.\\d+)?\\/\\d+(\\.\\d+)?)\"\n",
    "df_twitter_archive[\"rating_count\"] = df_twitter_archive.text.str.count(pattern)\n",
    "df_twitter_archive[\"rating_count\"].value_counts()"
   ]
  },
  {
   "cell_type": "markdown",
   "metadata": {},
   "source": [
    "We need to deal with **32 tweets with 2 ratings** in the text and **1 tweet with 3 ratings** in the text. One of the reasons for this is there might be more than one dogs in a picture."
   ]
  },
  {
   "cell_type": "code",
   "execution_count": 27,
   "metadata": {
    "scrolled": false
   },
   "outputs": [
    {
     "data": {
      "text/html": [
       "<div>\n",
       "<style scoped>\n",
       "    .dataframe tbody tr th:only-of-type {\n",
       "        vertical-align: middle;\n",
       "    }\n",
       "\n",
       "    .dataframe tbody tr th {\n",
       "        vertical-align: top;\n",
       "    }\n",
       "\n",
       "    .dataframe thead th {\n",
       "        text-align: right;\n",
       "    }\n",
       "</style>\n",
       "<table border=\"1\" class=\"dataframe\">\n",
       "  <thead>\n",
       "    <tr style=\"text-align: right;\">\n",
       "      <th></th>\n",
       "      <th>text</th>\n",
       "      <th>rating_count</th>\n",
       "    </tr>\n",
       "  </thead>\n",
       "  <tbody>\n",
       "    <tr>\n",
       "      <th>55</th>\n",
       "      <td>@roushfenway These are good dogs but 17/10 is an emotional impulse rating. More like 13/10s</td>\n",
       "      <td>2</td>\n",
       "    </tr>\n",
       "    <tr>\n",
       "      <th>313</th>\n",
       "      <td>@jonnysun @Lin_Manuel ok jomny I know you're excited but 960/00 isn't a valid rating, 13/10 is tho</td>\n",
       "      <td>2</td>\n",
       "    </tr>\n",
       "    <tr>\n",
       "      <th>561</th>\n",
       "      <td>RT @dog_rates: \"Yep... just as I suspected. You're not flossing.\" 12/10 and 11/10 for the pup not flossing https://t.co/SuXcI9B7pQ</td>\n",
       "      <td>2</td>\n",
       "    </tr>\n",
       "    <tr>\n",
       "      <th>766</th>\n",
       "      <td>\"Yep... just as I suspected. You're not flossing.\" 12/10 and 11/10 for the pup not flossing https://t.co/SuXcI9B7pQ</td>\n",
       "      <td>2</td>\n",
       "    </tr>\n",
       "    <tr>\n",
       "      <th>784</th>\n",
       "      <td>RT @dog_rates: After so many requests, this is Bretagne. She was the last surviving 9/11 search dog, and our second ever 14/10. RIP https:/…</td>\n",
       "      <td>2</td>\n",
       "    </tr>\n",
       "    <tr>\n",
       "      <th>860</th>\n",
       "      <td>RT @dog_rates: Meet Eve. She's a raging alcoholic 8/10 (would b 11/10 but pupper alcoholism is a tragic issue that I can't condone) https:/…</td>\n",
       "      <td>2</td>\n",
       "    </tr>\n",
       "    <tr>\n",
       "      <th>1007</th>\n",
       "      <td>This is Bookstore and Seaweed. Bookstore is tired and Seaweed is an asshole. 10/10 and 7/10 respectively https://t.co/eUGjGjjFVJ</td>\n",
       "      <td>2</td>\n",
       "    </tr>\n",
       "    <tr>\n",
       "      <th>1068</th>\n",
       "      <td>After so many requests, this is Bretagne. She was the last surviving 9/11 search dog, and our second ever 14/10. RIP https://t.co/XAVDNDaVgQ</td>\n",
       "      <td>2</td>\n",
       "    </tr>\n",
       "    <tr>\n",
       "      <th>1165</th>\n",
       "      <td>Happy 4/20 from the squad! 13/10 for all https://t.co/eV1diwds8a</td>\n",
       "      <td>2</td>\n",
       "    </tr>\n",
       "    <tr>\n",
       "      <th>1202</th>\n",
       "      <td>This is Bluebert. He just saw that both #FinalFur match ups are split 50/50. Amazed af. 11/10 https://t.co/Kky1DPG4iq</td>\n",
       "      <td>2</td>\n",
       "    </tr>\n",
       "    <tr>\n",
       "      <th>1222</th>\n",
       "      <td>Meet Travis and Flurp. Travis is pretty chill but Flurp can't lie down properly. 10/10 &amp;amp; 8/10\\nget it together Flurp https://t.co/Akzl5ynMmE</td>\n",
       "      <td>2</td>\n",
       "    </tr>\n",
       "    <tr>\n",
       "      <th>1359</th>\n",
       "      <td>This is Socks. That water pup w the super legs just splashed him. Socks did not appreciate that. 9/10 and 2/10 https://t.co/8rc5I22bBf</td>\n",
       "      <td>2</td>\n",
       "    </tr>\n",
       "    <tr>\n",
       "      <th>1459</th>\n",
       "      <td>This may be the greatest video I've ever been sent. 4/10 for Charles the puppy, 13/10 overall. (Vid by @stevenxx_) https://t.co/uaJmNgXR2P</td>\n",
       "      <td>2</td>\n",
       "    </tr>\n",
       "    <tr>\n",
       "      <th>1465</th>\n",
       "      <td>Meet Oliviér. He takes killer selfies. Has a dog of his own. It leaps at random &amp;amp; can't bark for shit. 10/10 &amp;amp; 5/10 https://t.co/6NgsQJuSBJ</td>\n",
       "      <td>2</td>\n",
       "    </tr>\n",
       "    <tr>\n",
       "      <th>1508</th>\n",
       "      <td>When bae says they can't go out but you see them with someone else that same night. 5/10 &amp;amp; 10/10 for heartbroken pup https://t.co/aenk0KpoWM</td>\n",
       "      <td>2</td>\n",
       "    </tr>\n",
       "    <tr>\n",
       "      <th>1525</th>\n",
       "      <td>This is Eriq. His friend just reminded him of last year's super bowl. Not cool friend\\n10/10 for Eriq\\n6/10 for friend https://t.co/PlEXTofdpf</td>\n",
       "      <td>2</td>\n",
       "    </tr>\n",
       "    <tr>\n",
       "      <th>1538</th>\n",
       "      <td>Meet Fynn &amp;amp; Taco. Fynn is an all-powerful leaf lord and Taco is in the wrong place at the wrong time. 11/10 &amp;amp; 10/10 https://t.co/MuqHPvtL8c</td>\n",
       "      <td>2</td>\n",
       "    </tr>\n",
       "    <tr>\n",
       "      <th>1662</th>\n",
       "      <td>This is Darrel. He just robbed a 7/11 and is in a high speed police chase. Was just spotted by the helicopter 10/10 https://t.co/7EsP8LmSp5</td>\n",
       "      <td>2</td>\n",
       "    </tr>\n",
       "    <tr>\n",
       "      <th>1795</th>\n",
       "      <td>Meet Tassy &amp;amp; Bee. Tassy is pretty chill, but Bee is convinced the Ruffles are haunted. 10/10 &amp;amp; 11/10 respectively https://t.co/fgORpmTN9C</td>\n",
       "      <td>2</td>\n",
       "    </tr>\n",
       "    <tr>\n",
       "      <th>1832</th>\n",
       "      <td>These two pups just met and have instantly bonded. Spectacular scene. Mesmerizing af. 10/10 and 7/10 for blue dog https://t.co/gwryaJO4tC</td>\n",
       "      <td>2</td>\n",
       "    </tr>\n",
       "    <tr>\n",
       "      <th>1897</th>\n",
       "      <td>Meet Rufio. He is unaware of the pink legless pupper wrapped around him. Might want to get that checked 10/10 &amp;amp; 4/10 https://t.co/KNfLnYPmYh</td>\n",
       "      <td>2</td>\n",
       "    </tr>\n",
       "    <tr>\n",
       "      <th>1901</th>\n",
       "      <td>Two gorgeous dogs here. Little waddling dog is a rebel. Refuses to look at camera. Must be a preteen. 5/10 &amp;amp; 8/10 https://t.co/YPfw7oahbD</td>\n",
       "      <td>2</td>\n",
       "    </tr>\n",
       "    <tr>\n",
       "      <th>1970</th>\n",
       "      <td>Meet Eve. She's a raging alcoholic 8/10 (would b 11/10 but pupper alcoholism is a tragic issue that I can't condone) https://t.co/U36HYQIijg</td>\n",
       "      <td>2</td>\n",
       "    </tr>\n",
       "    <tr>\n",
       "      <th>2010</th>\n",
       "      <td>10/10 for dog. 7/10 for cat. 12/10 for human. Much skill. Would pet all https://t.co/uhx5gfpx5k</td>\n",
       "      <td>3</td>\n",
       "    </tr>\n",
       "    <tr>\n",
       "      <th>2064</th>\n",
       "      <td>Meet Holly. She's trying to teach small human-like pup about blocks but he's not paying attention smh. 11/10 &amp;amp; 8/10 https://t.co/RcksaUrGNu</td>\n",
       "      <td>2</td>\n",
       "    </tr>\n",
       "    <tr>\n",
       "      <th>2113</th>\n",
       "      <td>Meet Hank and Sully. Hank is very proud of the pumpkin they found and Sully doesn't give a shit. 11/10 and 8/10 https://t.co/cwoP1ftbrj</td>\n",
       "      <td>2</td>\n",
       "    </tr>\n",
       "    <tr>\n",
       "      <th>2177</th>\n",
       "      <td>Here we have Pancho and Peaches. Pancho is a Condoleezza Gryffindor, and Peaches is just an asshole. 10/10 &amp;amp; 7/10 https://t.co/Lh1BsJrWPp</td>\n",
       "      <td>2</td>\n",
       "    </tr>\n",
       "    <tr>\n",
       "      <th>2216</th>\n",
       "      <td>This is Spark. He's nervous. Other dog hasn't moved in a while. Won't come when called. Doesn't fetch well 8/10&amp;amp;1/10 https://t.co/stEodX9Aba</td>\n",
       "      <td>2</td>\n",
       "    </tr>\n",
       "    <tr>\n",
       "      <th>2263</th>\n",
       "      <td>This is Kial. Kial is either wearing a cape, which would be rad, or flashing us, which would be rude. 10/10 or 4/10 https://t.co/8zcwIoiuqR</td>\n",
       "      <td>2</td>\n",
       "    </tr>\n",
       "    <tr>\n",
       "      <th>2272</th>\n",
       "      <td>Two dogs in this one. Both are rare Jujitsu Pythagoreans. One slightly whiter than other. Long legs. 7/10 and 8/10 https://t.co/ITxxcc4v9y</td>\n",
       "      <td>2</td>\n",
       "    </tr>\n",
       "    <tr>\n",
       "      <th>2298</th>\n",
       "      <td>After much debate this dog is being upgraded to 10/10. I repeat 10/10</td>\n",
       "      <td>2</td>\n",
       "    </tr>\n",
       "    <tr>\n",
       "      <th>2306</th>\n",
       "      <td>These are Peruvian Feldspars. Their names are Cupit and Prencer. Both resemble Rand Paul. Sick outfits 10/10 &amp;amp; 10/10 https://t.co/ZnEMHBsAs1</td>\n",
       "      <td>2</td>\n",
       "    </tr>\n",
       "    <tr>\n",
       "      <th>2335</th>\n",
       "      <td>This is an Albanian 3 1/2 legged  Episcopalian. Loves well-polished hardwood flooring. Penis on the collar. 9/10 https://t.co/d9NcXFKwLv</td>\n",
       "      <td>2</td>\n",
       "    </tr>\n",
       "  </tbody>\n",
       "</table>\n",
       "</div>"
      ],
      "text/plain": [
       "                                                                                                                                                     text  \\\n",
       "55    @roushfenway These are good dogs but 17/10 is an emotional impulse rating. More like 13/10s                                                           \n",
       "313   @jonnysun @Lin_Manuel ok jomny I know you're excited but 960/00 isn't a valid rating, 13/10 is tho                                                    \n",
       "561   RT @dog_rates: \"Yep... just as I suspected. You're not flossing.\" 12/10 and 11/10 for the pup not flossing https://t.co/SuXcI9B7pQ                    \n",
       "766   \"Yep... just as I suspected. You're not flossing.\" 12/10 and 11/10 for the pup not flossing https://t.co/SuXcI9B7pQ                                   \n",
       "784   RT @dog_rates: After so many requests, this is Bretagne. She was the last surviving 9/11 search dog, and our second ever 14/10. RIP https:/…          \n",
       "860   RT @dog_rates: Meet Eve. She's a raging alcoholic 8/10 (would b 11/10 but pupper alcoholism is a tragic issue that I can't condone) https:/…          \n",
       "1007  This is Bookstore and Seaweed. Bookstore is tired and Seaweed is an asshole. 10/10 and 7/10 respectively https://t.co/eUGjGjjFVJ                      \n",
       "1068  After so many requests, this is Bretagne. She was the last surviving 9/11 search dog, and our second ever 14/10. RIP https://t.co/XAVDNDaVgQ          \n",
       "1165  Happy 4/20 from the squad! 13/10 for all https://t.co/eV1diwds8a                                                                                      \n",
       "1202  This is Bluebert. He just saw that both #FinalFur match ups are split 50/50. Amazed af. 11/10 https://t.co/Kky1DPG4iq                                 \n",
       "1222  Meet Travis and Flurp. Travis is pretty chill but Flurp can't lie down properly. 10/10 &amp; 8/10\\nget it together Flurp https://t.co/Akzl5ynMmE      \n",
       "1359  This is Socks. That water pup w the super legs just splashed him. Socks did not appreciate that. 9/10 and 2/10 https://t.co/8rc5I22bBf                \n",
       "1459  This may be the greatest video I've ever been sent. 4/10 for Charles the puppy, 13/10 overall. (Vid by @stevenxx_) https://t.co/uaJmNgXR2P            \n",
       "1465  Meet Oliviér. He takes killer selfies. Has a dog of his own. It leaps at random &amp; can't bark for shit. 10/10 &amp; 5/10 https://t.co/6NgsQJuSBJ   \n",
       "1508  When bae says they can't go out but you see them with someone else that same night. 5/10 &amp; 10/10 for heartbroken pup https://t.co/aenk0KpoWM      \n",
       "1525  This is Eriq. His friend just reminded him of last year's super bowl. Not cool friend\\n10/10 for Eriq\\n6/10 for friend https://t.co/PlEXTofdpf        \n",
       "1538  Meet Fynn &amp; Taco. Fynn is an all-powerful leaf lord and Taco is in the wrong place at the wrong time. 11/10 &amp; 10/10 https://t.co/MuqHPvtL8c   \n",
       "1662  This is Darrel. He just robbed a 7/11 and is in a high speed police chase. Was just spotted by the helicopter 10/10 https://t.co/7EsP8LmSp5           \n",
       "1795  Meet Tassy &amp; Bee. Tassy is pretty chill, but Bee is convinced the Ruffles are haunted. 10/10 &amp; 11/10 respectively https://t.co/fgORpmTN9C     \n",
       "1832  These two pups just met and have instantly bonded. Spectacular scene. Mesmerizing af. 10/10 and 7/10 for blue dog https://t.co/gwryaJO4tC             \n",
       "1897  Meet Rufio. He is unaware of the pink legless pupper wrapped around him. Might want to get that checked 10/10 &amp; 4/10 https://t.co/KNfLnYPmYh      \n",
       "1901  Two gorgeous dogs here. Little waddling dog is a rebel. Refuses to look at camera. Must be a preteen. 5/10 &amp; 8/10 https://t.co/YPfw7oahbD         \n",
       "1970  Meet Eve. She's a raging alcoholic 8/10 (would b 11/10 but pupper alcoholism is a tragic issue that I can't condone) https://t.co/U36HYQIijg          \n",
       "2010  10/10 for dog. 7/10 for cat. 12/10 for human. Much skill. Would pet all https://t.co/uhx5gfpx5k                                                       \n",
       "2064  Meet Holly. She's trying to teach small human-like pup about blocks but he's not paying attention smh. 11/10 &amp; 8/10 https://t.co/RcksaUrGNu       \n",
       "2113  Meet Hank and Sully. Hank is very proud of the pumpkin they found and Sully doesn't give a shit. 11/10 and 8/10 https://t.co/cwoP1ftbrj               \n",
       "2177  Here we have Pancho and Peaches. Pancho is a Condoleezza Gryffindor, and Peaches is just an asshole. 10/10 &amp; 7/10 https://t.co/Lh1BsJrWPp         \n",
       "2216  This is Spark. He's nervous. Other dog hasn't moved in a while. Won't come when called. Doesn't fetch well 8/10&amp;1/10 https://t.co/stEodX9Aba      \n",
       "2263  This is Kial. Kial is either wearing a cape, which would be rad, or flashing us, which would be rude. 10/10 or 4/10 https://t.co/8zcwIoiuqR           \n",
       "2272  Two dogs in this one. Both are rare Jujitsu Pythagoreans. One slightly whiter than other. Long legs. 7/10 and 8/10 https://t.co/ITxxcc4v9y            \n",
       "2298  After much debate this dog is being upgraded to 10/10. I repeat 10/10                                                                                 \n",
       "2306  These are Peruvian Feldspars. Their names are Cupit and Prencer. Both resemble Rand Paul. Sick outfits 10/10 &amp; 10/10 https://t.co/ZnEMHBsAs1      \n",
       "2335  This is an Albanian 3 1/2 legged  Episcopalian. Loves well-polished hardwood flooring. Penis on the collar. 9/10 https://t.co/d9NcXFKwLv              \n",
       "\n",
       "      rating_count  \n",
       "55    2             \n",
       "313   2             \n",
       "561   2             \n",
       "766   2             \n",
       "784   2             \n",
       "860   2             \n",
       "1007  2             \n",
       "1068  2             \n",
       "1165  2             \n",
       "1202  2             \n",
       "1222  2             \n",
       "1359  2             \n",
       "1459  2             \n",
       "1465  2             \n",
       "1508  2             \n",
       "1525  2             \n",
       "1538  2             \n",
       "1662  2             \n",
       "1795  2             \n",
       "1832  2             \n",
       "1897  2             \n",
       "1901  2             \n",
       "1970  2             \n",
       "2010  3             \n",
       "2064  2             \n",
       "2113  2             \n",
       "2177  2             \n",
       "2216  2             \n",
       "2263  2             \n",
       "2272  2             \n",
       "2298  2             \n",
       "2306  2             \n",
       "2335  2             "
      ]
     },
     "execution_count": 27,
     "metadata": {},
     "output_type": "execute_result"
    }
   ],
   "source": [
    "# go through the texts of tweets with multiple ratings\n",
    "df_twitter_archive[[\"text\", \"rating_count\"]].query(\"rating_count != 1\")"
   ]
  },
  {
   "cell_type": "markdown",
   "metadata": {},
   "source": [
    "Aside from having multiple dogs, some other objects in the pictures get rated as well (cats, human, etc.), resulting in more than 1 ratings."
   ]
  },
  {
   "cell_type": "markdown",
   "metadata": {},
   "source": [
    "Now I want to inspect the **name** column."
   ]
  },
  {
   "cell_type": "code",
   "execution_count": 28,
   "metadata": {
    "scrolled": false
   },
   "outputs": [
    {
     "data": {
      "text/plain": [
       "None            745\n",
       "a               55 \n",
       "Charlie         12 \n",
       "Cooper          11 \n",
       "Oliver          11 \n",
       "Lucy            11 \n",
       "Lola            10 \n",
       "Tucker          10 \n",
       "Penny           10 \n",
       "Winston         9  \n",
       "Bo              9  \n",
       "the             8  \n",
       "Sadie           8  \n",
       "Daisy           7  \n",
       "Toby            7  \n",
       "Buddy           7  \n",
       "an              7  \n",
       "Bailey          7  \n",
       "Koda            6  \n",
       "Milo            6  \n",
       "Dave            6  \n",
       "Jack            6  \n",
       "Jax             6  \n",
       "Stanley         6  \n",
       "Scout           6  \n",
       "Oscar           6  \n",
       "Leo             6  \n",
       "Rusty           6  \n",
       "Bella           6  \n",
       "Gus             5  \n",
       "               ..  \n",
       "Damon           1  \n",
       "Flurpson        1  \n",
       "Filup           1  \n",
       "unacceptable    1  \n",
       "Gilbert         1  \n",
       "Lipton          1  \n",
       "Bodie           1  \n",
       "Jaycob          1  \n",
       "Huxley          1  \n",
       "Millie          1  \n",
       "Bruno           1  \n",
       "Baron           1  \n",
       "Hall            1  \n",
       "Shikha          1  \n",
       "Josep           1  \n",
       "Rhino           1  \n",
       "Stella          1  \n",
       "Jeremy          1  \n",
       "Tino            1  \n",
       "Dewey           1  \n",
       "Mack            1  \n",
       "Harnold         1  \n",
       "Alf             1  \n",
       "Leonard         1  \n",
       "Noah            1  \n",
       "Aqua            1  \n",
       "Kaiya           1  \n",
       "Mary            1  \n",
       "Jarod           1  \n",
       "Sid             1  \n",
       "Name: name, Length: 957, dtype: int64"
      ]
     },
     "execution_count": 28,
     "metadata": {},
     "output_type": "execute_result"
    }
   ],
   "source": [
    "# count the names\n",
    "df_twitter_archive.name.value_counts()"
   ]
  },
  {
   "cell_type": "markdown",
   "metadata": {},
   "source": [
    "There is an issue associated with the name column, it contains **wrong names like \"a\", \"the\", \"an\"**."
   ]
  },
  {
   "cell_type": "markdown",
   "metadata": {},
   "source": [
    "Next I will inspect the **dog_type** infomation (doggo/floofer/pupper/puppo) and see how often they appear in the twitter archive."
   ]
  },
  {
   "cell_type": "code",
   "execution_count": 29,
   "metadata": {},
   "outputs": [
    {
     "data": {
      "text/plain": [
       "None     2259\n",
       "doggo    97  \n",
       "Name: doggo, dtype: int64"
      ]
     },
     "execution_count": 29,
     "metadata": {},
     "output_type": "execute_result"
    }
   ],
   "source": [
    "# count each of the dog_type\n",
    "df_twitter_archive[\"doggo\"].value_counts()"
   ]
  },
  {
   "cell_type": "code",
   "execution_count": 30,
   "metadata": {},
   "outputs": [
    {
     "data": {
      "text/plain": [
       "None       2346\n",
       "floofer    10  \n",
       "Name: floofer, dtype: int64"
      ]
     },
     "execution_count": 30,
     "metadata": {},
     "output_type": "execute_result"
    }
   ],
   "source": [
    "df_twitter_archive[\"floofer\"].value_counts()"
   ]
  },
  {
   "cell_type": "code",
   "execution_count": 31,
   "metadata": {},
   "outputs": [
    {
     "data": {
      "text/plain": [
       "None      2099\n",
       "pupper    257 \n",
       "Name: pupper, dtype: int64"
      ]
     },
     "execution_count": 31,
     "metadata": {},
     "output_type": "execute_result"
    }
   ],
   "source": [
    "df_twitter_archive[\"pupper\"].value_counts()"
   ]
  },
  {
   "cell_type": "code",
   "execution_count": 32,
   "metadata": {},
   "outputs": [
    {
     "data": {
      "text/plain": [
       "None     2326\n",
       "puppo    30  \n",
       "Name: puppo, dtype: int64"
      ]
     },
     "execution_count": 32,
     "metadata": {},
     "output_type": "execute_result"
    }
   ],
   "source": [
    "df_twitter_archive[\"puppo\"].value_counts()"
   ]
  },
  {
   "cell_type": "code",
   "execution_count": 33,
   "metadata": {},
   "outputs": [
    {
     "name": "stdout",
     "output_type": "stream",
     "text": [
      "0.041171477079796265 0.004244482173174873 0.10908319185059423 0.012733446519524618\n"
     ]
    }
   ],
   "source": [
    "# fractions of classified dog_type over all the tweets\n",
    "print (97/2356, 10/2356, 257/2356, 30/2356)"
   ]
  },
  {
   "cell_type": "markdown",
   "metadata": {},
   "source": [
    "Only a small fraction of the dogs (from 0.4% to 10.9%) got corresponding dog types in these column, I think we should **combine dog type columns** into one for simplicity."
   ]
  },
  {
   "cell_type": "markdown",
   "metadata": {},
   "source": [
    "##### df_image_prediction"
   ]
  },
  {
   "cell_type": "code",
   "execution_count": 34,
   "metadata": {
    "scrolled": false
   },
   "outputs": [
    {
     "name": "stdout",
     "output_type": "stream",
     "text": [
      "<class 'pandas.core.frame.DataFrame'>\n",
      "RangeIndex: 2075 entries, 0 to 2074\n",
      "Data columns (total 12 columns):\n",
      "tweet_id    2075 non-null int64\n",
      "jpg_url     2075 non-null object\n",
      "img_num     2075 non-null int64\n",
      "p1          2075 non-null object\n",
      "p1_conf     2075 non-null float64\n",
      "p1_dog      2075 non-null bool\n",
      "p2          2075 non-null object\n",
      "p2_conf     2075 non-null float64\n",
      "p2_dog      2075 non-null bool\n",
      "p3          2075 non-null object\n",
      "p3_conf     2075 non-null float64\n",
      "p3_dog      2075 non-null bool\n",
      "dtypes: bool(3), float64(3), int64(2), object(4)\n",
      "memory usage: 152.1+ KB\n"
     ]
    }
   ],
   "source": [
    "# info of the df_image_prediction dataframe\n",
    "df_image_prediction.info()"
   ]
  },
  {
   "cell_type": "markdown",
   "metadata": {},
   "source": [
    "In terms of missing values, the df_image_prediction looks fine."
   ]
  },
  {
   "cell_type": "code",
   "execution_count": 35,
   "metadata": {
    "scrolled": false
   },
   "outputs": [
    {
     "data": {
      "text/html": [
       "<div>\n",
       "<style scoped>\n",
       "    .dataframe tbody tr th:only-of-type {\n",
       "        vertical-align: middle;\n",
       "    }\n",
       "\n",
       "    .dataframe tbody tr th {\n",
       "        vertical-align: top;\n",
       "    }\n",
       "\n",
       "    .dataframe thead th {\n",
       "        text-align: right;\n",
       "    }\n",
       "</style>\n",
       "<table border=\"1\" class=\"dataframe\">\n",
       "  <thead>\n",
       "    <tr style=\"text-align: right;\">\n",
       "      <th></th>\n",
       "      <th>tweet_id</th>\n",
       "      <th>jpg_url</th>\n",
       "      <th>img_num</th>\n",
       "      <th>p1</th>\n",
       "      <th>p1_conf</th>\n",
       "      <th>p1_dog</th>\n",
       "      <th>p2</th>\n",
       "      <th>p2_conf</th>\n",
       "      <th>p2_dog</th>\n",
       "      <th>p3</th>\n",
       "      <th>p3_conf</th>\n",
       "      <th>p3_dog</th>\n",
       "    </tr>\n",
       "  </thead>\n",
       "  <tbody>\n",
       "    <tr>\n",
       "      <th>1985</th>\n",
       "      <td>872261713294495745</td>\n",
       "      <td>https://pbs.twimg.com/media/DBrlZk2UQAAfAkd.jpg</td>\n",
       "      <td>2</td>\n",
       "      <td>Labrador_retriever</td>\n",
       "      <td>0.972019</td>\n",
       "      <td>True</td>\n",
       "      <td>flat-coated_retriever</td>\n",
       "      <td>0.008178</td>\n",
       "      <td>True</td>\n",
       "      <td>Chesapeake_Bay_retriever</td>\n",
       "      <td>0.007359</td>\n",
       "      <td>True</td>\n",
       "    </tr>\n",
       "    <tr>\n",
       "      <th>1638</th>\n",
       "      <td>806629075125202948</td>\n",
       "      <td>https://pbs.twimg.com/media/CzG425nWgAAnP7P.jpg</td>\n",
       "      <td>2</td>\n",
       "      <td>Arabian_camel</td>\n",
       "      <td>0.366248</td>\n",
       "      <td>False</td>\n",
       "      <td>house_finch</td>\n",
       "      <td>0.209852</td>\n",
       "      <td>False</td>\n",
       "      <td>cocker_spaniel</td>\n",
       "      <td>0.046403</td>\n",
       "      <td>True</td>\n",
       "    </tr>\n",
       "    <tr>\n",
       "      <th>575</th>\n",
       "      <td>678643457146150913</td>\n",
       "      <td>https://pbs.twimg.com/media/CWsGnyMVEAAM1Y1.jpg</td>\n",
       "      <td>1</td>\n",
       "      <td>Labrador_retriever</td>\n",
       "      <td>0.338757</td>\n",
       "      <td>True</td>\n",
       "      <td>flat-coated_retriever</td>\n",
       "      <td>0.304470</td>\n",
       "      <td>True</td>\n",
       "      <td>chest</td>\n",
       "      <td>0.093392</td>\n",
       "      <td>False</td>\n",
       "    </tr>\n",
       "    <tr>\n",
       "      <th>1633</th>\n",
       "      <td>805932879469572096</td>\n",
       "      <td>https://pbs.twimg.com/media/Cy8_qt0UUAAHuuN.jpg</td>\n",
       "      <td>1</td>\n",
       "      <td>Norwegian_elkhound</td>\n",
       "      <td>0.657967</td>\n",
       "      <td>True</td>\n",
       "      <td>keeshond</td>\n",
       "      <td>0.319136</td>\n",
       "      <td>True</td>\n",
       "      <td>Leonberg</td>\n",
       "      <td>0.007947</td>\n",
       "      <td>True</td>\n",
       "    </tr>\n",
       "    <tr>\n",
       "      <th>1917</th>\n",
       "      <td>854732716440526848</td>\n",
       "      <td>https://pbs.twimg.com/media/C9ye3b3WAAAlTo0.jpg</td>\n",
       "      <td>1</td>\n",
       "      <td>Pembroke</td>\n",
       "      <td>0.695548</td>\n",
       "      <td>True</td>\n",
       "      <td>Cardigan</td>\n",
       "      <td>0.058902</td>\n",
       "      <td>True</td>\n",
       "      <td>chow</td>\n",
       "      <td>0.028411</td>\n",
       "      <td>True</td>\n",
       "    </tr>\n",
       "    <tr>\n",
       "      <th>118</th>\n",
       "      <td>668154635664932864</td>\n",
       "      <td>https://pbs.twimg.com/media/CUXDGR2WcAAUQKz.jpg</td>\n",
       "      <td>1</td>\n",
       "      <td>Arctic_fox</td>\n",
       "      <td>0.473584</td>\n",
       "      <td>False</td>\n",
       "      <td>wallaby</td>\n",
       "      <td>0.261411</td>\n",
       "      <td>False</td>\n",
       "      <td>white_wolf</td>\n",
       "      <td>0.080948</td>\n",
       "      <td>False</td>\n",
       "    </tr>\n",
       "    <tr>\n",
       "      <th>1166</th>\n",
       "      <td>735635087207878657</td>\n",
       "      <td>https://pbs.twimg.com/media/CjWANBlVAAAaN-a.jpg</td>\n",
       "      <td>1</td>\n",
       "      <td>pug</td>\n",
       "      <td>0.891871</td>\n",
       "      <td>True</td>\n",
       "      <td>goose</td>\n",
       "      <td>0.014377</td>\n",
       "      <td>False</td>\n",
       "      <td>fur_coat</td>\n",
       "      <td>0.008451</td>\n",
       "      <td>False</td>\n",
       "    </tr>\n",
       "    <tr>\n",
       "      <th>1934</th>\n",
       "      <td>859851578198683649</td>\n",
       "      <td>https://pbs.twimg.com/media/C-7OcfyXsAAsqzU.jpg</td>\n",
       "      <td>4</td>\n",
       "      <td>Labrador_retriever</td>\n",
       "      <td>0.899086</td>\n",
       "      <td>True</td>\n",
       "      <td>golden_retriever</td>\n",
       "      <td>0.047091</td>\n",
       "      <td>True</td>\n",
       "      <td>kuvasz</td>\n",
       "      <td>0.023206</td>\n",
       "      <td>True</td>\n",
       "    </tr>\n",
       "    <tr>\n",
       "      <th>225</th>\n",
       "      <td>670338931251150849</td>\n",
       "      <td>https://pbs.twimg.com/media/CU2FsRnVAAA3TEg.jpg</td>\n",
       "      <td>1</td>\n",
       "      <td>cairn</td>\n",
       "      <td>0.245033</td>\n",
       "      <td>True</td>\n",
       "      <td>West_Highland_white_terrier</td>\n",
       "      <td>0.137709</td>\n",
       "      <td>True</td>\n",
       "      <td>miniature_schnauzer</td>\n",
       "      <td>0.089173</td>\n",
       "      <td>True</td>\n",
       "    </tr>\n",
       "    <tr>\n",
       "      <th>1381</th>\n",
       "      <td>765371061932261376</td>\n",
       "      <td>https://pbs.twimg.com/media/Cp8k6oRWcAUL78U.jpg</td>\n",
       "      <td>2</td>\n",
       "      <td>golden_retriever</td>\n",
       "      <td>0.829456</td>\n",
       "      <td>True</td>\n",
       "      <td>Labrador_retriever</td>\n",
       "      <td>0.089371</td>\n",
       "      <td>True</td>\n",
       "      <td>kuvasz</td>\n",
       "      <td>0.017028</td>\n",
       "      <td>True</td>\n",
       "    </tr>\n",
       "  </tbody>\n",
       "</table>\n",
       "</div>"
      ],
      "text/plain": [
       "                tweet_id                                          jpg_url  \\\n",
       "1985  872261713294495745  https://pbs.twimg.com/media/DBrlZk2UQAAfAkd.jpg   \n",
       "1638  806629075125202948  https://pbs.twimg.com/media/CzG425nWgAAnP7P.jpg   \n",
       "575   678643457146150913  https://pbs.twimg.com/media/CWsGnyMVEAAM1Y1.jpg   \n",
       "1633  805932879469572096  https://pbs.twimg.com/media/Cy8_qt0UUAAHuuN.jpg   \n",
       "1917  854732716440526848  https://pbs.twimg.com/media/C9ye3b3WAAAlTo0.jpg   \n",
       "118   668154635664932864  https://pbs.twimg.com/media/CUXDGR2WcAAUQKz.jpg   \n",
       "1166  735635087207878657  https://pbs.twimg.com/media/CjWANBlVAAAaN-a.jpg   \n",
       "1934  859851578198683649  https://pbs.twimg.com/media/C-7OcfyXsAAsqzU.jpg   \n",
       "225   670338931251150849  https://pbs.twimg.com/media/CU2FsRnVAAA3TEg.jpg   \n",
       "1381  765371061932261376  https://pbs.twimg.com/media/Cp8k6oRWcAUL78U.jpg   \n",
       "\n",
       "      img_num                  p1   p1_conf  p1_dog  \\\n",
       "1985  2        Labrador_retriever  0.972019  True     \n",
       "1638  2        Arabian_camel       0.366248  False    \n",
       "575   1        Labrador_retriever  0.338757  True     \n",
       "1633  1        Norwegian_elkhound  0.657967  True     \n",
       "1917  1        Pembroke            0.695548  True     \n",
       "118   1        Arctic_fox          0.473584  False    \n",
       "1166  1        pug                 0.891871  True     \n",
       "1934  4        Labrador_retriever  0.899086  True     \n",
       "225   1        cairn               0.245033  True     \n",
       "1381  2        golden_retriever    0.829456  True     \n",
       "\n",
       "                               p2   p2_conf  p2_dog                        p3  \\\n",
       "1985  flat-coated_retriever        0.008178  True    Chesapeake_Bay_retriever   \n",
       "1638  house_finch                  0.209852  False   cocker_spaniel             \n",
       "575   flat-coated_retriever        0.304470  True    chest                      \n",
       "1633  keeshond                     0.319136  True    Leonberg                   \n",
       "1917  Cardigan                     0.058902  True    chow                       \n",
       "118   wallaby                      0.261411  False   white_wolf                 \n",
       "1166  goose                        0.014377  False   fur_coat                   \n",
       "1934  golden_retriever             0.047091  True    kuvasz                     \n",
       "225   West_Highland_white_terrier  0.137709  True    miniature_schnauzer        \n",
       "1381  Labrador_retriever           0.089371  True    kuvasz                     \n",
       "\n",
       "       p3_conf  p3_dog  \n",
       "1985  0.007359  True    \n",
       "1638  0.046403  True    \n",
       "575   0.093392  False   \n",
       "1633  0.007947  True    \n",
       "1917  0.028411  True    \n",
       "118   0.080948  False   \n",
       "1166  0.008451  False   \n",
       "1934  0.023206  True    \n",
       "225   0.089173  True    \n",
       "1381  0.017028  True    "
      ]
     },
     "execution_count": 35,
     "metadata": {},
     "output_type": "execute_result"
    }
   ],
   "source": [
    "# pick 10 samples\n",
    "df_image_prediction.sample(10)"
   ]
  },
  {
   "cell_type": "markdown",
   "metadata": {},
   "source": [
    "The predictions (p1, p2, p3) are **sometimes in lower case, sometimes in upper case** (connected by underscores), we should edit these strings to make them consistent. Besides, **not all the predictions are dogs**, they can be other objects (vacuum, sea_lion) that we need to deal with."
   ]
  },
  {
   "cell_type": "markdown",
   "metadata": {},
   "source": [
    "To find whether there are **duplicates** in the image_prediction, we can look at the jpg_url column."
   ]
  },
  {
   "cell_type": "code",
   "execution_count": 36,
   "metadata": {},
   "outputs": [
    {
     "data": {
      "text/plain": [
       "66"
      ]
     },
     "execution_count": 36,
     "metadata": {},
     "output_type": "execute_result"
    }
   ],
   "source": [
    "# duplicates in the dataframe by image url\n",
    "df_image_prediction.jpg_url.duplicated().sum()"
   ]
  },
  {
   "cell_type": "code",
   "execution_count": 37,
   "metadata": {},
   "outputs": [
    {
     "data": {
      "text/plain": [
       "0"
      ]
     },
     "execution_count": 37,
     "metadata": {},
     "output_type": "execute_result"
    }
   ],
   "source": [
    "# duplicates in the dataframe by tweet id\n",
    "df_image_prediction.tweet_id.duplicated().sum()"
   ]
  },
  {
   "cell_type": "code",
   "execution_count": 38,
   "metadata": {},
   "outputs": [
    {
     "data": {
      "text/plain": [
       "https://pbs.twimg.com/media/CtzKC7zXEAALfSo.jpg                                            2\n",
       "https://pbs.twimg.com/media/C4KHj-nWQAA3poV.jpg                                            2\n",
       "https://pbs.twimg.com/media/CvoBPWRWgAA4het.jpg                                            2\n",
       "https://pbs.twimg.com/media/CYLDikFWEAAIy1y.jpg                                            2\n",
       "https://pbs.twimg.com/ext_tw_video_thumb/815965888126062592/pu/img/JleSw4wRhgKDWQj5.jpg    2\n",
       "Name: jpg_url, dtype: int64"
      ]
     },
     "execution_count": 38,
     "metadata": {},
     "output_type": "execute_result"
    }
   ],
   "source": [
    "# appearance of identical image in df_image_prediction\n",
    "df_image_prediction.jpg_url.value_counts().head()"
   ]
  },
  {
   "cell_type": "code",
   "execution_count": 39,
   "metadata": {},
   "outputs": [
    {
     "data": {
      "text/html": [
       "<div>\n",
       "<style scoped>\n",
       "    .dataframe tbody tr th:only-of-type {\n",
       "        vertical-align: middle;\n",
       "    }\n",
       "\n",
       "    .dataframe tbody tr th {\n",
       "        vertical-align: top;\n",
       "    }\n",
       "\n",
       "    .dataframe thead th {\n",
       "        text-align: right;\n",
       "    }\n",
       "</style>\n",
       "<table border=\"1\" class=\"dataframe\">\n",
       "  <thead>\n",
       "    <tr style=\"text-align: right;\">\n",
       "      <th></th>\n",
       "      <th>tweet_id</th>\n",
       "      <th>jpg_url</th>\n",
       "      <th>img_num</th>\n",
       "      <th>p1</th>\n",
       "      <th>p1_conf</th>\n",
       "      <th>p1_dog</th>\n",
       "      <th>p2</th>\n",
       "      <th>p2_conf</th>\n",
       "      <th>p2_dog</th>\n",
       "      <th>p3</th>\n",
       "      <th>p3_conf</th>\n",
       "      <th>p3_dog</th>\n",
       "    </tr>\n",
       "  </thead>\n",
       "  <tbody>\n",
       "    <tr>\n",
       "      <th>1492</th>\n",
       "      <td>782969140009107456</td>\n",
       "      <td>https://pbs.twimg.com/media/Ct2qO5PXEAE6eB0.jpg</td>\n",
       "      <td>1</td>\n",
       "      <td>seat_belt</td>\n",
       "      <td>0.474292</td>\n",
       "      <td>False</td>\n",
       "      <td>golden_retriever</td>\n",
       "      <td>0.171393</td>\n",
       "      <td>True</td>\n",
       "      <td>Labrador_retriever</td>\n",
       "      <td>0.110592</td>\n",
       "      <td>True</td>\n",
       "    </tr>\n",
       "    <tr>\n",
       "      <th>1640</th>\n",
       "      <td>807059379405148160</td>\n",
       "      <td>https://pbs.twimg.com/media/Ct2qO5PXEAE6eB0.jpg</td>\n",
       "      <td>1</td>\n",
       "      <td>seat_belt</td>\n",
       "      <td>0.474292</td>\n",
       "      <td>False</td>\n",
       "      <td>golden_retriever</td>\n",
       "      <td>0.171393</td>\n",
       "      <td>True</td>\n",
       "      <td>Labrador_retriever</td>\n",
       "      <td>0.110592</td>\n",
       "      <td>True</td>\n",
       "    </tr>\n",
       "  </tbody>\n",
       "</table>\n",
       "</div>"
      ],
      "text/plain": [
       "                tweet_id                                          jpg_url  \\\n",
       "1492  782969140009107456  https://pbs.twimg.com/media/Ct2qO5PXEAE6eB0.jpg   \n",
       "1640  807059379405148160  https://pbs.twimg.com/media/Ct2qO5PXEAE6eB0.jpg   \n",
       "\n",
       "      img_num         p1   p1_conf  p1_dog                p2   p2_conf  \\\n",
       "1492  1        seat_belt  0.474292  False   golden_retriever  0.171393   \n",
       "1640  1        seat_belt  0.474292  False   golden_retriever  0.171393   \n",
       "\n",
       "      p2_dog                  p3   p3_conf  p3_dog  \n",
       "1492  True    Labrador_retriever  0.110592  True    \n",
       "1640  True    Labrador_retriever  0.110592  True    "
      ]
     },
     "execution_count": 39,
     "metadata": {},
     "output_type": "execute_result"
    }
   ],
   "source": [
    "# one duplicate example from the first link in the above cell outcome\n",
    "df_image_prediction[df_image_prediction.jpg_url == \"https://pbs.twimg.com/media/Ct2qO5PXEAE6eB0.jpg\"]"
   ]
  },
  {
   "cell_type": "markdown",
   "metadata": {},
   "source": [
    "In df_image_prediction, we need to deal with **66 duplicate entries**. However, we are lucky since these duplicate predictions are actually coming from retweet/reply, given there are no duplicates based on tweet id but only on url."
   ]
  },
  {
   "cell_type": "markdown",
   "metadata": {},
   "source": [
    "Let's count rows which predictions are not dogs at all."
   ]
  },
  {
   "cell_type": "code",
   "execution_count": 40,
   "metadata": {
    "scrolled": false
   },
   "outputs": [
    {
     "data": {
      "text/plain": [
       "tweet_id    324\n",
       "jpg_url     324\n",
       "img_num     324\n",
       "p1          324\n",
       "p1_conf     324\n",
       "p1_dog      324\n",
       "p2          324\n",
       "p2_conf     324\n",
       "p2_dog      324\n",
       "p3          324\n",
       "p3_conf     324\n",
       "p3_dog      324\n",
       "dtype: int64"
      ]
     },
     "execution_count": 40,
     "metadata": {},
     "output_type": "execute_result"
    }
   ],
   "source": [
    "# rows that all three predictions are not dogs\n",
    "df_image_prediction.query(\"p1_dog == False and p2_dog == False and p3_dog == False\").count()"
   ]
  },
  {
   "cell_type": "markdown",
   "metadata": {},
   "source": [
    "There are **324 rows**, the predictions of which don't have any dog at all. "
   ]
  },
  {
   "cell_type": "code",
   "execution_count": 41,
   "metadata": {},
   "outputs": [
    {
     "name": "stdout",
     "output_type": "stream",
     "text": [
      "True     1532\n",
      "False    543 \n",
      "Name: p1_dog, dtype: int64\n",
      "True     1553\n",
      "False    522 \n",
      "Name: p2_dog, dtype: int64\n",
      "True     1499\n",
      "False    576 \n",
      "Name: p3_dog, dtype: int64\n"
     ]
    }
   ],
   "source": [
    "# for each prediction, whether it's predicting dog or not\n",
    "print(df_image_prediction.p1_dog.value_counts())\n",
    "print(df_image_prediction.p2_dog.value_counts())\n",
    "print(df_image_prediction.p3_dog.value_counts())"
   ]
  },
  {
   "cell_type": "markdown",
   "metadata": {},
   "source": [
    "**There are rows that don't predict the object in the image as a dog**. The reasons are (1) the dogs are sometimes in the background; (2) the pictures don't have any dogs at all. Because we only want tweets with dogs, so we might drop non-dog rows in the cleaning section later."
   ]
  },
  {
   "cell_type": "markdown",
   "metadata": {},
   "source": [
    "##### df_tweet_json"
   ]
  },
  {
   "cell_type": "code",
   "execution_count": 42,
   "metadata": {},
   "outputs": [
    {
     "name": "stdout",
     "output_type": "stream",
     "text": [
      "<class 'pandas.core.frame.DataFrame'>\n",
      "RangeIndex: 2354 entries, 0 to 2353\n",
      "Data columns (total 4 columns):\n",
      "tweet_id          2354 non-null int64\n",
      "favorite_count    2354 non-null int64\n",
      "retweet_count     2354 non-null int64\n",
      "retweeted         2354 non-null bool\n",
      "dtypes: bool(1), int64(3)\n",
      "memory usage: 57.5 KB\n"
     ]
    }
   ],
   "source": [
    "# tweet_json info\n",
    "df_tweet_json.info()"
   ]
  },
  {
   "cell_type": "code",
   "execution_count": 43,
   "metadata": {},
   "outputs": [
    {
     "data": {
      "text/plain": [
       "0"
      ]
     },
     "execution_count": 43,
     "metadata": {},
     "output_type": "execute_result"
    }
   ],
   "source": [
    "# count duplicates\n",
    "df_tweet_json.tweet_id.duplicated().sum()"
   ]
  },
  {
   "cell_type": "markdown",
   "metadata": {},
   "source": [
    "For df_tweet_json, we **don't have any missing values or duplicates**."
   ]
  },
  {
   "cell_type": "code",
   "execution_count": 44,
   "metadata": {},
   "outputs": [
    {
     "data": {
      "text/html": [
       "<div>\n",
       "<style scoped>\n",
       "    .dataframe tbody tr th:only-of-type {\n",
       "        vertical-align: middle;\n",
       "    }\n",
       "\n",
       "    .dataframe tbody tr th {\n",
       "        vertical-align: top;\n",
       "    }\n",
       "\n",
       "    .dataframe thead th {\n",
       "        text-align: right;\n",
       "    }\n",
       "</style>\n",
       "<table border=\"1\" class=\"dataframe\">\n",
       "  <thead>\n",
       "    <tr style=\"text-align: right;\">\n",
       "      <th></th>\n",
       "      <th>tweet_id</th>\n",
       "      <th>favorite_count</th>\n",
       "      <th>retweet_count</th>\n",
       "      <th>retweeted</th>\n",
       "    </tr>\n",
       "  </thead>\n",
       "  <tbody>\n",
       "    <tr>\n",
       "      <th>1608</th>\n",
       "      <td>685532292383666176</td>\n",
       "      <td>3336</td>\n",
       "      <td>1298</td>\n",
       "      <td>False</td>\n",
       "    </tr>\n",
       "    <tr>\n",
       "      <th>1208</th>\n",
       "      <td>715680795826982913</td>\n",
       "      <td>4719</td>\n",
       "      <td>1813</td>\n",
       "      <td>False</td>\n",
       "    </tr>\n",
       "    <tr>\n",
       "      <th>89</th>\n",
       "      <td>874680097055178752</td>\n",
       "      <td>28439</td>\n",
       "      <td>4875</td>\n",
       "      <td>False</td>\n",
       "    </tr>\n",
       "    <tr>\n",
       "      <th>217</th>\n",
       "      <td>850333567704068097</td>\n",
       "      <td>3647</td>\n",
       "      <td>367</td>\n",
       "      <td>False</td>\n",
       "    </tr>\n",
       "    <tr>\n",
       "      <th>1781</th>\n",
       "      <td>677673981332312066</td>\n",
       "      <td>3603</td>\n",
       "      <td>1677</td>\n",
       "      <td>False</td>\n",
       "    </tr>\n",
       "  </tbody>\n",
       "</table>\n",
       "</div>"
      ],
      "text/plain": [
       "                tweet_id  favorite_count  retweet_count  retweeted\n",
       "1608  685532292383666176  3336            1298           False    \n",
       "1208  715680795826982913  4719            1813           False    \n",
       "89    874680097055178752  28439           4875           False    \n",
       "217   850333567704068097  3647            367            False    \n",
       "1781  677673981332312066  3603            1677           False    "
      ]
     },
     "execution_count": 44,
     "metadata": {},
     "output_type": "execute_result"
    }
   ],
   "source": [
    "# 5 samples from tweet_json\n",
    "df_tweet_json.sample(5)"
   ]
  },
  {
   "cell_type": "code",
   "execution_count": 45,
   "metadata": {},
   "outputs": [
    {
     "data": {
      "text/plain": [
       "False    2354\n",
       "Name: retweeted, dtype: int64"
      ]
     },
     "execution_count": 45,
     "metadata": {},
     "output_type": "execute_result"
    }
   ],
   "source": [
    "df_tweet_json.retweeted.value_counts()"
   ]
  },
  {
   "cell_type": "markdown",
   "metadata": {},
   "source": [
    "For the tweets in df_tweet_json, they are all **not from retweet**. Overall, tweet_json data looks fine."
   ]
  },
  {
   "cell_type": "markdown",
   "metadata": {},
   "source": [
    "##### Assessing Summary (11 quality issues and 2 tidiness issues)\n",
    "**quality (completeness, validity, accuracy, consistency):**\n",
    "\n",
    "**df_twitter_archive:**\n",
    "- there are missing values in the dataframe to deal with.\n",
    "- there are retweets and replies in the dataframe that we're not interested in.\n",
    "- the data type of timestamp should be change to datetime.\n",
    "- some ratings are not correctly extracted from the text, especially when the rating numerator is a float number. \n",
    "- sometimes there are more than one ratings for single tweet.\n",
    "- some of the dog names are wrong (with names like 'a', 'the', 'an').\n",
    "- many of the dogs don't have a dog type (doggo/floofer/pupper/puppo).\n",
    "\n",
    "**df_image_prediction:**\n",
    "- there are duplicate predictions from retweets that we're not interested in.\n",
    "- some pictures got predicted even though they don't show dogs.\n",
    "- the prediction results are inconsistent in using lower/upper case letters.\n",
    "- we should condense the 3 predictions into one based on the confidence level, it's redundent to analyze prediction with low confidence.\n",
    "\n",
    "**df_tweet_json:** this dataframe looks fine overall."
   ]
  },
  {
   "cell_type": "markdown",
   "metadata": {},
   "source": [
    "**Tidiness summary:**\n",
    "\n",
    "**df_twitter_archive:**\n",
    "- the four columns (doggo/floofer/pupper/puppo) should be combined into one because there are lots of 'None' values, it also makes the analysis easier.\n",
    "\n",
    "**df_image_prediction:** this dataframe looks fine overall.\n",
    "\n",
    "**df_tweet_json:**: this dataframe looks fine overall.\n",
    "\n",
    "**others:**\n",
    "- we should merge the three tables since they share tweet_id, it helps with analysis as well, e.g. we can easily compare tweet likes and dog ratings. "
   ]
  },
  {
   "cell_type": "markdown",
   "metadata": {},
   "source": [
    "### Cleaning Data"
   ]
  },
  {
   "cell_type": "markdown",
   "metadata": {},
   "source": [
    "Based on the quality and tidiness of the three dataframes (df_twitter_archive, df_image_prediction, df_tweet_json), I figured out the following **data cleaning steps:**\n",
    "- first, merge the three dataframes by tweet_id, which makes data cleaning easier to perform. e.g. if I'm to remove retweets from df_twitter_archive, I will have to do it for df_image_prediction as well. However, for the merged dataframe I only need to do this cleaning step once.\n",
    "- drop rows with missing values if they are not important for analysis.\n",
    "- change the data type of timestamp to datetime.\n",
    "- drop all the data related to reply or retweet.\n",
    "- drop columns we don't need for analysis.\n",
    "- correct the rating numerators, drop the row if there are multiple ratings.\n",
    "- fix the name if it's \"the, a, an, etc.\",\n",
    "- combine the dog type columns (doggo/floofer/pupper/puppo) into one column.\n",
    "- drop rows without image or image without dogs, extract the best dog prediction and confidence for each tweet."
   ]
  },
  {
   "cell_type": "markdown",
   "metadata": {},
   "source": [
    "I will use the **define-code-test** procedure to process each cleaning step."
   ]
  },
  {
   "cell_type": "markdown",
   "metadata": {},
   "source": [
    "**Define**\n",
    "- **Merge three dataframes**"
   ]
  },
  {
   "cell_type": "markdown",
   "metadata": {},
   "source": [
    "**Code**"
   ]
  },
  {
   "cell_type": "code",
   "execution_count": 46,
   "metadata": {},
   "outputs": [],
   "source": [
    "# make backup copies of three dataframes\n",
    "df_twitter_archive_copy = df_twitter_archive.copy()\n",
    "df_image_prediction_copy = df_image_prediction.copy()\n",
    "df_tweet_json_copy = df_tweet_json.copy()"
   ]
  },
  {
   "cell_type": "code",
   "execution_count": 47,
   "metadata": {
    "scrolled": false
   },
   "outputs": [],
   "source": [
    "# merge three dataframes into df_all\n",
    "df_all = pd.merge(df_twitter_archive_copy, df_image_prediction_copy, on = \"tweet_id\", how = \"outer\")\n",
    "df_all = pd.merge(df_all, df_tweet_json_copy, on = \"tweet_id\", how = \"outer\")"
   ]
  },
  {
   "cell_type": "markdown",
   "metadata": {},
   "source": [
    "**Test**"
   ]
  },
  {
   "cell_type": "code",
   "execution_count": 48,
   "metadata": {},
   "outputs": [
    {
     "name": "stdout",
     "output_type": "stream",
     "text": [
      "<class 'pandas.core.frame.DataFrame'>\n",
      "Int64Index: 2356 entries, 0 to 2355\n",
      "Data columns (total 32 columns):\n",
      "tweet_id                      2356 non-null int64\n",
      "in_reply_to_status_id         78 non-null float64\n",
      "in_reply_to_user_id           78 non-null float64\n",
      "timestamp                     2356 non-null object\n",
      "source                        2356 non-null object\n",
      "text                          2356 non-null object\n",
      "retweeted_status_id           181 non-null float64\n",
      "retweeted_status_user_id      181 non-null float64\n",
      "retweeted_status_timestamp    181 non-null object\n",
      "expanded_urls                 2297 non-null object\n",
      "rating_numerator              2356 non-null int64\n",
      "rating_denominator            2356 non-null int64\n",
      "name                          2356 non-null object\n",
      "doggo                         2356 non-null object\n",
      "floofer                       2356 non-null object\n",
      "pupper                        2356 non-null object\n",
      "puppo                         2356 non-null object\n",
      "rating_count                  2356 non-null int64\n",
      "jpg_url                       2075 non-null object\n",
      "img_num                       2075 non-null float64\n",
      "p1                            2075 non-null object\n",
      "p1_conf                       2075 non-null float64\n",
      "p1_dog                        2075 non-null object\n",
      "p2                            2075 non-null object\n",
      "p2_conf                       2075 non-null float64\n",
      "p2_dog                        2075 non-null object\n",
      "p3                            2075 non-null object\n",
      "p3_conf                       2075 non-null float64\n",
      "p3_dog                        2075 non-null object\n",
      "favorite_count                2354 non-null float64\n",
      "retweet_count                 2354 non-null float64\n",
      "retweeted                     2354 non-null object\n",
      "dtypes: float64(10), int64(4), object(18)\n",
      "memory usage: 607.4+ KB\n"
     ]
    }
   ],
   "source": [
    "df_all.info()"
   ]
  },
  {
   "cell_type": "markdown",
   "metadata": {},
   "source": [
    "**Define**\n",
    "- **Remove retweets**"
   ]
  },
  {
   "cell_type": "markdown",
   "metadata": {},
   "source": [
    "**Code**"
   ]
  },
  {
   "cell_type": "code",
   "execution_count": 49,
   "metadata": {
    "scrolled": false
   },
   "outputs": [],
   "source": [
    "# choose all the tweets without retweeted_status_id\n",
    "df_all = df_all[df_all[\"retweeted_status_id\"].isnull()]"
   ]
  },
  {
   "cell_type": "markdown",
   "metadata": {},
   "source": [
    "**Test**"
   ]
  },
  {
   "cell_type": "code",
   "execution_count": 50,
   "metadata": {},
   "outputs": [
    {
     "name": "stdout",
     "output_type": "stream",
     "text": [
      "<class 'pandas.core.frame.DataFrame'>\n",
      "Int64Index: 2175 entries, 0 to 2355\n",
      "Data columns (total 32 columns):\n",
      "tweet_id                      2175 non-null int64\n",
      "in_reply_to_status_id         78 non-null float64\n",
      "in_reply_to_user_id           78 non-null float64\n",
      "timestamp                     2175 non-null object\n",
      "source                        2175 non-null object\n",
      "text                          2175 non-null object\n",
      "retweeted_status_id           0 non-null float64\n",
      "retweeted_status_user_id      0 non-null float64\n",
      "retweeted_status_timestamp    0 non-null object\n",
      "expanded_urls                 2117 non-null object\n",
      "rating_numerator              2175 non-null int64\n",
      "rating_denominator            2175 non-null int64\n",
      "name                          2175 non-null object\n",
      "doggo                         2175 non-null object\n",
      "floofer                       2175 non-null object\n",
      "pupper                        2175 non-null object\n",
      "puppo                         2175 non-null object\n",
      "rating_count                  2175 non-null int64\n",
      "jpg_url                       1994 non-null object\n",
      "img_num                       1994 non-null float64\n",
      "p1                            1994 non-null object\n",
      "p1_conf                       1994 non-null float64\n",
      "p1_dog                        1994 non-null object\n",
      "p2                            1994 non-null object\n",
      "p2_conf                       1994 non-null float64\n",
      "p2_dog                        1994 non-null object\n",
      "p3                            1994 non-null object\n",
      "p3_conf                       1994 non-null float64\n",
      "p3_dog                        1994 non-null object\n",
      "favorite_count                2175 non-null float64\n",
      "retweet_count                 2175 non-null float64\n",
      "retweeted                     2175 non-null object\n",
      "dtypes: float64(10), int64(4), object(18)\n",
      "memory usage: 560.7+ KB\n"
     ]
    }
   ],
   "source": [
    "df_all.info()"
   ]
  },
  {
   "cell_type": "code",
   "execution_count": 51,
   "metadata": {},
   "outputs": [
    {
     "data": {
      "text/plain": [
       "False    2175\n",
       "Name: retweeted, dtype: int64"
      ]
     },
     "execution_count": 51,
     "metadata": {},
     "output_type": "execute_result"
    }
   ],
   "source": [
    "# check retweeted column to see if they are all false\n",
    "df_all['retweeted'].value_counts()"
   ]
  },
  {
   "cell_type": "markdown",
   "metadata": {},
   "source": [
    "**Define**\n",
    "- **Remove replies**"
   ]
  },
  {
   "cell_type": "markdown",
   "metadata": {},
   "source": [
    "**Code**"
   ]
  },
  {
   "cell_type": "code",
   "execution_count": 52,
   "metadata": {
    "scrolled": false
   },
   "outputs": [],
   "source": [
    "# similarly we only want tweets without reply status\n",
    "df_all = df_all[df_all[\"in_reply_to_status_id\"].isnull()]"
   ]
  },
  {
   "cell_type": "markdown",
   "metadata": {},
   "source": [
    "**Test**"
   ]
  },
  {
   "cell_type": "code",
   "execution_count": 53,
   "metadata": {},
   "outputs": [
    {
     "name": "stdout",
     "output_type": "stream",
     "text": [
      "<class 'pandas.core.frame.DataFrame'>\n",
      "Int64Index: 2097 entries, 0 to 2355\n",
      "Data columns (total 32 columns):\n",
      "tweet_id                      2097 non-null int64\n",
      "in_reply_to_status_id         0 non-null float64\n",
      "in_reply_to_user_id           0 non-null float64\n",
      "timestamp                     2097 non-null object\n",
      "source                        2097 non-null object\n",
      "text                          2097 non-null object\n",
      "retweeted_status_id           0 non-null float64\n",
      "retweeted_status_user_id      0 non-null float64\n",
      "retweeted_status_timestamp    0 non-null object\n",
      "expanded_urls                 2094 non-null object\n",
      "rating_numerator              2097 non-null int64\n",
      "rating_denominator            2097 non-null int64\n",
      "name                          2097 non-null object\n",
      "doggo                         2097 non-null object\n",
      "floofer                       2097 non-null object\n",
      "pupper                        2097 non-null object\n",
      "puppo                         2097 non-null object\n",
      "rating_count                  2097 non-null int64\n",
      "jpg_url                       1971 non-null object\n",
      "img_num                       1971 non-null float64\n",
      "p1                            1971 non-null object\n",
      "p1_conf                       1971 non-null float64\n",
      "p1_dog                        1971 non-null object\n",
      "p2                            1971 non-null object\n",
      "p2_conf                       1971 non-null float64\n",
      "p2_dog                        1971 non-null object\n",
      "p3                            1971 non-null object\n",
      "p3_conf                       1971 non-null float64\n",
      "p3_dog                        1971 non-null object\n",
      "favorite_count                2097 non-null float64\n",
      "retweet_count                 2097 non-null float64\n",
      "retweeted                     2097 non-null object\n",
      "dtypes: float64(10), int64(4), object(18)\n",
      "memory usage: 540.6+ KB\n"
     ]
    }
   ],
   "source": [
    "df_all.info()"
   ]
  },
  {
   "cell_type": "code",
   "execution_count": 54,
   "metadata": {},
   "outputs": [
    {
     "data": {
      "text/plain": [
       "Series([], Name: in_reply_to_status_id, dtype: int64)"
      ]
     },
     "execution_count": 54,
     "metadata": {},
     "output_type": "execute_result"
    }
   ],
   "source": [
    "# double check we don't have tweets from reply\n",
    "df_all.in_reply_to_status_id.value_counts()"
   ]
  },
  {
   "cell_type": "markdown",
   "metadata": {},
   "source": [
    "**Define**\n",
    "- **Drop unnecessary columns**"
   ]
  },
  {
   "cell_type": "markdown",
   "metadata": {},
   "source": [
    "**Code**"
   ]
  },
  {
   "cell_type": "code",
   "execution_count": 55,
   "metadata": {
    "scrolled": false
   },
   "outputs": [],
   "source": [
    "# drop columns we don't need\n",
    "df_all.drop([\"in_reply_to_status_id\", \"in_reply_to_user_id\", \"retweeted_status_id\",\n",
    "             \"retweeted_status_user_id\", \"retweeted_status_timestamp\", \"retweeted\"],\n",
    "            axis = 1, inplace = True)"
   ]
  },
  {
   "cell_type": "markdown",
   "metadata": {},
   "source": [
    "**Test**"
   ]
  },
  {
   "cell_type": "code",
   "execution_count": 56,
   "metadata": {},
   "outputs": [
    {
     "name": "stdout",
     "output_type": "stream",
     "text": [
      "<class 'pandas.core.frame.DataFrame'>\n",
      "Int64Index: 2097 entries, 0 to 2355\n",
      "Data columns (total 26 columns):\n",
      "tweet_id              2097 non-null int64\n",
      "timestamp             2097 non-null object\n",
      "source                2097 non-null object\n",
      "text                  2097 non-null object\n",
      "expanded_urls         2094 non-null object\n",
      "rating_numerator      2097 non-null int64\n",
      "rating_denominator    2097 non-null int64\n",
      "name                  2097 non-null object\n",
      "doggo                 2097 non-null object\n",
      "floofer               2097 non-null object\n",
      "pupper                2097 non-null object\n",
      "puppo                 2097 non-null object\n",
      "rating_count          2097 non-null int64\n",
      "jpg_url               1971 non-null object\n",
      "img_num               1971 non-null float64\n",
      "p1                    1971 non-null object\n",
      "p1_conf               1971 non-null float64\n",
      "p1_dog                1971 non-null object\n",
      "p2                    1971 non-null object\n",
      "p2_conf               1971 non-null float64\n",
      "p2_dog                1971 non-null object\n",
      "p3                    1971 non-null object\n",
      "p3_conf               1971 non-null float64\n",
      "p3_dog                1971 non-null object\n",
      "favorite_count        2097 non-null float64\n",
      "retweet_count         2097 non-null float64\n",
      "dtypes: float64(6), int64(4), object(16)\n",
      "memory usage: 442.3+ KB\n"
     ]
    }
   ],
   "source": [
    "df_all.info()"
   ]
  },
  {
   "cell_type": "markdown",
   "metadata": {},
   "source": [
    "**Define**\n",
    "- **Drop rows without image**"
   ]
  },
  {
   "cell_type": "markdown",
   "metadata": {},
   "source": [
    "**Code**"
   ]
  },
  {
   "cell_type": "code",
   "execution_count": 57,
   "metadata": {
    "scrolled": false
   },
   "outputs": [],
   "source": [
    "# get rid of rows without image\n",
    "df_all.dropna(subset = [\"jpg_url\"], inplace = True)"
   ]
  },
  {
   "cell_type": "markdown",
   "metadata": {},
   "source": [
    "**Test**"
   ]
  },
  {
   "cell_type": "code",
   "execution_count": 58,
   "metadata": {},
   "outputs": [
    {
     "name": "stdout",
     "output_type": "stream",
     "text": [
      "<class 'pandas.core.frame.DataFrame'>\n",
      "Int64Index: 1971 entries, 0 to 2355\n",
      "Data columns (total 26 columns):\n",
      "tweet_id              1971 non-null int64\n",
      "timestamp             1971 non-null object\n",
      "source                1971 non-null object\n",
      "text                  1971 non-null object\n",
      "expanded_urls         1971 non-null object\n",
      "rating_numerator      1971 non-null int64\n",
      "rating_denominator    1971 non-null int64\n",
      "name                  1971 non-null object\n",
      "doggo                 1971 non-null object\n",
      "floofer               1971 non-null object\n",
      "pupper                1971 non-null object\n",
      "puppo                 1971 non-null object\n",
      "rating_count          1971 non-null int64\n",
      "jpg_url               1971 non-null object\n",
      "img_num               1971 non-null float64\n",
      "p1                    1971 non-null object\n",
      "p1_conf               1971 non-null float64\n",
      "p1_dog                1971 non-null object\n",
      "p2                    1971 non-null object\n",
      "p2_conf               1971 non-null float64\n",
      "p2_dog                1971 non-null object\n",
      "p3                    1971 non-null object\n",
      "p3_conf               1971 non-null float64\n",
      "p3_dog                1971 non-null object\n",
      "favorite_count        1971 non-null float64\n",
      "retweet_count         1971 non-null float64\n",
      "dtypes: float64(6), int64(4), object(16)\n",
      "memory usage: 415.8+ KB\n"
     ]
    }
   ],
   "source": [
    "df_all.info()"
   ]
  },
  {
   "cell_type": "markdown",
   "metadata": {},
   "source": [
    "After finishing the previous steps, I found the dataframe now has **no missing values**, which is a good news."
   ]
  },
  {
   "cell_type": "markdown",
   "metadata": {},
   "source": [
    "**Define**\n",
    "- **Drop tweets that don't predict dogs in any of the 3 predictions**"
   ]
  },
  {
   "cell_type": "markdown",
   "metadata": {},
   "source": [
    "**Code**"
   ]
  },
  {
   "cell_type": "code",
   "execution_count": 59,
   "metadata": {
    "scrolled": false
   },
   "outputs": [],
   "source": [
    "df_all.drop(df_all.query(\"p1_dog == False and p2_dog == False and p3_dog == False\").index, inplace = True)"
   ]
  },
  {
   "cell_type": "markdown",
   "metadata": {},
   "source": [
    "**Test**"
   ]
  },
  {
   "cell_type": "code",
   "execution_count": 60,
   "metadata": {},
   "outputs": [
    {
     "name": "stdout",
     "output_type": "stream",
     "text": [
      "<class 'pandas.core.frame.DataFrame'>\n",
      "Int64Index: 1666 entries, 1 to 2355\n",
      "Data columns (total 26 columns):\n",
      "tweet_id              1666 non-null int64\n",
      "timestamp             1666 non-null object\n",
      "source                1666 non-null object\n",
      "text                  1666 non-null object\n",
      "expanded_urls         1666 non-null object\n",
      "rating_numerator      1666 non-null int64\n",
      "rating_denominator    1666 non-null int64\n",
      "name                  1666 non-null object\n",
      "doggo                 1666 non-null object\n",
      "floofer               1666 non-null object\n",
      "pupper                1666 non-null object\n",
      "puppo                 1666 non-null object\n",
      "rating_count          1666 non-null int64\n",
      "jpg_url               1666 non-null object\n",
      "img_num               1666 non-null float64\n",
      "p1                    1666 non-null object\n",
      "p1_conf               1666 non-null float64\n",
      "p1_dog                1666 non-null object\n",
      "p2                    1666 non-null object\n",
      "p2_conf               1666 non-null float64\n",
      "p2_dog                1666 non-null object\n",
      "p3                    1666 non-null object\n",
      "p3_conf               1666 non-null float64\n",
      "p3_dog                1666 non-null object\n",
      "favorite_count        1666 non-null float64\n",
      "retweet_count         1666 non-null float64\n",
      "dtypes: float64(6), int64(4), object(16)\n",
      "memory usage: 351.4+ KB\n"
     ]
    }
   ],
   "source": [
    "df_all.info()"
   ]
  },
  {
   "cell_type": "markdown",
   "metadata": {},
   "source": [
    "**Define**\n",
    "- **Fix duplicate images in image prediction**"
   ]
  },
  {
   "cell_type": "markdown",
   "metadata": {},
   "source": [
    "**Code/Test**"
   ]
  },
  {
   "cell_type": "code",
   "execution_count": 61,
   "metadata": {},
   "outputs": [
    {
     "data": {
      "text/plain": [
       "0"
      ]
     },
     "execution_count": 61,
     "metadata": {},
     "output_type": "execute_result"
    }
   ],
   "source": [
    "df_all.jpg_url.duplicated().sum()"
   ]
  },
  {
   "cell_type": "markdown",
   "metadata": {},
   "source": [
    "Since the duplicate images are from retweets and replies, it should already been removed after we dropped the retweets and replies, and it's true from the outcome above, we no longer have duplicate image predictions."
   ]
  },
  {
   "cell_type": "markdown",
   "metadata": {},
   "source": [
    "**Define**\n",
    "- **Fix wrong numerators**"
   ]
  },
  {
   "cell_type": "markdown",
   "metadata": {},
   "source": [
    "**Code**"
   ]
  },
  {
   "cell_type": "code",
   "execution_count": 62,
   "metadata": {
    "scrolled": false
   },
   "outputs": [
    {
     "data": {
      "text/html": [
       "<div>\n",
       "<style scoped>\n",
       "    .dataframe tbody tr th:only-of-type {\n",
       "        vertical-align: middle;\n",
       "    }\n",
       "\n",
       "    .dataframe tbody tr th {\n",
       "        vertical-align: top;\n",
       "    }\n",
       "\n",
       "    .dataframe thead th {\n",
       "        text-align: right;\n",
       "    }\n",
       "</style>\n",
       "<table border=\"1\" class=\"dataframe\">\n",
       "  <thead>\n",
       "    <tr style=\"text-align: right;\">\n",
       "      <th></th>\n",
       "      <th>tweet_id</th>\n",
       "      <th>text</th>\n",
       "      <th>rating_numerator</th>\n",
       "      <th>rating_denominator</th>\n",
       "    </tr>\n",
       "  </thead>\n",
       "  <tbody>\n",
       "    <tr>\n",
       "      <th>45</th>\n",
       "      <td>883482846933004288</td>\n",
       "      <td>This is Bella. She hopes her smile made you smile. If not, she is also offering you her favorite monkey. 13.5/10 https://t.co/qjrljjt948</td>\n",
       "      <td>5</td>\n",
       "      <td>10</td>\n",
       "    </tr>\n",
       "    <tr>\n",
       "      <th>695</th>\n",
       "      <td>786709082849828864</td>\n",
       "      <td>This is Logan, the Chow who lived. He solemnly swears he's up to lots of good. H*ckin magical af 9.75/10 https://t.co/yBO5wuqaPS</td>\n",
       "      <td>75</td>\n",
       "      <td>10</td>\n",
       "    </tr>\n",
       "    <tr>\n",
       "      <th>763</th>\n",
       "      <td>778027034220126208</td>\n",
       "      <td>This is Sophie. She's a Jubilant Bush Pupper. Super h*ckin rare. Appears at random just to smile at the locals. 11.27/10 would smile back https://t.co/QFaUiIHxHq</td>\n",
       "      <td>27</td>\n",
       "      <td>10</td>\n",
       "    </tr>\n",
       "    <tr>\n",
       "      <th>1712</th>\n",
       "      <td>680494726643068929</td>\n",
       "      <td>Here we have uncovered an entire battalion of holiday puppers. Average of 11.26/10 https://t.co/eNm2S6p9BD</td>\n",
       "      <td>26</td>\n",
       "      <td>10</td>\n",
       "    </tr>\n",
       "  </tbody>\n",
       "</table>\n",
       "</div>"
      ],
      "text/plain": [
       "                tweet_id  \\\n",
       "45    883482846933004288   \n",
       "695   786709082849828864   \n",
       "763   778027034220126208   \n",
       "1712  680494726643068929   \n",
       "\n",
       "                                                                                                                                                                   text  \\\n",
       "45                             This is Bella. She hopes her smile made you smile. If not, she is also offering you her favorite monkey. 13.5/10 https://t.co/qjrljjt948   \n",
       "695                                    This is Logan, the Chow who lived. He solemnly swears he's up to lots of good. H*ckin magical af 9.75/10 https://t.co/yBO5wuqaPS   \n",
       "763   This is Sophie. She's a Jubilant Bush Pupper. Super h*ckin rare. Appears at random just to smile at the locals. 11.27/10 would smile back https://t.co/QFaUiIHxHq   \n",
       "1712                                                         Here we have uncovered an entire battalion of holiday puppers. Average of 11.26/10 https://t.co/eNm2S6p9BD   \n",
       "\n",
       "      rating_numerator  rating_denominator  \n",
       "45                   5                  10  \n",
       "695                 75                  10  \n",
       "763                 27                  10  \n",
       "1712                26                  10  "
      ]
     },
     "metadata": {},
     "output_type": "display_data"
    }
   ],
   "source": [
    "# how many wrong numerators left in df_all now (4)\n",
    "pattern1 = \"(\\d+\\.\\d*\\/\\d+)\"\n",
    "with pd.option_context('max_colwidth', 200):\n",
    "    display(df_all[df_all['text'].str.contains(pattern1)]\n",
    "            [['tweet_id', 'text', 'rating_numerator', 'rating_denominator']])"
   ]
  },
  {
   "cell_type": "markdown",
   "metadata": {},
   "source": [
    "I will first extract the correct ratings from the original text of these 4 tweets."
   ]
  },
  {
   "cell_type": "code",
   "execution_count": 63,
   "metadata": {},
   "outputs": [
    {
     "data": {
      "text/plain": [
       "45      13.5/10 \n",
       "695     9.75/10 \n",
       "763     11.27/10\n",
       "1712    11.26/10\n",
       "Name: 0, dtype: object"
      ]
     },
     "execution_count": 63,
     "metadata": {},
     "output_type": "execute_result"
    }
   ],
   "source": [
    "# extract the ratings from the original text\n",
    "df_all[\"text\"].str.extract(pattern1, expand = True)[0].dropna()"
   ]
  },
  {
   "cell_type": "markdown",
   "metadata": {},
   "source": [
    "The correct rating numerators for these tweets at float numbers. To solve this issue, I changed the column type for rating numerator and denominator to **'float'**."
   ]
  },
  {
   "cell_type": "code",
   "execution_count": 64,
   "metadata": {},
   "outputs": [],
   "source": [
    "df_all.rating_numerator = df_all.rating_numerator.astype(\"float64\")\n",
    "df_all.rating_denominator = df_all.rating_denominator.astype(\"float64\")"
   ]
  },
  {
   "cell_type": "code",
   "execution_count": 65,
   "metadata": {
    "scrolled": false
   },
   "outputs": [
    {
     "name": "stdout",
     "output_type": "stream",
     "text": [
      "<class 'pandas.core.frame.DataFrame'>\n",
      "Int64Index: 1666 entries, 1 to 2355\n",
      "Data columns (total 26 columns):\n",
      "tweet_id              1666 non-null int64\n",
      "timestamp             1666 non-null object\n",
      "source                1666 non-null object\n",
      "text                  1666 non-null object\n",
      "expanded_urls         1666 non-null object\n",
      "rating_numerator      1666 non-null float64\n",
      "rating_denominator    1666 non-null float64\n",
      "name                  1666 non-null object\n",
      "doggo                 1666 non-null object\n",
      "floofer               1666 non-null object\n",
      "pupper                1666 non-null object\n",
      "puppo                 1666 non-null object\n",
      "rating_count          1666 non-null int64\n",
      "jpg_url               1666 non-null object\n",
      "img_num               1666 non-null float64\n",
      "p1                    1666 non-null object\n",
      "p1_conf               1666 non-null float64\n",
      "p1_dog                1666 non-null object\n",
      "p2                    1666 non-null object\n",
      "p2_conf               1666 non-null float64\n",
      "p2_dog                1666 non-null object\n",
      "p3                    1666 non-null object\n",
      "p3_conf               1666 non-null float64\n",
      "p3_dog                1666 non-null object\n",
      "favorite_count        1666 non-null float64\n",
      "retweet_count         1666 non-null float64\n",
      "dtypes: float64(8), int64(2), object(16)\n",
      "memory usage: 351.4+ KB\n"
     ]
    }
   ],
   "source": [
    "df_all.info()"
   ]
  },
  {
   "cell_type": "markdown",
   "metadata": {},
   "source": [
    "I decided to manually fix them since we only have 4 wrong entries."
   ]
  },
  {
   "cell_type": "code",
   "execution_count": 66,
   "metadata": {},
   "outputs": [],
   "source": [
    "# correct the rating numerators manually by tweet_id from previous cells\n",
    "df_all.loc[(df_all.tweet_id == 883482846933004288), 'rating_numerator'] = 13.5\n",
    "df_all.loc[(df_all.tweet_id == 786709082849828864), 'rating_numerator'] = 9.75\n",
    "df_all.loc[(df_all.tweet_id == 778027034220126208), 'rating_numerator'] = 11.27\n",
    "df_all.loc[(df_all.tweet_id == 680494726643068929), 'rating_numerator'] = 11.26"
   ]
  },
  {
   "cell_type": "markdown",
   "metadata": {},
   "source": [
    "**Test**"
   ]
  },
  {
   "cell_type": "code",
   "execution_count": 67,
   "metadata": {
    "scrolled": false
   },
   "outputs": [
    {
     "data": {
      "text/html": [
       "<div>\n",
       "<style scoped>\n",
       "    .dataframe tbody tr th:only-of-type {\n",
       "        vertical-align: middle;\n",
       "    }\n",
       "\n",
       "    .dataframe tbody tr th {\n",
       "        vertical-align: top;\n",
       "    }\n",
       "\n",
       "    .dataframe thead th {\n",
       "        text-align: right;\n",
       "    }\n",
       "</style>\n",
       "<table border=\"1\" class=\"dataframe\">\n",
       "  <thead>\n",
       "    <tr style=\"text-align: right;\">\n",
       "      <th></th>\n",
       "      <th>tweet_id</th>\n",
       "      <th>text</th>\n",
       "      <th>rating_numerator</th>\n",
       "      <th>rating_denominator</th>\n",
       "    </tr>\n",
       "  </thead>\n",
       "  <tbody>\n",
       "    <tr>\n",
       "      <th>45</th>\n",
       "      <td>883482846933004288</td>\n",
       "      <td>This is Bella. She hopes her smile made you smile. If not, she is also offering you her favorite monkey. 13.5/10 https://t.co/qjrljjt948</td>\n",
       "      <td>13.50</td>\n",
       "      <td>10.0</td>\n",
       "    </tr>\n",
       "    <tr>\n",
       "      <th>695</th>\n",
       "      <td>786709082849828864</td>\n",
       "      <td>This is Logan, the Chow who lived. He solemnly swears he's up to lots of good. H*ckin magical af 9.75/10 https://t.co/yBO5wuqaPS</td>\n",
       "      <td>9.75</td>\n",
       "      <td>10.0</td>\n",
       "    </tr>\n",
       "    <tr>\n",
       "      <th>763</th>\n",
       "      <td>778027034220126208</td>\n",
       "      <td>This is Sophie. She's a Jubilant Bush Pupper. Super h*ckin rare. Appears at random just to smile at the locals. 11.27/10 would smile back https://t.co/QFaUiIHxHq</td>\n",
       "      <td>11.27</td>\n",
       "      <td>10.0</td>\n",
       "    </tr>\n",
       "    <tr>\n",
       "      <th>1712</th>\n",
       "      <td>680494726643068929</td>\n",
       "      <td>Here we have uncovered an entire battalion of holiday puppers. Average of 11.26/10 https://t.co/eNm2S6p9BD</td>\n",
       "      <td>11.26</td>\n",
       "      <td>10.0</td>\n",
       "    </tr>\n",
       "  </tbody>\n",
       "</table>\n",
       "</div>"
      ],
      "text/plain": [
       "                tweet_id  \\\n",
       "45    883482846933004288   \n",
       "695   786709082849828864   \n",
       "763   778027034220126208   \n",
       "1712  680494726643068929   \n",
       "\n",
       "                                                                                                                                                                   text  \\\n",
       "45                             This is Bella. She hopes her smile made you smile. If not, she is also offering you her favorite monkey. 13.5/10 https://t.co/qjrljjt948   \n",
       "695                                    This is Logan, the Chow who lived. He solemnly swears he's up to lots of good. H*ckin magical af 9.75/10 https://t.co/yBO5wuqaPS   \n",
       "763   This is Sophie. She's a Jubilant Bush Pupper. Super h*ckin rare. Appears at random just to smile at the locals. 11.27/10 would smile back https://t.co/QFaUiIHxHq   \n",
       "1712                                                         Here we have uncovered an entire battalion of holiday puppers. Average of 11.26/10 https://t.co/eNm2S6p9BD   \n",
       "\n",
       "      rating_numerator  rating_denominator  \n",
       "45               13.50                10.0  \n",
       "695               9.75                10.0  \n",
       "763              11.27                10.0  \n",
       "1712             11.26                10.0  "
      ]
     },
     "metadata": {},
     "output_type": "display_data"
    }
   ],
   "source": [
    "# check to make sure the rating numerators are right now\n",
    "with pd.option_context('max_colwidth', 200):\n",
    "    display(df_all[df_all['text'].str.contains(pattern1)]\n",
    "            [['tweet_id', 'text', 'rating_numerator', 'rating_denominator']])"
   ]
  },
  {
   "cell_type": "markdown",
   "metadata": {},
   "source": [
    "The issue of rating numerators is solved, the other issue remains is that there are tweets with multiple ratings (on multiple dogs, or other object). I will simply drop them out."
   ]
  },
  {
   "cell_type": "markdown",
   "metadata": {},
   "source": [
    "**Define**\n",
    "- **Drop tweets with multiple ratings**"
   ]
  },
  {
   "cell_type": "markdown",
   "metadata": {},
   "source": [
    "**Code**"
   ]
  },
  {
   "cell_type": "code",
   "execution_count": 68,
   "metadata": {
    "scrolled": false
   },
   "outputs": [
    {
     "data": {
      "text/html": [
       "<div>\n",
       "<style scoped>\n",
       "    .dataframe tbody tr th:only-of-type {\n",
       "        vertical-align: middle;\n",
       "    }\n",
       "\n",
       "    .dataframe tbody tr th {\n",
       "        vertical-align: top;\n",
       "    }\n",
       "\n",
       "    .dataframe thead th {\n",
       "        text-align: right;\n",
       "    }\n",
       "</style>\n",
       "<table border=\"1\" class=\"dataframe\">\n",
       "  <thead>\n",
       "    <tr style=\"text-align: right;\">\n",
       "      <th></th>\n",
       "      <th>text</th>\n",
       "      <th>rating_count</th>\n",
       "    </tr>\n",
       "  </thead>\n",
       "  <tbody>\n",
       "    <tr>\n",
       "      <th>766</th>\n",
       "      <td>\"Yep... just as I suspected. You're not flossing.\" 12/10 and 11/10 for the pup not flossing https://t.co/SuXcI9B7pQ</td>\n",
       "      <td>2</td>\n",
       "    </tr>\n",
       "    <tr>\n",
       "      <th>1007</th>\n",
       "      <td>This is Bookstore and Seaweed. Bookstore is tired and Seaweed is an asshole. 10/10 and 7/10 respectively https://t.co/eUGjGjjFVJ</td>\n",
       "      <td>2</td>\n",
       "    </tr>\n",
       "    <tr>\n",
       "      <th>1068</th>\n",
       "      <td>After so many requests, this is Bretagne. She was the last surviving 9/11 search dog, and our second ever 14/10. RIP https://t.co/XAVDNDaVgQ</td>\n",
       "      <td>2</td>\n",
       "    </tr>\n",
       "    <tr>\n",
       "      <th>1165</th>\n",
       "      <td>Happy 4/20 from the squad! 13/10 for all https://t.co/eV1diwds8a</td>\n",
       "      <td>2</td>\n",
       "    </tr>\n",
       "    <tr>\n",
       "      <th>1202</th>\n",
       "      <td>This is Bluebert. He just saw that both #FinalFur match ups are split 50/50. Amazed af. 11/10 https://t.co/Kky1DPG4iq</td>\n",
       "      <td>2</td>\n",
       "    </tr>\n",
       "    <tr>\n",
       "      <th>1222</th>\n",
       "      <td>Meet Travis and Flurp. Travis is pretty chill but Flurp can't lie down properly. 10/10 &amp;amp; 8/10\\nget it together Flurp https://t.co/Akzl5ynMmE</td>\n",
       "      <td>2</td>\n",
       "    </tr>\n",
       "    <tr>\n",
       "      <th>1359</th>\n",
       "      <td>This is Socks. That water pup w the super legs just splashed him. Socks did not appreciate that. 9/10 and 2/10 https://t.co/8rc5I22bBf</td>\n",
       "      <td>2</td>\n",
       "    </tr>\n",
       "    <tr>\n",
       "      <th>1465</th>\n",
       "      <td>Meet Oliviér. He takes killer selfies. Has a dog of his own. It leaps at random &amp;amp; can't bark for shit. 10/10 &amp;amp; 5/10 https://t.co/6NgsQJuSBJ</td>\n",
       "      <td>2</td>\n",
       "    </tr>\n",
       "    <tr>\n",
       "      <th>1508</th>\n",
       "      <td>When bae says they can't go out but you see them with someone else that same night. 5/10 &amp;amp; 10/10 for heartbroken pup https://t.co/aenk0KpoWM</td>\n",
       "      <td>2</td>\n",
       "    </tr>\n",
       "    <tr>\n",
       "      <th>1525</th>\n",
       "      <td>This is Eriq. His friend just reminded him of last year's super bowl. Not cool friend\\n10/10 for Eriq\\n6/10 for friend https://t.co/PlEXTofdpf</td>\n",
       "      <td>2</td>\n",
       "    </tr>\n",
       "    <tr>\n",
       "      <th>1538</th>\n",
       "      <td>Meet Fynn &amp;amp; Taco. Fynn is an all-powerful leaf lord and Taco is in the wrong place at the wrong time. 11/10 &amp;amp; 10/10 https://t.co/MuqHPvtL8c</td>\n",
       "      <td>2</td>\n",
       "    </tr>\n",
       "    <tr>\n",
       "      <th>1662</th>\n",
       "      <td>This is Darrel. He just robbed a 7/11 and is in a high speed police chase. Was just spotted by the helicopter 10/10 https://t.co/7EsP8LmSp5</td>\n",
       "      <td>2</td>\n",
       "    </tr>\n",
       "    <tr>\n",
       "      <th>1795</th>\n",
       "      <td>Meet Tassy &amp;amp; Bee. Tassy is pretty chill, but Bee is convinced the Ruffles are haunted. 10/10 &amp;amp; 11/10 respectively https://t.co/fgORpmTN9C</td>\n",
       "      <td>2</td>\n",
       "    </tr>\n",
       "    <tr>\n",
       "      <th>1832</th>\n",
       "      <td>These two pups just met and have instantly bonded. Spectacular scene. Mesmerizing af. 10/10 and 7/10 for blue dog https://t.co/gwryaJO4tC</td>\n",
       "      <td>2</td>\n",
       "    </tr>\n",
       "    <tr>\n",
       "      <th>1897</th>\n",
       "      <td>Meet Rufio. He is unaware of the pink legless pupper wrapped around him. Might want to get that checked 10/10 &amp;amp; 4/10 https://t.co/KNfLnYPmYh</td>\n",
       "      <td>2</td>\n",
       "    </tr>\n",
       "    <tr>\n",
       "      <th>1901</th>\n",
       "      <td>Two gorgeous dogs here. Little waddling dog is a rebel. Refuses to look at camera. Must be a preteen. 5/10 &amp;amp; 8/10 https://t.co/YPfw7oahbD</td>\n",
       "      <td>2</td>\n",
       "    </tr>\n",
       "    <tr>\n",
       "      <th>1970</th>\n",
       "      <td>Meet Eve. She's a raging alcoholic 8/10 (would b 11/10 but pupper alcoholism is a tragic issue that I can't condone) https://t.co/U36HYQIijg</td>\n",
       "      <td>2</td>\n",
       "    </tr>\n",
       "    <tr>\n",
       "      <th>2010</th>\n",
       "      <td>10/10 for dog. 7/10 for cat. 12/10 for human. Much skill. Would pet all https://t.co/uhx5gfpx5k</td>\n",
       "      <td>3</td>\n",
       "    </tr>\n",
       "    <tr>\n",
       "      <th>2064</th>\n",
       "      <td>Meet Holly. She's trying to teach small human-like pup about blocks but he's not paying attention smh. 11/10 &amp;amp; 8/10 https://t.co/RcksaUrGNu</td>\n",
       "      <td>2</td>\n",
       "    </tr>\n",
       "    <tr>\n",
       "      <th>2113</th>\n",
       "      <td>Meet Hank and Sully. Hank is very proud of the pumpkin they found and Sully doesn't give a shit. 11/10 and 8/10 https://t.co/cwoP1ftbrj</td>\n",
       "      <td>2</td>\n",
       "    </tr>\n",
       "    <tr>\n",
       "      <th>2177</th>\n",
       "      <td>Here we have Pancho and Peaches. Pancho is a Condoleezza Gryffindor, and Peaches is just an asshole. 10/10 &amp;amp; 7/10 https://t.co/Lh1BsJrWPp</td>\n",
       "      <td>2</td>\n",
       "    </tr>\n",
       "    <tr>\n",
       "      <th>2216</th>\n",
       "      <td>This is Spark. He's nervous. Other dog hasn't moved in a while. Won't come when called. Doesn't fetch well 8/10&amp;amp;1/10 https://t.co/stEodX9Aba</td>\n",
       "      <td>2</td>\n",
       "    </tr>\n",
       "    <tr>\n",
       "      <th>2263</th>\n",
       "      <td>This is Kial. Kial is either wearing a cape, which would be rad, or flashing us, which would be rude. 10/10 or 4/10 https://t.co/8zcwIoiuqR</td>\n",
       "      <td>2</td>\n",
       "    </tr>\n",
       "    <tr>\n",
       "      <th>2272</th>\n",
       "      <td>Two dogs in this one. Both are rare Jujitsu Pythagoreans. One slightly whiter than other. Long legs. 7/10 and 8/10 https://t.co/ITxxcc4v9y</td>\n",
       "      <td>2</td>\n",
       "    </tr>\n",
       "    <tr>\n",
       "      <th>2306</th>\n",
       "      <td>These are Peruvian Feldspars. Their names are Cupit and Prencer. Both resemble Rand Paul. Sick outfits 10/10 &amp;amp; 10/10 https://t.co/ZnEMHBsAs1</td>\n",
       "      <td>2</td>\n",
       "    </tr>\n",
       "    <tr>\n",
       "      <th>2335</th>\n",
       "      <td>This is an Albanian 3 1/2 legged  Episcopalian. Loves well-polished hardwood flooring. Penis on the collar. 9/10 https://t.co/d9NcXFKwLv</td>\n",
       "      <td>2</td>\n",
       "    </tr>\n",
       "  </tbody>\n",
       "</table>\n",
       "</div>"
      ],
      "text/plain": [
       "                                                                                                                                                     text  \\\n",
       "766   \"Yep... just as I suspected. You're not flossing.\" 12/10 and 11/10 for the pup not flossing https://t.co/SuXcI9B7pQ                                   \n",
       "1007  This is Bookstore and Seaweed. Bookstore is tired and Seaweed is an asshole. 10/10 and 7/10 respectively https://t.co/eUGjGjjFVJ                      \n",
       "1068  After so many requests, this is Bretagne. She was the last surviving 9/11 search dog, and our second ever 14/10. RIP https://t.co/XAVDNDaVgQ          \n",
       "1165  Happy 4/20 from the squad! 13/10 for all https://t.co/eV1diwds8a                                                                                      \n",
       "1202  This is Bluebert. He just saw that both #FinalFur match ups are split 50/50. Amazed af. 11/10 https://t.co/Kky1DPG4iq                                 \n",
       "1222  Meet Travis and Flurp. Travis is pretty chill but Flurp can't lie down properly. 10/10 &amp; 8/10\\nget it together Flurp https://t.co/Akzl5ynMmE      \n",
       "1359  This is Socks. That water pup w the super legs just splashed him. Socks did not appreciate that. 9/10 and 2/10 https://t.co/8rc5I22bBf                \n",
       "1465  Meet Oliviér. He takes killer selfies. Has a dog of his own. It leaps at random &amp; can't bark for shit. 10/10 &amp; 5/10 https://t.co/6NgsQJuSBJ   \n",
       "1508  When bae says they can't go out but you see them with someone else that same night. 5/10 &amp; 10/10 for heartbroken pup https://t.co/aenk0KpoWM      \n",
       "1525  This is Eriq. His friend just reminded him of last year's super bowl. Not cool friend\\n10/10 for Eriq\\n6/10 for friend https://t.co/PlEXTofdpf        \n",
       "1538  Meet Fynn &amp; Taco. Fynn is an all-powerful leaf lord and Taco is in the wrong place at the wrong time. 11/10 &amp; 10/10 https://t.co/MuqHPvtL8c   \n",
       "1662  This is Darrel. He just robbed a 7/11 and is in a high speed police chase. Was just spotted by the helicopter 10/10 https://t.co/7EsP8LmSp5           \n",
       "1795  Meet Tassy &amp; Bee. Tassy is pretty chill, but Bee is convinced the Ruffles are haunted. 10/10 &amp; 11/10 respectively https://t.co/fgORpmTN9C     \n",
       "1832  These two pups just met and have instantly bonded. Spectacular scene. Mesmerizing af. 10/10 and 7/10 for blue dog https://t.co/gwryaJO4tC             \n",
       "1897  Meet Rufio. He is unaware of the pink legless pupper wrapped around him. Might want to get that checked 10/10 &amp; 4/10 https://t.co/KNfLnYPmYh      \n",
       "1901  Two gorgeous dogs here. Little waddling dog is a rebel. Refuses to look at camera. Must be a preteen. 5/10 &amp; 8/10 https://t.co/YPfw7oahbD         \n",
       "1970  Meet Eve. She's a raging alcoholic 8/10 (would b 11/10 but pupper alcoholism is a tragic issue that I can't condone) https://t.co/U36HYQIijg          \n",
       "2010  10/10 for dog. 7/10 for cat. 12/10 for human. Much skill. Would pet all https://t.co/uhx5gfpx5k                                                       \n",
       "2064  Meet Holly. She's trying to teach small human-like pup about blocks but he's not paying attention smh. 11/10 &amp; 8/10 https://t.co/RcksaUrGNu       \n",
       "2113  Meet Hank and Sully. Hank is very proud of the pumpkin they found and Sully doesn't give a shit. 11/10 and 8/10 https://t.co/cwoP1ftbrj               \n",
       "2177  Here we have Pancho and Peaches. Pancho is a Condoleezza Gryffindor, and Peaches is just an asshole. 10/10 &amp; 7/10 https://t.co/Lh1BsJrWPp         \n",
       "2216  This is Spark. He's nervous. Other dog hasn't moved in a while. Won't come when called. Doesn't fetch well 8/10&amp;1/10 https://t.co/stEodX9Aba      \n",
       "2263  This is Kial. Kial is either wearing a cape, which would be rad, or flashing us, which would be rude. 10/10 or 4/10 https://t.co/8zcwIoiuqR           \n",
       "2272  Two dogs in this one. Both are rare Jujitsu Pythagoreans. One slightly whiter than other. Long legs. 7/10 and 8/10 https://t.co/ITxxcc4v9y            \n",
       "2306  These are Peruvian Feldspars. Their names are Cupit and Prencer. Both resemble Rand Paul. Sick outfits 10/10 &amp; 10/10 https://t.co/ZnEMHBsAs1      \n",
       "2335  This is an Albanian 3 1/2 legged  Episcopalian. Loves well-polished hardwood flooring. Penis on the collar. 9/10 https://t.co/d9NcXFKwLv              \n",
       "\n",
       "      rating_count  \n",
       "766   2             \n",
       "1007  2             \n",
       "1068  2             \n",
       "1165  2             \n",
       "1202  2             \n",
       "1222  2             \n",
       "1359  2             \n",
       "1465  2             \n",
       "1508  2             \n",
       "1525  2             \n",
       "1538  2             \n",
       "1662  2             \n",
       "1795  2             \n",
       "1832  2             \n",
       "1897  2             \n",
       "1901  2             \n",
       "1970  2             \n",
       "2010  3             \n",
       "2064  2             \n",
       "2113  2             \n",
       "2177  2             \n",
       "2216  2             \n",
       "2263  2             \n",
       "2272  2             \n",
       "2306  2             \n",
       "2335  2             "
      ]
     },
     "execution_count": 68,
     "metadata": {},
     "output_type": "execute_result"
    }
   ],
   "source": [
    "# query tweets with two or more ratings\n",
    "df_all[[\"text\", \"rating_count\"]].query(\"rating_count != 1\")"
   ]
  },
  {
   "cell_type": "code",
   "execution_count": 69,
   "metadata": {},
   "outputs": [],
   "source": [
    "# drop tweets with multiple ratings\n",
    "df_all.drop(df_all.query(\"rating_count != 1\").index, inplace = True)"
   ]
  },
  {
   "cell_type": "markdown",
   "metadata": {},
   "source": [
    "**Test**"
   ]
  },
  {
   "cell_type": "code",
   "execution_count": 70,
   "metadata": {},
   "outputs": [
    {
     "data": {
      "text/html": [
       "<div>\n",
       "<style scoped>\n",
       "    .dataframe tbody tr th:only-of-type {\n",
       "        vertical-align: middle;\n",
       "    }\n",
       "\n",
       "    .dataframe tbody tr th {\n",
       "        vertical-align: top;\n",
       "    }\n",
       "\n",
       "    .dataframe thead th {\n",
       "        text-align: right;\n",
       "    }\n",
       "</style>\n",
       "<table border=\"1\" class=\"dataframe\">\n",
       "  <thead>\n",
       "    <tr style=\"text-align: right;\">\n",
       "      <th></th>\n",
       "      <th>text</th>\n",
       "      <th>rating_count</th>\n",
       "    </tr>\n",
       "  </thead>\n",
       "  <tbody>\n",
       "  </tbody>\n",
       "</table>\n",
       "</div>"
      ],
      "text/plain": [
       "Empty DataFrame\n",
       "Columns: [text, rating_count]\n",
       "Index: []"
      ]
     },
     "execution_count": 70,
     "metadata": {},
     "output_type": "execute_result"
    }
   ],
   "source": [
    "# double check they are dropped\n",
    "df_all[[\"text\", \"rating_count\"]].query(\"rating_count != 1\")"
   ]
  },
  {
   "cell_type": "code",
   "execution_count": 71,
   "metadata": {
    "scrolled": false
   },
   "outputs": [
    {
     "name": "stdout",
     "output_type": "stream",
     "text": [
      "<class 'pandas.core.frame.DataFrame'>\n",
      "Int64Index: 1640 entries, 1 to 2355\n",
      "Data columns (total 26 columns):\n",
      "tweet_id              1640 non-null int64\n",
      "timestamp             1640 non-null object\n",
      "source                1640 non-null object\n",
      "text                  1640 non-null object\n",
      "expanded_urls         1640 non-null object\n",
      "rating_numerator      1640 non-null float64\n",
      "rating_denominator    1640 non-null float64\n",
      "name                  1640 non-null object\n",
      "doggo                 1640 non-null object\n",
      "floofer               1640 non-null object\n",
      "pupper                1640 non-null object\n",
      "puppo                 1640 non-null object\n",
      "rating_count          1640 non-null int64\n",
      "jpg_url               1640 non-null object\n",
      "img_num               1640 non-null float64\n",
      "p1                    1640 non-null object\n",
      "p1_conf               1640 non-null float64\n",
      "p1_dog                1640 non-null object\n",
      "p2                    1640 non-null object\n",
      "p2_conf               1640 non-null float64\n",
      "p2_dog                1640 non-null object\n",
      "p3                    1640 non-null object\n",
      "p3_conf               1640 non-null float64\n",
      "p3_dog                1640 non-null object\n",
      "favorite_count        1640 non-null float64\n",
      "retweet_count         1640 non-null float64\n",
      "dtypes: float64(8), int64(2), object(16)\n",
      "memory usage: 345.9+ KB\n"
     ]
    }
   ],
   "source": [
    "df_all.info()"
   ]
  },
  {
   "cell_type": "markdown",
   "metadata": {},
   "source": [
    "**Define**\n",
    "- **Combine dog stage columns into one column named 'dog_stage'**"
   ]
  },
  {
   "cell_type": "markdown",
   "metadata": {},
   "source": [
    "**Code**"
   ]
  },
  {
   "cell_type": "code",
   "execution_count": 72,
   "metadata": {},
   "outputs": [
    {
     "name": "stdout",
     "output_type": "stream",
     "text": [
      "64\n",
      "3\n",
      "182\n",
      "27\n"
     ]
    }
   ],
   "source": [
    "# find how many dogs are classfied in each of the dog stage\n",
    "print (df_all[df_all['text'].str.contains('doggo')].shape[0])\n",
    "print (df_all[df_all['text'].str.contains('floofer')].shape[0])\n",
    "print (df_all[df_all['text'].str.contains('pupper')].shape[0])\n",
    "print (df_all[df_all['text'].str.contains('puppo')].shape[0])"
   ]
  },
  {
   "cell_type": "markdown",
   "metadata": {},
   "source": [
    "I will replace all the 'None' as '', then concatenate four columns using string addition, store the final string into a column called dog_stage."
   ]
  },
  {
   "cell_type": "code",
   "execution_count": 73,
   "metadata": {},
   "outputs": [],
   "source": [
    "for _ in [\"doggo\", \"floofer\", \"pupper\", \"puppo\"]:\n",
    "    df_all[_].replace(\"None\", \"\", inplace = True)\n",
    "\n",
    "df_all['dog_stage'] = df_all['doggo'].map(str) + df_all['floofer'].map(str) + df_all['pupper'].map(str) + df_all['puppo'].map(str)\n",
    "df_all[\"dog_stage\"].replace(\"\", 'None', inplace = True)"
   ]
  },
  {
   "cell_type": "code",
   "execution_count": 74,
   "metadata": {},
   "outputs": [
    {
     "data": {
      "text/plain": [
       "None            1385\n",
       "pupper          164 \n",
       "doggo           54  \n",
       "puppo           21  \n",
       "doggopupper     7   \n",
       "floofer         7   \n",
       "doggopuppo      1   \n",
       "doggofloofer    1   \n",
       "Name: dog_stage, dtype: int64"
      ]
     },
     "execution_count": 74,
     "metadata": {},
     "output_type": "execute_result"
    }
   ],
   "source": [
    "df_all['dog_stage'].value_counts()"
   ]
  },
  {
   "cell_type": "markdown",
   "metadata": {},
   "source": [
    "It's interesting that there are dogs in more than one categories, because we have dog_stage like doggopupper, let's check the details of these 9 rows."
   ]
  },
  {
   "cell_type": "code",
   "execution_count": 75,
   "metadata": {
    "scrolled": false
   },
   "outputs": [
    {
     "data": {
      "text/html": [
       "<div>\n",
       "<style scoped>\n",
       "    .dataframe tbody tr th:only-of-type {\n",
       "        vertical-align: middle;\n",
       "    }\n",
       "\n",
       "    .dataframe tbody tr th {\n",
       "        vertical-align: top;\n",
       "    }\n",
       "\n",
       "    .dataframe thead th {\n",
       "        text-align: right;\n",
       "    }\n",
       "</style>\n",
       "<table border=\"1\" class=\"dataframe\">\n",
       "  <thead>\n",
       "    <tr style=\"text-align: right;\">\n",
       "      <th></th>\n",
       "      <th>text</th>\n",
       "      <th>dog_stage</th>\n",
       "    </tr>\n",
       "  </thead>\n",
       "  <tbody>\n",
       "    <tr>\n",
       "      <th>191</th>\n",
       "      <td>Here's a puppo participating in the #ScienceMarch. Cleverly disguising her own doggo agenda. 13/10 would keep the planet habitable for https://t.co/cMhq16isel</td>\n",
       "      <td>doggopuppo</td>\n",
       "    </tr>\n",
       "    <tr>\n",
       "      <th>200</th>\n",
       "      <td>At first I thought this was a shy doggo, but it's actually a Rare Canadian Floofer Owl. Amateurs would confuse the two. 11/10 only send dogs https://t.co/TXdT3tmuYk</td>\n",
       "      <td>doggofloofer</td>\n",
       "    </tr>\n",
       "    <tr>\n",
       "      <th>460</th>\n",
       "      <td>This is Dido. She's playing the lead role in \"Pupper Stops to Catch Snow Before Resuming Shadow Box with Dried Apple.\" 13/10 (IG: didodoggo) https://t.co/m7isZrOBX7</td>\n",
       "      <td>doggopupper</td>\n",
       "    </tr>\n",
       "    <tr>\n",
       "      <th>531</th>\n",
       "      <td>Here we have Burke (pupper) and Dexter (doggo). Pupper wants to be exactly like doggo. Both 12/10 would pet at same time https://t.co/ANBpEYHaho</td>\n",
       "      <td>doggopupper</td>\n",
       "    </tr>\n",
       "    <tr>\n",
       "      <th>575</th>\n",
       "      <td>This is Bones. He's being haunted by another doggo of roughly the same size. 12/10 deep breaths pupper everything's fine https://t.co/55Dqe0SJNj</td>\n",
       "      <td>doggopupper</td>\n",
       "    </tr>\n",
       "    <tr>\n",
       "      <th>889</th>\n",
       "      <td>Meet Maggie &amp;amp; Lila. Maggie is the doggo, Lila is the pupper. They are sisters. Both 12/10 would pet at the same time https://t.co/MYwR4DQKll</td>\n",
       "      <td>doggopupper</td>\n",
       "    </tr>\n",
       "    <tr>\n",
       "      <th>956</th>\n",
       "      <td>Please stop sending it pictures that don't even have a doggo or pupper in them. Churlish af. 5/10 neat couch tho https://t.co/u2c9c7qSg8</td>\n",
       "      <td>doggopupper</td>\n",
       "    </tr>\n",
       "    <tr>\n",
       "      <th>1063</th>\n",
       "      <td>This is just downright precious af. 12/10 for both pupper and doggo https://t.co/o5J479bZUC</td>\n",
       "      <td>doggopupper</td>\n",
       "    </tr>\n",
       "    <tr>\n",
       "      <th>1113</th>\n",
       "      <td>Like father (doggo), like son (pupper). Both 12/10 https://t.co/pG2inLaOda</td>\n",
       "      <td>doggopupper</td>\n",
       "    </tr>\n",
       "  </tbody>\n",
       "</table>\n",
       "</div>"
      ],
      "text/plain": [
       "                                                                                                                                                                      text  \\\n",
       "191   Here's a puppo participating in the #ScienceMarch. Cleverly disguising her own doggo agenda. 13/10 would keep the planet habitable for https://t.co/cMhq16isel         \n",
       "200   At first I thought this was a shy doggo, but it's actually a Rare Canadian Floofer Owl. Amateurs would confuse the two. 11/10 only send dogs https://t.co/TXdT3tmuYk   \n",
       "460   This is Dido. She's playing the lead role in \"Pupper Stops to Catch Snow Before Resuming Shadow Box with Dried Apple.\" 13/10 (IG: didodoggo) https://t.co/m7isZrOBX7   \n",
       "531   Here we have Burke (pupper) and Dexter (doggo). Pupper wants to be exactly like doggo. Both 12/10 would pet at same time https://t.co/ANBpEYHaho                       \n",
       "575   This is Bones. He's being haunted by another doggo of roughly the same size. 12/10 deep breaths pupper everything's fine https://t.co/55Dqe0SJNj                       \n",
       "889   Meet Maggie &amp; Lila. Maggie is the doggo, Lila is the pupper. They are sisters. Both 12/10 would pet at the same time https://t.co/MYwR4DQKll                       \n",
       "956   Please stop sending it pictures that don't even have a doggo or pupper in them. Churlish af. 5/10 neat couch tho https://t.co/u2c9c7qSg8                               \n",
       "1063  This is just downright precious af. 12/10 for both pupper and doggo https://t.co/o5J479bZUC                                                                            \n",
       "1113  Like father (doggo), like son (pupper). Both 12/10 https://t.co/pG2inLaOda                                                                                             \n",
       "\n",
       "         dog_stage  \n",
       "191   doggopuppo    \n",
       "200   doggofloofer  \n",
       "460   doggopupper   \n",
       "531   doggopupper   \n",
       "575   doggopupper   \n",
       "889   doggopupper   \n",
       "956   doggopupper   \n",
       "1063  doggopupper   \n",
       "1113  doggopupper   "
      ]
     },
     "execution_count": 75,
     "metadata": {},
     "output_type": "execute_result"
    }
   ],
   "source": [
    "# 9 rows has multiple stages\n",
    "df_all[['text', 'dog_stage']].query(\"dog_stage == 'doggopupper' or dog_stage == 'doggofloofer' or dog_stage == 'doggopuppo'\")"
   ]
  },
  {
   "cell_type": "markdown",
   "metadata": {},
   "source": [
    "I read through the text and extracted the correct dog_stage based on the pictures, the results are as follows."
   ]
  },
  {
   "cell_type": "code",
   "execution_count": 77,
   "metadata": {},
   "outputs": [],
   "source": [
    "# handle multiple stages\n",
    "df_all.loc[df_all.dog_stage == 'doggopupper', 'dog_stage'] = 'doggo, pupper'\n",
    "df_all.loc[df_all.dog_stage == 'doggopuppo', 'dog_stage'] = 'doggo, puppo'\n",
    "df_all.loc[df_all.dog_stage == 'doggofloofer', 'dog_stage'] = 'doggo, floofer'\n",
    "\n",
    "# handle missing values\n",
    "df_all.loc[df_all.dog_stage == '', 'dog_stage'] = 'None'"
   ]
  },
  {
   "cell_type": "code",
   "execution_count": 78,
   "metadata": {},
   "outputs": [
    {
     "data": {
      "text/plain": [
       "None              1385\n",
       "pupper            164 \n",
       "doggo             54  \n",
       "puppo             21  \n",
       "doggo, pupper     7   \n",
       "floofer           7   \n",
       "doggo, puppo      1   \n",
       "doggo, floofer    1   \n",
       "Name: dog_stage, dtype: int64"
      ]
     },
     "execution_count": 78,
     "metadata": {},
     "output_type": "execute_result"
    }
   ],
   "source": [
    "# recheck the dog_stage, now they are all correct\n",
    "df_all['dog_stage'].value_counts()"
   ]
  },
  {
   "cell_type": "code",
   "execution_count": 79,
   "metadata": {},
   "outputs": [],
   "source": [
    "# drop the 'doggo','floofer','pupper','puppo' columns\n",
    "df_all = df_all.drop(['doggo','floofer','pupper','puppo'], axis=1)\n",
    "df_all['dog_stage'].fillna('None', inplace=True)"
   ]
  },
  {
   "cell_type": "markdown",
   "metadata": {},
   "source": [
    "**Test**"
   ]
  },
  {
   "cell_type": "code",
   "execution_count": 80,
   "metadata": {},
   "outputs": [
    {
     "data": {
      "text/html": [
       "<div>\n",
       "<style scoped>\n",
       "    .dataframe tbody tr th:only-of-type {\n",
       "        vertical-align: middle;\n",
       "    }\n",
       "\n",
       "    .dataframe tbody tr th {\n",
       "        vertical-align: top;\n",
       "    }\n",
       "\n",
       "    .dataframe thead th {\n",
       "        text-align: right;\n",
       "    }\n",
       "</style>\n",
       "<table border=\"1\" class=\"dataframe\">\n",
       "  <thead>\n",
       "    <tr style=\"text-align: right;\">\n",
       "      <th></th>\n",
       "      <th>tweet_id</th>\n",
       "      <th>timestamp</th>\n",
       "      <th>source</th>\n",
       "      <th>text</th>\n",
       "      <th>expanded_urls</th>\n",
       "      <th>rating_numerator</th>\n",
       "      <th>rating_denominator</th>\n",
       "      <th>name</th>\n",
       "      <th>rating_count</th>\n",
       "      <th>jpg_url</th>\n",
       "      <th>...</th>\n",
       "      <th>p1_dog</th>\n",
       "      <th>p2</th>\n",
       "      <th>p2_conf</th>\n",
       "      <th>p2_dog</th>\n",
       "      <th>p3</th>\n",
       "      <th>p3_conf</th>\n",
       "      <th>p3_dog</th>\n",
       "      <th>favorite_count</th>\n",
       "      <th>retweet_count</th>\n",
       "      <th>dog_stage</th>\n",
       "    </tr>\n",
       "  </thead>\n",
       "  <tbody>\n",
       "    <tr>\n",
       "      <th>1</th>\n",
       "      <td>892177421306343426</td>\n",
       "      <td>2017-08-01 00:17:27 +0000</td>\n",
       "      <td>&lt;a href=\"http://twitter.com/download/iphone\" rel=\"nofollow\"&gt;Twitter for iPhone&lt;/a&gt;</td>\n",
       "      <td>This is Tilly. She's just checking pup on you. Hopes you're doing ok. If not, she's available for pats, snugs, boops, the whole bit. 13/10 https://t.co/0Xxu71qeIV</td>\n",
       "      <td>https://twitter.com/dog_rates/status/892177421306343426/photo/1</td>\n",
       "      <td>13.0</td>\n",
       "      <td>10.0</td>\n",
       "      <td>Tilly</td>\n",
       "      <td>1</td>\n",
       "      <td>https://pbs.twimg.com/media/DGGmoV4XsAAUL6n.jpg</td>\n",
       "      <td>...</td>\n",
       "      <td>True</td>\n",
       "      <td>Pekinese</td>\n",
       "      <td>0.090647</td>\n",
       "      <td>True</td>\n",
       "      <td>papillon</td>\n",
       "      <td>0.068957</td>\n",
       "      <td>True</td>\n",
       "      <td>33819.0</td>\n",
       "      <td>6514.0</td>\n",
       "      <td>None</td>\n",
       "    </tr>\n",
       "    <tr>\n",
       "      <th>2</th>\n",
       "      <td>891815181378084864</td>\n",
       "      <td>2017-07-31 00:18:03 +0000</td>\n",
       "      <td>&lt;a href=\"http://twitter.com/download/iphone\" rel=\"nofollow\"&gt;Twitter for iPhone&lt;/a&gt;</td>\n",
       "      <td>This is Archie. He is a rare Norwegian Pouncing Corgo. Lives in the tall grass. You never know when one may strike. 12/10 https://t.co/wUnZnhtVJB</td>\n",
       "      <td>https://twitter.com/dog_rates/status/891815181378084864/photo/1</td>\n",
       "      <td>12.0</td>\n",
       "      <td>10.0</td>\n",
       "      <td>Archie</td>\n",
       "      <td>1</td>\n",
       "      <td>https://pbs.twimg.com/media/DGBdLU1WsAANxJ9.jpg</td>\n",
       "      <td>...</td>\n",
       "      <td>True</td>\n",
       "      <td>malamute</td>\n",
       "      <td>0.078253</td>\n",
       "      <td>True</td>\n",
       "      <td>kelpie</td>\n",
       "      <td>0.031379</td>\n",
       "      <td>True</td>\n",
       "      <td>25461.0</td>\n",
       "      <td>4328.0</td>\n",
       "      <td>None</td>\n",
       "    </tr>\n",
       "    <tr>\n",
       "      <th>3</th>\n",
       "      <td>891689557279858688</td>\n",
       "      <td>2017-07-30 15:58:51 +0000</td>\n",
       "      <td>&lt;a href=\"http://twitter.com/download/iphone\" rel=\"nofollow\"&gt;Twitter for iPhone&lt;/a&gt;</td>\n",
       "      <td>This is Darla. She commenced a snooze mid meal. 13/10 happens to the best of us https://t.co/tD36da7qLQ</td>\n",
       "      <td>https://twitter.com/dog_rates/status/891689557279858688/photo/1</td>\n",
       "      <td>13.0</td>\n",
       "      <td>10.0</td>\n",
       "      <td>Darla</td>\n",
       "      <td>1</td>\n",
       "      <td>https://pbs.twimg.com/media/DF_q7IAWsAEuuN8.jpg</td>\n",
       "      <td>...</td>\n",
       "      <td>False</td>\n",
       "      <td>Labrador_retriever</td>\n",
       "      <td>0.168086</td>\n",
       "      <td>True</td>\n",
       "      <td>spatula</td>\n",
       "      <td>0.040836</td>\n",
       "      <td>False</td>\n",
       "      <td>42908.0</td>\n",
       "      <td>8964.0</td>\n",
       "      <td>None</td>\n",
       "    </tr>\n",
       "    <tr>\n",
       "      <th>4</th>\n",
       "      <td>891327558926688256</td>\n",
       "      <td>2017-07-29 16:00:24 +0000</td>\n",
       "      <td>&lt;a href=\"http://twitter.com/download/iphone\" rel=\"nofollow\"&gt;Twitter for iPhone&lt;/a&gt;</td>\n",
       "      <td>This is Franklin. He would like you to stop calling him \"cute.\" He is a very fierce shark and should be respected as such. 12/10 #BarkWeek https://t.co/AtUZn91f7f</td>\n",
       "      <td>https://twitter.com/dog_rates/status/891327558926688256/photo/1,https://twitter.com/dog_rates/status/891327558926688256/photo/1</td>\n",
       "      <td>12.0</td>\n",
       "      <td>10.0</td>\n",
       "      <td>Franklin</td>\n",
       "      <td>1</td>\n",
       "      <td>https://pbs.twimg.com/media/DF6hr6BUMAAzZgT.jpg</td>\n",
       "      <td>...</td>\n",
       "      <td>True</td>\n",
       "      <td>English_springer</td>\n",
       "      <td>0.225770</td>\n",
       "      <td>True</td>\n",
       "      <td>German_short-haired_pointer</td>\n",
       "      <td>0.175219</td>\n",
       "      <td>True</td>\n",
       "      <td>41048.0</td>\n",
       "      <td>9774.0</td>\n",
       "      <td>None</td>\n",
       "    </tr>\n",
       "    <tr>\n",
       "      <th>5</th>\n",
       "      <td>891087950875897856</td>\n",
       "      <td>2017-07-29 00:08:17 +0000</td>\n",
       "      <td>&lt;a href=\"http://twitter.com/download/iphone\" rel=\"nofollow\"&gt;Twitter for iPhone&lt;/a&gt;</td>\n",
       "      <td>Here we have a majestic great white breaching off South Africa's coast. Absolutely h*ckin breathtaking. 13/10 (IG: tucker_marlo) #BarkWeek https://t.co/kQ04fDDRmh</td>\n",
       "      <td>https://twitter.com/dog_rates/status/891087950875897856/photo/1</td>\n",
       "      <td>13.0</td>\n",
       "      <td>10.0</td>\n",
       "      <td>None</td>\n",
       "      <td>1</td>\n",
       "      <td>https://pbs.twimg.com/media/DF3HwyEWsAABqE6.jpg</td>\n",
       "      <td>...</td>\n",
       "      <td>True</td>\n",
       "      <td>Irish_terrier</td>\n",
       "      <td>0.116317</td>\n",
       "      <td>True</td>\n",
       "      <td>Indian_elephant</td>\n",
       "      <td>0.076902</td>\n",
       "      <td>False</td>\n",
       "      <td>20562.0</td>\n",
       "      <td>3261.0</td>\n",
       "      <td>None</td>\n",
       "    </tr>\n",
       "  </tbody>\n",
       "</table>\n",
       "<p>5 rows × 23 columns</p>\n",
       "</div>"
      ],
      "text/plain": [
       "             tweet_id                  timestamp  \\\n",
       "1  892177421306343426  2017-08-01 00:17:27 +0000   \n",
       "2  891815181378084864  2017-07-31 00:18:03 +0000   \n",
       "3  891689557279858688  2017-07-30 15:58:51 +0000   \n",
       "4  891327558926688256  2017-07-29 16:00:24 +0000   \n",
       "5  891087950875897856  2017-07-29 00:08:17 +0000   \n",
       "\n",
       "                                                                               source  \\\n",
       "1  <a href=\"http://twitter.com/download/iphone\" rel=\"nofollow\">Twitter for iPhone</a>   \n",
       "2  <a href=\"http://twitter.com/download/iphone\" rel=\"nofollow\">Twitter for iPhone</a>   \n",
       "3  <a href=\"http://twitter.com/download/iphone\" rel=\"nofollow\">Twitter for iPhone</a>   \n",
       "4  <a href=\"http://twitter.com/download/iphone\" rel=\"nofollow\">Twitter for iPhone</a>   \n",
       "5  <a href=\"http://twitter.com/download/iphone\" rel=\"nofollow\">Twitter for iPhone</a>   \n",
       "\n",
       "                                                                                                                                                                 text  \\\n",
       "1  This is Tilly. She's just checking pup on you. Hopes you're doing ok. If not, she's available for pats, snugs, boops, the whole bit. 13/10 https://t.co/0Xxu71qeIV   \n",
       "2  This is Archie. He is a rare Norwegian Pouncing Corgo. Lives in the tall grass. You never know when one may strike. 12/10 https://t.co/wUnZnhtVJB                    \n",
       "3  This is Darla. She commenced a snooze mid meal. 13/10 happens to the best of us https://t.co/tD36da7qLQ                                                              \n",
       "4  This is Franklin. He would like you to stop calling him \"cute.\" He is a very fierce shark and should be respected as such. 12/10 #BarkWeek https://t.co/AtUZn91f7f   \n",
       "5  Here we have a majestic great white breaching off South Africa's coast. Absolutely h*ckin breathtaking. 13/10 (IG: tucker_marlo) #BarkWeek https://t.co/kQ04fDDRmh   \n",
       "\n",
       "                                                                                                                     expanded_urls  \\\n",
       "1  https://twitter.com/dog_rates/status/892177421306343426/photo/1                                                                   \n",
       "2  https://twitter.com/dog_rates/status/891815181378084864/photo/1                                                                   \n",
       "3  https://twitter.com/dog_rates/status/891689557279858688/photo/1                                                                   \n",
       "4  https://twitter.com/dog_rates/status/891327558926688256/photo/1,https://twitter.com/dog_rates/status/891327558926688256/photo/1   \n",
       "5  https://twitter.com/dog_rates/status/891087950875897856/photo/1                                                                   \n",
       "\n",
       "   rating_numerator  rating_denominator      name  rating_count  \\\n",
       "1  13.0              10.0                Tilly     1              \n",
       "2  12.0              10.0                Archie    1              \n",
       "3  13.0              10.0                Darla     1              \n",
       "4  12.0              10.0                Franklin  1              \n",
       "5  13.0              10.0                None      1              \n",
       "\n",
       "                                           jpg_url  ...  p1_dog  \\\n",
       "1  https://pbs.twimg.com/media/DGGmoV4XsAAUL6n.jpg  ...  True     \n",
       "2  https://pbs.twimg.com/media/DGBdLU1WsAANxJ9.jpg  ...  True     \n",
       "3  https://pbs.twimg.com/media/DF_q7IAWsAEuuN8.jpg  ...  False    \n",
       "4  https://pbs.twimg.com/media/DF6hr6BUMAAzZgT.jpg  ...  True     \n",
       "5  https://pbs.twimg.com/media/DF3HwyEWsAABqE6.jpg  ...  True     \n",
       "\n",
       "                   p2   p2_conf p2_dog                           p3   p3_conf  \\\n",
       "1  Pekinese            0.090647  True   papillon                     0.068957   \n",
       "2  malamute            0.078253  True   kelpie                       0.031379   \n",
       "3  Labrador_retriever  0.168086  True   spatula                      0.040836   \n",
       "4  English_springer    0.225770  True   German_short-haired_pointer  0.175219   \n",
       "5  Irish_terrier       0.116317  True   Indian_elephant              0.076902   \n",
       "\n",
       "  p3_dog favorite_count  retweet_count dog_stage  \n",
       "1  True   33819.0        6514.0         None      \n",
       "2  True   25461.0        4328.0         None      \n",
       "3  False  42908.0        8964.0         None      \n",
       "4  True   41048.0        9774.0         None      \n",
       "5  False  20562.0        3261.0         None      \n",
       "\n",
       "[5 rows x 23 columns]"
      ]
     },
     "execution_count": 80,
     "metadata": {},
     "output_type": "execute_result"
    }
   ],
   "source": [
    "df_all.head()"
   ]
  },
  {
   "cell_type": "markdown",
   "metadata": {},
   "source": [
    "**Define**\n",
    "- **Fix wrong names (replace with None)**"
   ]
  },
  {
   "cell_type": "markdown",
   "metadata": {},
   "source": [
    "**Code**"
   ]
  },
  {
   "cell_type": "markdown",
   "metadata": {},
   "source": [
    "I read through all the dog names and the wrong names all start in lower cases, which are easy to pick out, I made them into a list called wrong_name_list as follows."
   ]
  },
  {
   "cell_type": "code",
   "execution_count": 81,
   "metadata": {},
   "outputs": [],
   "source": [
    "# remove wrong names\n",
    "wrong_name_list = ['a', 'the', 'an', 'very', 'quite', 'just', 'one', 'getting', 'actually', 'no', 'mad', 'old', 'by',\n",
    "                  'his', 'such', 'infuriating', 'light', 'all', 'space', 'my', 'unacceptable', 'life', 'this', 'officially']\n",
    "# replace wrong names with None\n",
    "for _ in wrong_name_list:\n",
    "    df_all['name'].replace(_, 'None', inplace = True)"
   ]
  },
  {
   "cell_type": "markdown",
   "metadata": {},
   "source": [
    "**Test**"
   ]
  },
  {
   "cell_type": "code",
   "execution_count": 82,
   "metadata": {
    "scrolled": false
   },
   "outputs": [
    {
     "data": {
      "text/plain": [
       "None        467\n",
       "Cooper      10 \n",
       "Lucy        10 \n",
       "Charlie     10 \n",
       "Oliver      9  \n",
       "Tucker      9  \n",
       "Penny       8  \n",
       "Winston     7  \n",
       "Sadie       7  \n",
       "Daisy       7  \n",
       "Jax         6  \n",
       "Toby        6  \n",
       "Lola        6  \n",
       "Koda        6  \n",
       "Rusty       5  \n",
       "Stanley     5  \n",
       "Oscar       5  \n",
       "Bo          5  \n",
       "Leo         5  \n",
       "Bella       5  \n",
       "Jack        4  \n",
       "Bear        4  \n",
       "Duke        4  \n",
       "Oakley      4  \n",
       "Louis       4  \n",
       "Maggie      4  \n",
       "Finn        4  \n",
       "Winnie      4  \n",
       "Milo        4  \n",
       "Sophie      4  \n",
       "           ..  \n",
       "Kaiya       1  \n",
       "Meyer       1  \n",
       "Mary        1  \n",
       "Jarod       1  \n",
       "Dewey       1  \n",
       "Bodie       1  \n",
       "Lipton      1  \n",
       "Hall        1  \n",
       "Baron       1  \n",
       "Tyrone      1  \n",
       "Pete        1  \n",
       "Clybe       1  \n",
       "Dutch       1  \n",
       "Butter      1  \n",
       "Levi        1  \n",
       "Coopson     1  \n",
       "Sweet       1  \n",
       "Vinscent    1  \n",
       "Bell        1  \n",
       "Joshwa      1  \n",
       "Bruno       1  \n",
       "Timison     1  \n",
       "Ron         1  \n",
       "Gordon      1  \n",
       "Bloo        1  \n",
       "Tyrus       1  \n",
       "Logan       1  \n",
       "Ralphus     1  \n",
       "Millie      1  \n",
       "Shooter     1  \n",
       "Name: name, Length: 822, dtype: int64"
      ]
     },
     "execution_count": 82,
     "metadata": {},
     "output_type": "execute_result"
    }
   ],
   "source": [
    "# double check the names\n",
    "df_all['name'].value_counts()"
   ]
  },
  {
   "cell_type": "code",
   "execution_count": 83,
   "metadata": {
    "scrolled": false
   },
   "outputs": [
    {
     "name": "stdout",
     "output_type": "stream",
     "text": [
      "<class 'pandas.core.frame.DataFrame'>\n",
      "Int64Index: 1640 entries, 1 to 2355\n",
      "Data columns (total 23 columns):\n",
      "tweet_id              1640 non-null int64\n",
      "timestamp             1640 non-null object\n",
      "source                1640 non-null object\n",
      "text                  1640 non-null object\n",
      "expanded_urls         1640 non-null object\n",
      "rating_numerator      1640 non-null float64\n",
      "rating_denominator    1640 non-null float64\n",
      "name                  1640 non-null object\n",
      "rating_count          1640 non-null int64\n",
      "jpg_url               1640 non-null object\n",
      "img_num               1640 non-null float64\n",
      "p1                    1640 non-null object\n",
      "p1_conf               1640 non-null float64\n",
      "p1_dog                1640 non-null object\n",
      "p2                    1640 non-null object\n",
      "p2_conf               1640 non-null float64\n",
      "p2_dog                1640 non-null object\n",
      "p3                    1640 non-null object\n",
      "p3_conf               1640 non-null float64\n",
      "p3_dog                1640 non-null object\n",
      "favorite_count        1640 non-null float64\n",
      "retweet_count         1640 non-null float64\n",
      "dog_stage             1640 non-null object\n",
      "dtypes: float64(8), int64(2), object(13)\n",
      "memory usage: 307.5+ KB\n"
     ]
    }
   ],
   "source": [
    "df_all.info()"
   ]
  },
  {
   "cell_type": "markdown",
   "metadata": {},
   "source": [
    "**Define**\n",
    "- **Use the best predictions and remove others**"
   ]
  },
  {
   "cell_type": "markdown",
   "metadata": {},
   "source": [
    "**Code**"
   ]
  },
  {
   "cell_type": "code",
   "execution_count": 84,
   "metadata": {},
   "outputs": [
    {
     "data": {
      "text/html": [
       "<div>\n",
       "<style scoped>\n",
       "    .dataframe tbody tr th:only-of-type {\n",
       "        vertical-align: middle;\n",
       "    }\n",
       "\n",
       "    .dataframe tbody tr th {\n",
       "        vertical-align: top;\n",
       "    }\n",
       "\n",
       "    .dataframe thead th {\n",
       "        text-align: right;\n",
       "    }\n",
       "</style>\n",
       "<table border=\"1\" class=\"dataframe\">\n",
       "  <thead>\n",
       "    <tr style=\"text-align: right;\">\n",
       "      <th></th>\n",
       "      <th>tweet_id</th>\n",
       "      <th>timestamp</th>\n",
       "      <th>source</th>\n",
       "      <th>text</th>\n",
       "      <th>expanded_urls</th>\n",
       "      <th>rating_numerator</th>\n",
       "      <th>rating_denominator</th>\n",
       "      <th>name</th>\n",
       "      <th>rating_count</th>\n",
       "      <th>jpg_url</th>\n",
       "      <th>...</th>\n",
       "      <th>p1_dog</th>\n",
       "      <th>p2</th>\n",
       "      <th>p2_conf</th>\n",
       "      <th>p2_dog</th>\n",
       "      <th>p3</th>\n",
       "      <th>p3_conf</th>\n",
       "      <th>p3_dog</th>\n",
       "      <th>favorite_count</th>\n",
       "      <th>retweet_count</th>\n",
       "      <th>dog_stage</th>\n",
       "    </tr>\n",
       "  </thead>\n",
       "  <tbody>\n",
       "  </tbody>\n",
       "</table>\n",
       "<p>0 rows × 23 columns</p>\n",
       "</div>"
      ],
      "text/plain": [
       "Empty DataFrame\n",
       "Columns: [tweet_id, timestamp, source, text, expanded_urls, rating_numerator, rating_denominator, name, rating_count, jpg_url, img_num, p1, p1_conf, p1_dog, p2, p2_conf, p2_dog, p3, p3_conf, p3_dog, favorite_count, retweet_count, dog_stage]\n",
       "Index: []\n",
       "\n",
       "[0 rows x 23 columns]"
      ]
     },
     "execution_count": 84,
     "metadata": {},
     "output_type": "execute_result"
    }
   ],
   "source": [
    "# check p1 has the highest value (first prediction is the most accurate)\n",
    "df_all.query(\"(p2_conf > p1_conf) or (p3_conf > p1_conf)\")"
   ]
  },
  {
   "cell_type": "code",
   "execution_count": 85,
   "metadata": {},
   "outputs": [],
   "source": [
    "# I will use the most confident breed and condidence instead of 3 predictions\n",
    "# define a function that returns the most confident prediction that is dog\n",
    "attributes1 = [\"p1_dog\", \"p1\", \"p2_dog\", \"p2\", \"p3_dog\", \"p3\"]\n",
    "attributes2 = [\"p1_dog\", \"p1_conf\", \"p2_dog\", \"p2_conf\", \"p3_dog\", \"p3_conf\"]\n",
    "def dog_breed(list):\n",
    "    if list[0] == True:\n",
    "        return list[1]\n",
    "    elif list[2] == True:\n",
    "        return list[3]\n",
    "    else:\n",
    "        return list[5]\n",
    "\n",
    "# add two columns called breed and confidence to store predictions \n",
    "df_all[\"breed\"] = df_all[attributes1].apply(dog_breed, axis = 1)\n",
    "df_all[\"confidence\"] = df_all[attributes2].apply(dog_breed, axis = 1)"
   ]
  },
  {
   "cell_type": "code",
   "execution_count": 86,
   "metadata": {
    "scrolled": false
   },
   "outputs": [
    {
     "data": {
      "text/html": [
       "<div>\n",
       "<style scoped>\n",
       "    .dataframe tbody tr th:only-of-type {\n",
       "        vertical-align: middle;\n",
       "    }\n",
       "\n",
       "    .dataframe tbody tr th {\n",
       "        vertical-align: top;\n",
       "    }\n",
       "\n",
       "    .dataframe thead th {\n",
       "        text-align: right;\n",
       "    }\n",
       "</style>\n",
       "<table border=\"1\" class=\"dataframe\">\n",
       "  <thead>\n",
       "    <tr style=\"text-align: right;\">\n",
       "      <th></th>\n",
       "      <th>tweet_id</th>\n",
       "      <th>timestamp</th>\n",
       "      <th>source</th>\n",
       "      <th>text</th>\n",
       "      <th>expanded_urls</th>\n",
       "      <th>rating_numerator</th>\n",
       "      <th>rating_denominator</th>\n",
       "      <th>name</th>\n",
       "      <th>rating_count</th>\n",
       "      <th>jpg_url</th>\n",
       "      <th>img_num</th>\n",
       "      <th>favorite_count</th>\n",
       "      <th>retweet_count</th>\n",
       "      <th>dog_stage</th>\n",
       "      <th>breed</th>\n",
       "      <th>confidence</th>\n",
       "    </tr>\n",
       "  </thead>\n",
       "  <tbody>\n",
       "    <tr>\n",
       "      <th>1</th>\n",
       "      <td>892177421306343426</td>\n",
       "      <td>2017-08-01 00:17:27 +0000</td>\n",
       "      <td>&lt;a href=\"http://twitter.com/download/iphone\" rel=\"nofollow\"&gt;Twitter for iPhone&lt;/a&gt;</td>\n",
       "      <td>This is Tilly. She's just checking pup on you. Hopes you're doing ok. If not, she's available for pats, snugs, boops, the whole bit. 13/10 https://t.co/0Xxu71qeIV</td>\n",
       "      <td>https://twitter.com/dog_rates/status/892177421306343426/photo/1</td>\n",
       "      <td>13.0</td>\n",
       "      <td>10.0</td>\n",
       "      <td>Tilly</td>\n",
       "      <td>1</td>\n",
       "      <td>https://pbs.twimg.com/media/DGGmoV4XsAAUL6n.jpg</td>\n",
       "      <td>1.0</td>\n",
       "      <td>33819.0</td>\n",
       "      <td>6514.0</td>\n",
       "      <td>None</td>\n",
       "      <td>Chihuahua</td>\n",
       "      <td>0.323581</td>\n",
       "    </tr>\n",
       "    <tr>\n",
       "      <th>2</th>\n",
       "      <td>891815181378084864</td>\n",
       "      <td>2017-07-31 00:18:03 +0000</td>\n",
       "      <td>&lt;a href=\"http://twitter.com/download/iphone\" rel=\"nofollow\"&gt;Twitter for iPhone&lt;/a&gt;</td>\n",
       "      <td>This is Archie. He is a rare Norwegian Pouncing Corgo. Lives in the tall grass. You never know when one may strike. 12/10 https://t.co/wUnZnhtVJB</td>\n",
       "      <td>https://twitter.com/dog_rates/status/891815181378084864/photo/1</td>\n",
       "      <td>12.0</td>\n",
       "      <td>10.0</td>\n",
       "      <td>Archie</td>\n",
       "      <td>1</td>\n",
       "      <td>https://pbs.twimg.com/media/DGBdLU1WsAANxJ9.jpg</td>\n",
       "      <td>1.0</td>\n",
       "      <td>25461.0</td>\n",
       "      <td>4328.0</td>\n",
       "      <td>None</td>\n",
       "      <td>Chihuahua</td>\n",
       "      <td>0.716012</td>\n",
       "    </tr>\n",
       "    <tr>\n",
       "      <th>3</th>\n",
       "      <td>891689557279858688</td>\n",
       "      <td>2017-07-30 15:58:51 +0000</td>\n",
       "      <td>&lt;a href=\"http://twitter.com/download/iphone\" rel=\"nofollow\"&gt;Twitter for iPhone&lt;/a&gt;</td>\n",
       "      <td>This is Darla. She commenced a snooze mid meal. 13/10 happens to the best of us https://t.co/tD36da7qLQ</td>\n",
       "      <td>https://twitter.com/dog_rates/status/891689557279858688/photo/1</td>\n",
       "      <td>13.0</td>\n",
       "      <td>10.0</td>\n",
       "      <td>Darla</td>\n",
       "      <td>1</td>\n",
       "      <td>https://pbs.twimg.com/media/DF_q7IAWsAEuuN8.jpg</td>\n",
       "      <td>1.0</td>\n",
       "      <td>42908.0</td>\n",
       "      <td>8964.0</td>\n",
       "      <td>None</td>\n",
       "      <td>Labrador_retriever</td>\n",
       "      <td>0.168086</td>\n",
       "    </tr>\n",
       "    <tr>\n",
       "      <th>4</th>\n",
       "      <td>891327558926688256</td>\n",
       "      <td>2017-07-29 16:00:24 +0000</td>\n",
       "      <td>&lt;a href=\"http://twitter.com/download/iphone\" rel=\"nofollow\"&gt;Twitter for iPhone&lt;/a&gt;</td>\n",
       "      <td>This is Franklin. He would like you to stop calling him \"cute.\" He is a very fierce shark and should be respected as such. 12/10 #BarkWeek https://t.co/AtUZn91f7f</td>\n",
       "      <td>https://twitter.com/dog_rates/status/891327558926688256/photo/1,https://twitter.com/dog_rates/status/891327558926688256/photo/1</td>\n",
       "      <td>12.0</td>\n",
       "      <td>10.0</td>\n",
       "      <td>Franklin</td>\n",
       "      <td>1</td>\n",
       "      <td>https://pbs.twimg.com/media/DF6hr6BUMAAzZgT.jpg</td>\n",
       "      <td>2.0</td>\n",
       "      <td>41048.0</td>\n",
       "      <td>9774.0</td>\n",
       "      <td>None</td>\n",
       "      <td>basset</td>\n",
       "      <td>0.555712</td>\n",
       "    </tr>\n",
       "    <tr>\n",
       "      <th>5</th>\n",
       "      <td>891087950875897856</td>\n",
       "      <td>2017-07-29 00:08:17 +0000</td>\n",
       "      <td>&lt;a href=\"http://twitter.com/download/iphone\" rel=\"nofollow\"&gt;Twitter for iPhone&lt;/a&gt;</td>\n",
       "      <td>Here we have a majestic great white breaching off South Africa's coast. Absolutely h*ckin breathtaking. 13/10 (IG: tucker_marlo) #BarkWeek https://t.co/kQ04fDDRmh</td>\n",
       "      <td>https://twitter.com/dog_rates/status/891087950875897856/photo/1</td>\n",
       "      <td>13.0</td>\n",
       "      <td>10.0</td>\n",
       "      <td>None</td>\n",
       "      <td>1</td>\n",
       "      <td>https://pbs.twimg.com/media/DF3HwyEWsAABqE6.jpg</td>\n",
       "      <td>1.0</td>\n",
       "      <td>20562.0</td>\n",
       "      <td>3261.0</td>\n",
       "      <td>None</td>\n",
       "      <td>Chesapeake_Bay_retriever</td>\n",
       "      <td>0.425595</td>\n",
       "    </tr>\n",
       "  </tbody>\n",
       "</table>\n",
       "</div>"
      ],
      "text/plain": [
       "             tweet_id                  timestamp  \\\n",
       "1  892177421306343426  2017-08-01 00:17:27 +0000   \n",
       "2  891815181378084864  2017-07-31 00:18:03 +0000   \n",
       "3  891689557279858688  2017-07-30 15:58:51 +0000   \n",
       "4  891327558926688256  2017-07-29 16:00:24 +0000   \n",
       "5  891087950875897856  2017-07-29 00:08:17 +0000   \n",
       "\n",
       "                                                                               source  \\\n",
       "1  <a href=\"http://twitter.com/download/iphone\" rel=\"nofollow\">Twitter for iPhone</a>   \n",
       "2  <a href=\"http://twitter.com/download/iphone\" rel=\"nofollow\">Twitter for iPhone</a>   \n",
       "3  <a href=\"http://twitter.com/download/iphone\" rel=\"nofollow\">Twitter for iPhone</a>   \n",
       "4  <a href=\"http://twitter.com/download/iphone\" rel=\"nofollow\">Twitter for iPhone</a>   \n",
       "5  <a href=\"http://twitter.com/download/iphone\" rel=\"nofollow\">Twitter for iPhone</a>   \n",
       "\n",
       "                                                                                                                                                                 text  \\\n",
       "1  This is Tilly. She's just checking pup on you. Hopes you're doing ok. If not, she's available for pats, snugs, boops, the whole bit. 13/10 https://t.co/0Xxu71qeIV   \n",
       "2  This is Archie. He is a rare Norwegian Pouncing Corgo. Lives in the tall grass. You never know when one may strike. 12/10 https://t.co/wUnZnhtVJB                    \n",
       "3  This is Darla. She commenced a snooze mid meal. 13/10 happens to the best of us https://t.co/tD36da7qLQ                                                              \n",
       "4  This is Franklin. He would like you to stop calling him \"cute.\" He is a very fierce shark and should be respected as such. 12/10 #BarkWeek https://t.co/AtUZn91f7f   \n",
       "5  Here we have a majestic great white breaching off South Africa's coast. Absolutely h*ckin breathtaking. 13/10 (IG: tucker_marlo) #BarkWeek https://t.co/kQ04fDDRmh   \n",
       "\n",
       "                                                                                                                     expanded_urls  \\\n",
       "1  https://twitter.com/dog_rates/status/892177421306343426/photo/1                                                                   \n",
       "2  https://twitter.com/dog_rates/status/891815181378084864/photo/1                                                                   \n",
       "3  https://twitter.com/dog_rates/status/891689557279858688/photo/1                                                                   \n",
       "4  https://twitter.com/dog_rates/status/891327558926688256/photo/1,https://twitter.com/dog_rates/status/891327558926688256/photo/1   \n",
       "5  https://twitter.com/dog_rates/status/891087950875897856/photo/1                                                                   \n",
       "\n",
       "   rating_numerator  rating_denominator      name  rating_count  \\\n",
       "1  13.0              10.0                Tilly     1              \n",
       "2  12.0              10.0                Archie    1              \n",
       "3  13.0              10.0                Darla     1              \n",
       "4  12.0              10.0                Franklin  1              \n",
       "5  13.0              10.0                None      1              \n",
       "\n",
       "                                           jpg_url  img_num  favorite_count  \\\n",
       "1  https://pbs.twimg.com/media/DGGmoV4XsAAUL6n.jpg  1.0      33819.0          \n",
       "2  https://pbs.twimg.com/media/DGBdLU1WsAANxJ9.jpg  1.0      25461.0          \n",
       "3  https://pbs.twimg.com/media/DF_q7IAWsAEuuN8.jpg  1.0      42908.0          \n",
       "4  https://pbs.twimg.com/media/DF6hr6BUMAAzZgT.jpg  2.0      41048.0          \n",
       "5  https://pbs.twimg.com/media/DF3HwyEWsAABqE6.jpg  1.0      20562.0          \n",
       "\n",
       "   retweet_count dog_stage                     breed  confidence  \n",
       "1  6514.0         None      Chihuahua                 0.323581    \n",
       "2  4328.0         None      Chihuahua                 0.716012    \n",
       "3  8964.0         None      Labrador_retriever        0.168086    \n",
       "4  9774.0         None      basset                    0.555712    \n",
       "5  3261.0         None      Chesapeake_Bay_retriever  0.425595    "
      ]
     },
     "execution_count": 86,
     "metadata": {},
     "output_type": "execute_result"
    }
   ],
   "source": [
    "# drop original prediction columns\n",
    "attributes = [\"p1\", \"p1_dog\", \"p1_conf\", \"p2\", \"p2_dog\", \"p2_conf\", \"p3\", \"p3_dog\", \"p3_conf\"]\n",
    "df_all.drop(attributes, inplace = True, axis = 1)\n",
    "df_all.head()"
   ]
  },
  {
   "cell_type": "markdown",
   "metadata": {},
   "source": [
    "**Test**"
   ]
  },
  {
   "cell_type": "code",
   "execution_count": 87,
   "metadata": {
    "scrolled": false
   },
   "outputs": [
    {
     "name": "stdout",
     "output_type": "stream",
     "text": [
      "<class 'pandas.core.frame.DataFrame'>\n",
      "Int64Index: 1640 entries, 1 to 2355\n",
      "Data columns (total 16 columns):\n",
      "tweet_id              1640 non-null int64\n",
      "timestamp             1640 non-null object\n",
      "source                1640 non-null object\n",
      "text                  1640 non-null object\n",
      "expanded_urls         1640 non-null object\n",
      "rating_numerator      1640 non-null float64\n",
      "rating_denominator    1640 non-null float64\n",
      "name                  1640 non-null object\n",
      "rating_count          1640 non-null int64\n",
      "jpg_url               1640 non-null object\n",
      "img_num               1640 non-null float64\n",
      "favorite_count        1640 non-null float64\n",
      "retweet_count         1640 non-null float64\n",
      "dog_stage             1640 non-null object\n",
      "breed                 1640 non-null object\n",
      "confidence            1640 non-null float64\n",
      "dtypes: float64(6), int64(2), object(8)\n",
      "memory usage: 217.8+ KB\n"
     ]
    }
   ],
   "source": [
    "df_all.info()"
   ]
  },
  {
   "cell_type": "markdown",
   "metadata": {},
   "source": [
    "**Define**\n",
    "- **Make the format in breed column consistent**"
   ]
  },
  {
   "cell_type": "markdown",
   "metadata": {},
   "source": [
    "**Code**"
   ]
  },
  {
   "cell_type": "code",
   "execution_count": 88,
   "metadata": {},
   "outputs": [],
   "source": [
    "# for all the entries, use lower case letters and replace '_' with ' '\n",
    "df_all['breed'] = df_all['breed'].str.lower()\n",
    "df_all['breed'] = df_all['breed'].str.replace(\"_\", \" \")"
   ]
  },
  {
   "cell_type": "markdown",
   "metadata": {},
   "source": [
    "**Test**"
   ]
  },
  {
   "cell_type": "code",
   "execution_count": 89,
   "metadata": {
    "scrolled": false
   },
   "outputs": [
    {
     "data": {
      "text/plain": [
       "golden retriever                  154\n",
       "labrador retriever                105\n",
       "pembroke                          93 \n",
       "chihuahua                         87 \n",
       "pug                               62 \n",
       "toy poodle                        50 \n",
       "chow                              48 \n",
       "samoyed                           42 \n",
       "pomeranian                        39 \n",
       "malamute                          33 \n",
       "french bulldog                    31 \n",
       "chesapeake bay retriever          29 \n",
       "cocker spaniel                    29 \n",
       "miniature pinscher                24 \n",
       "eskimo dog                        22 \n",
       "cardigan                          21 \n",
       "german shepherd                   21 \n",
       "staffordshire bullterrier         20 \n",
       "beagle                            20 \n",
       "shih-tzu                          20 \n",
       "siberian husky                    19 \n",
       "rottweiler                        18 \n",
       "maltese dog                       18 \n",
       "shetland sheepdog                 18 \n",
       "italian greyhound                 17 \n",
       "basset                            17 \n",
       "kuvasz                            17 \n",
       "lakeland terrier                  16 \n",
       "west highland white terrier       16 \n",
       "american staffordshire terrier    16 \n",
       "                                  .. \n",
       "weimaraner                        4  \n",
       "tibetan terrier                   4  \n",
       "irish setter                      4  \n",
       "scottish deerhound                4  \n",
       "tibetan mastiff                   4  \n",
       "cairn                             3  \n",
       "toy terrier                       3  \n",
       "irish water spaniel               3  \n",
       "curly-coated retriever            3  \n",
       "brabancon griffon                 3  \n",
       "greater swiss mountain dog        3  \n",
       "komondor                          3  \n",
       "giant schnauzer                   3  \n",
       "briard                            3  \n",
       "leonberg                          3  \n",
       "afghan hound                      3  \n",
       "sussex spaniel                    2  \n",
       "groenendael                       2  \n",
       "black-and-tan coonhound           2  \n",
       "appenzeller                       2  \n",
       "wire-haired fox terrier           2  \n",
       "standard schnauzer                1  \n",
       "clumber                           1  \n",
       "silky terrier                     1  \n",
       "entlebucher                       1  \n",
       "japanese spaniel                  1  \n",
       "australian terrier                1  \n",
       "bouvier des flandres              1  \n",
       "irish wolfhound                   1  \n",
       "scotch terrier                    1  \n",
       "Name: breed, Length: 113, dtype: int64"
      ]
     },
     "execution_count": 89,
     "metadata": {},
     "output_type": "execute_result"
    }
   ],
   "source": [
    "# count the breed\n",
    "df_all['breed'].value_counts()"
   ]
  },
  {
   "cell_type": "markdown",
   "metadata": {},
   "source": [
    "**Define**\n",
    "- **Correct the timestamp data type to datetime**"
   ]
  },
  {
   "cell_type": "markdown",
   "metadata": {},
   "source": [
    "**Code**"
   ]
  },
  {
   "cell_type": "code",
   "execution_count": 90,
   "metadata": {},
   "outputs": [],
   "source": [
    "# change timestamp data type\n",
    "df_all[\"timestamp\"] = pd.to_datetime(df_all.timestamp)\n",
    "\n",
    "for _ in [\"retweet_count\", \"favorite_count\", \"img_num\"]:\n",
    "    df_all[_] = df_all[_].astype(\"int64\")"
   ]
  },
  {
   "cell_type": "code",
   "execution_count": 91,
   "metadata": {},
   "outputs": [],
   "source": [
    "# reset the index\n",
    "df_all.reset_index(drop = True, inplace = True)"
   ]
  },
  {
   "cell_type": "markdown",
   "metadata": {},
   "source": [
    "**Test**"
   ]
  },
  {
   "cell_type": "code",
   "execution_count": 92,
   "metadata": {
    "scrolled": false
   },
   "outputs": [
    {
     "data": {
      "text/html": [
       "<div>\n",
       "<style scoped>\n",
       "    .dataframe tbody tr th:only-of-type {\n",
       "        vertical-align: middle;\n",
       "    }\n",
       "\n",
       "    .dataframe tbody tr th {\n",
       "        vertical-align: top;\n",
       "    }\n",
       "\n",
       "    .dataframe thead th {\n",
       "        text-align: right;\n",
       "    }\n",
       "</style>\n",
       "<table border=\"1\" class=\"dataframe\">\n",
       "  <thead>\n",
       "    <tr style=\"text-align: right;\">\n",
       "      <th></th>\n",
       "      <th>tweet_id</th>\n",
       "      <th>timestamp</th>\n",
       "      <th>source</th>\n",
       "      <th>text</th>\n",
       "      <th>expanded_urls</th>\n",
       "      <th>rating_numerator</th>\n",
       "      <th>rating_denominator</th>\n",
       "      <th>name</th>\n",
       "      <th>rating_count</th>\n",
       "      <th>jpg_url</th>\n",
       "      <th>img_num</th>\n",
       "      <th>favorite_count</th>\n",
       "      <th>retweet_count</th>\n",
       "      <th>dog_stage</th>\n",
       "      <th>breed</th>\n",
       "      <th>confidence</th>\n",
       "    </tr>\n",
       "  </thead>\n",
       "  <tbody>\n",
       "    <tr>\n",
       "      <th>0</th>\n",
       "      <td>892177421306343426</td>\n",
       "      <td>2017-08-01 00:17:27+00:00</td>\n",
       "      <td>&lt;a href=\"http://twitter.com/download/iphone\" rel=\"nofollow\"&gt;Twitter for iPhone&lt;/a&gt;</td>\n",
       "      <td>This is Tilly. She's just checking pup on you. Hopes you're doing ok. If not, she's available for pats, snugs, boops, the whole bit. 13/10 https://t.co/0Xxu71qeIV</td>\n",
       "      <td>https://twitter.com/dog_rates/status/892177421306343426/photo/1</td>\n",
       "      <td>13.0</td>\n",
       "      <td>10.0</td>\n",
       "      <td>Tilly</td>\n",
       "      <td>1</td>\n",
       "      <td>https://pbs.twimg.com/media/DGGmoV4XsAAUL6n.jpg</td>\n",
       "      <td>1</td>\n",
       "      <td>33819</td>\n",
       "      <td>6514</td>\n",
       "      <td>None</td>\n",
       "      <td>chihuahua</td>\n",
       "      <td>0.323581</td>\n",
       "    </tr>\n",
       "    <tr>\n",
       "      <th>1</th>\n",
       "      <td>891815181378084864</td>\n",
       "      <td>2017-07-31 00:18:03+00:00</td>\n",
       "      <td>&lt;a href=\"http://twitter.com/download/iphone\" rel=\"nofollow\"&gt;Twitter for iPhone&lt;/a&gt;</td>\n",
       "      <td>This is Archie. He is a rare Norwegian Pouncing Corgo. Lives in the tall grass. You never know when one may strike. 12/10 https://t.co/wUnZnhtVJB</td>\n",
       "      <td>https://twitter.com/dog_rates/status/891815181378084864/photo/1</td>\n",
       "      <td>12.0</td>\n",
       "      <td>10.0</td>\n",
       "      <td>Archie</td>\n",
       "      <td>1</td>\n",
       "      <td>https://pbs.twimg.com/media/DGBdLU1WsAANxJ9.jpg</td>\n",
       "      <td>1</td>\n",
       "      <td>25461</td>\n",
       "      <td>4328</td>\n",
       "      <td>None</td>\n",
       "      <td>chihuahua</td>\n",
       "      <td>0.716012</td>\n",
       "    </tr>\n",
       "    <tr>\n",
       "      <th>2</th>\n",
       "      <td>891689557279858688</td>\n",
       "      <td>2017-07-30 15:58:51+00:00</td>\n",
       "      <td>&lt;a href=\"http://twitter.com/download/iphone\" rel=\"nofollow\"&gt;Twitter for iPhone&lt;/a&gt;</td>\n",
       "      <td>This is Darla. She commenced a snooze mid meal. 13/10 happens to the best of us https://t.co/tD36da7qLQ</td>\n",
       "      <td>https://twitter.com/dog_rates/status/891689557279858688/photo/1</td>\n",
       "      <td>13.0</td>\n",
       "      <td>10.0</td>\n",
       "      <td>Darla</td>\n",
       "      <td>1</td>\n",
       "      <td>https://pbs.twimg.com/media/DF_q7IAWsAEuuN8.jpg</td>\n",
       "      <td>1</td>\n",
       "      <td>42908</td>\n",
       "      <td>8964</td>\n",
       "      <td>None</td>\n",
       "      <td>labrador retriever</td>\n",
       "      <td>0.168086</td>\n",
       "    </tr>\n",
       "    <tr>\n",
       "      <th>3</th>\n",
       "      <td>891327558926688256</td>\n",
       "      <td>2017-07-29 16:00:24+00:00</td>\n",
       "      <td>&lt;a href=\"http://twitter.com/download/iphone\" rel=\"nofollow\"&gt;Twitter for iPhone&lt;/a&gt;</td>\n",
       "      <td>This is Franklin. He would like you to stop calling him \"cute.\" He is a very fierce shark and should be respected as such. 12/10 #BarkWeek https://t.co/AtUZn91f7f</td>\n",
       "      <td>https://twitter.com/dog_rates/status/891327558926688256/photo/1,https://twitter.com/dog_rates/status/891327558926688256/photo/1</td>\n",
       "      <td>12.0</td>\n",
       "      <td>10.0</td>\n",
       "      <td>Franklin</td>\n",
       "      <td>1</td>\n",
       "      <td>https://pbs.twimg.com/media/DF6hr6BUMAAzZgT.jpg</td>\n",
       "      <td>2</td>\n",
       "      <td>41048</td>\n",
       "      <td>9774</td>\n",
       "      <td>None</td>\n",
       "      <td>basset</td>\n",
       "      <td>0.555712</td>\n",
       "    </tr>\n",
       "    <tr>\n",
       "      <th>4</th>\n",
       "      <td>891087950875897856</td>\n",
       "      <td>2017-07-29 00:08:17+00:00</td>\n",
       "      <td>&lt;a href=\"http://twitter.com/download/iphone\" rel=\"nofollow\"&gt;Twitter for iPhone&lt;/a&gt;</td>\n",
       "      <td>Here we have a majestic great white breaching off South Africa's coast. Absolutely h*ckin breathtaking. 13/10 (IG: tucker_marlo) #BarkWeek https://t.co/kQ04fDDRmh</td>\n",
       "      <td>https://twitter.com/dog_rates/status/891087950875897856/photo/1</td>\n",
       "      <td>13.0</td>\n",
       "      <td>10.0</td>\n",
       "      <td>None</td>\n",
       "      <td>1</td>\n",
       "      <td>https://pbs.twimg.com/media/DF3HwyEWsAABqE6.jpg</td>\n",
       "      <td>1</td>\n",
       "      <td>20562</td>\n",
       "      <td>3261</td>\n",
       "      <td>None</td>\n",
       "      <td>chesapeake bay retriever</td>\n",
       "      <td>0.425595</td>\n",
       "    </tr>\n",
       "  </tbody>\n",
       "</table>\n",
       "</div>"
      ],
      "text/plain": [
       "             tweet_id                 timestamp  \\\n",
       "0  892177421306343426 2017-08-01 00:17:27+00:00   \n",
       "1  891815181378084864 2017-07-31 00:18:03+00:00   \n",
       "2  891689557279858688 2017-07-30 15:58:51+00:00   \n",
       "3  891327558926688256 2017-07-29 16:00:24+00:00   \n",
       "4  891087950875897856 2017-07-29 00:08:17+00:00   \n",
       "\n",
       "                                                                               source  \\\n",
       "0  <a href=\"http://twitter.com/download/iphone\" rel=\"nofollow\">Twitter for iPhone</a>   \n",
       "1  <a href=\"http://twitter.com/download/iphone\" rel=\"nofollow\">Twitter for iPhone</a>   \n",
       "2  <a href=\"http://twitter.com/download/iphone\" rel=\"nofollow\">Twitter for iPhone</a>   \n",
       "3  <a href=\"http://twitter.com/download/iphone\" rel=\"nofollow\">Twitter for iPhone</a>   \n",
       "4  <a href=\"http://twitter.com/download/iphone\" rel=\"nofollow\">Twitter for iPhone</a>   \n",
       "\n",
       "                                                                                                                                                                 text  \\\n",
       "0  This is Tilly. She's just checking pup on you. Hopes you're doing ok. If not, she's available for pats, snugs, boops, the whole bit. 13/10 https://t.co/0Xxu71qeIV   \n",
       "1  This is Archie. He is a rare Norwegian Pouncing Corgo. Lives in the tall grass. You never know when one may strike. 12/10 https://t.co/wUnZnhtVJB                    \n",
       "2  This is Darla. She commenced a snooze mid meal. 13/10 happens to the best of us https://t.co/tD36da7qLQ                                                              \n",
       "3  This is Franklin. He would like you to stop calling him \"cute.\" He is a very fierce shark and should be respected as such. 12/10 #BarkWeek https://t.co/AtUZn91f7f   \n",
       "4  Here we have a majestic great white breaching off South Africa's coast. Absolutely h*ckin breathtaking. 13/10 (IG: tucker_marlo) #BarkWeek https://t.co/kQ04fDDRmh   \n",
       "\n",
       "                                                                                                                     expanded_urls  \\\n",
       "0  https://twitter.com/dog_rates/status/892177421306343426/photo/1                                                                   \n",
       "1  https://twitter.com/dog_rates/status/891815181378084864/photo/1                                                                   \n",
       "2  https://twitter.com/dog_rates/status/891689557279858688/photo/1                                                                   \n",
       "3  https://twitter.com/dog_rates/status/891327558926688256/photo/1,https://twitter.com/dog_rates/status/891327558926688256/photo/1   \n",
       "4  https://twitter.com/dog_rates/status/891087950875897856/photo/1                                                                   \n",
       "\n",
       "   rating_numerator  rating_denominator      name  rating_count  \\\n",
       "0  13.0              10.0                Tilly     1              \n",
       "1  12.0              10.0                Archie    1              \n",
       "2  13.0              10.0                Darla     1              \n",
       "3  12.0              10.0                Franklin  1              \n",
       "4  13.0              10.0                None      1              \n",
       "\n",
       "                                           jpg_url  img_num  favorite_count  \\\n",
       "0  https://pbs.twimg.com/media/DGGmoV4XsAAUL6n.jpg  1        33819            \n",
       "1  https://pbs.twimg.com/media/DGBdLU1WsAANxJ9.jpg  1        25461            \n",
       "2  https://pbs.twimg.com/media/DF_q7IAWsAEuuN8.jpg  1        42908            \n",
       "3  https://pbs.twimg.com/media/DF6hr6BUMAAzZgT.jpg  2        41048            \n",
       "4  https://pbs.twimg.com/media/DF3HwyEWsAABqE6.jpg  1        20562            \n",
       "\n",
       "   retweet_count dog_stage                     breed  confidence  \n",
       "0  6514           None      chihuahua                 0.323581    \n",
       "1  4328           None      chihuahua                 0.716012    \n",
       "2  8964           None      labrador retriever        0.168086    \n",
       "3  9774           None      basset                    0.555712    \n",
       "4  3261           None      chesapeake bay retriever  0.425595    "
      ]
     },
     "execution_count": 92,
     "metadata": {},
     "output_type": "execute_result"
    }
   ],
   "source": [
    "df_all.head()"
   ]
  },
  {
   "cell_type": "code",
   "execution_count": 93,
   "metadata": {
    "scrolled": false
   },
   "outputs": [
    {
     "name": "stdout",
     "output_type": "stream",
     "text": [
      "<class 'pandas.core.frame.DataFrame'>\n",
      "RangeIndex: 1640 entries, 0 to 1639\n",
      "Data columns (total 16 columns):\n",
      "tweet_id              1640 non-null int64\n",
      "timestamp             1640 non-null datetime64[ns, UTC]\n",
      "source                1640 non-null object\n",
      "text                  1640 non-null object\n",
      "expanded_urls         1640 non-null object\n",
      "rating_numerator      1640 non-null float64\n",
      "rating_denominator    1640 non-null float64\n",
      "name                  1640 non-null object\n",
      "rating_count          1640 non-null int64\n",
      "jpg_url               1640 non-null object\n",
      "img_num               1640 non-null int64\n",
      "favorite_count        1640 non-null int64\n",
      "retweet_count         1640 non-null int64\n",
      "dog_stage             1640 non-null object\n",
      "breed                 1640 non-null object\n",
      "confidence            1640 non-null float64\n",
      "dtypes: datetime64[ns, UTC](1), float64(3), int64(5), object(7)\n",
      "memory usage: 205.1+ KB\n"
     ]
    }
   ],
   "source": [
    "df_all.info()"
   ]
  },
  {
   "cell_type": "markdown",
   "metadata": {},
   "source": [
    "The data has been cleaned, I will save it as a csv file named **'twitter_archive_master.csv'**"
   ]
  },
  {
   "cell_type": "code",
   "execution_count": 94,
   "metadata": {},
   "outputs": [],
   "source": [
    "df_all.to_csv('twitter_archive_master.csv', index = False)"
   ]
  },
  {
   "cell_type": "markdown",
   "metadata": {},
   "source": [
    "### Data Analysis and Visualization\n",
    "\n",
    "In this section, I will provide some insights and visualizations on the WeRateDogs twitter dataframe, based on the following questions I came up with:\n",
    "- what are the dog breeds with the most tweets?\n",
    "- what are the dog breeds with the highest average ratings?\n",
    "- what are the dog breeds with the most numbers of favorites or retweets?\n",
    "- what are the distributions of the rating, favorite_count and retweet_count?\n",
    "- what is the relation between the average rating and favorite/retweet counts for different dog breeds.\n",
    "- what is the most liked/retweeted single tweet?\n",
    "- what is the average favorite/retweet count on different dog_stage?\n",
    "- what is the WeRateDogs account activity by year, month, day of the week, hour of the day?\n",
    "- what is the distribution of favorite counts by month in each year?"
   ]
  },
  {
   "cell_type": "code",
   "execution_count": 95,
   "metadata": {},
   "outputs": [],
   "source": [
    "# copy the df_all dataframe in case\n",
    "df_all_copy = df_all.copy()"
   ]
  },
  {
   "cell_type": "markdown",
   "metadata": {},
   "source": [
    "**1. what are the dog breeds with the most tweets?**"
   ]
  },
  {
   "cell_type": "code",
   "execution_count": 96,
   "metadata": {
    "scrolled": false
   },
   "outputs": [
    {
     "data": {
      "text/plain": [
       "breed\n",
       "golden retriever             154\n",
       "labrador retriever           105\n",
       "pembroke                     93 \n",
       "chihuahua                    87 \n",
       "pug                          62 \n",
       "toy poodle                   50 \n",
       "chow                         48 \n",
       "samoyed                      42 \n",
       "pomeranian                   39 \n",
       "malamute                     33 \n",
       "french bulldog               31 \n",
       "chesapeake bay retriever     29 \n",
       "cocker spaniel               29 \n",
       "miniature pinscher           24 \n",
       "eskimo dog                   22 \n",
       "german shepherd              21 \n",
       "cardigan                     21 \n",
       "shih-tzu                     20 \n",
       "beagle                       20 \n",
       "staffordshire bullterrier    20 \n",
       "Name: tweet_id, dtype: int64"
      ]
     },
     "execution_count": 96,
     "metadata": {},
     "output_type": "execute_result"
    }
   ],
   "source": [
    "# groupby breed and count number of tweets respectively\n",
    "# save the top 20 most tweeted breeds in df_breed\n",
    "df_breed = df_all_copy.groupby('breed')['tweet_id'].count().sort_values(ascending=False)[0:20]\n",
    "sorted_index = df_breed.index\n",
    "df_breed"
   ]
  },
  {
   "cell_type": "code",
   "execution_count": 97,
   "metadata": {},
   "outputs": [
    {
     "data": {
      "text/html": [
       "<div>\n",
       "<style scoped>\n",
       "    .dataframe tbody tr th:only-of-type {\n",
       "        vertical-align: middle;\n",
       "    }\n",
       "\n",
       "    .dataframe tbody tr th {\n",
       "        vertical-align: top;\n",
       "    }\n",
       "\n",
       "    .dataframe thead th {\n",
       "        text-align: right;\n",
       "    }\n",
       "</style>\n",
       "<table border=\"1\" class=\"dataframe\">\n",
       "  <thead>\n",
       "    <tr style=\"text-align: right;\">\n",
       "      <th></th>\n",
       "      <th>dog_breed</th>\n",
       "      <th>tweet_counts</th>\n",
       "    </tr>\n",
       "  </thead>\n",
       "  <tbody>\n",
       "    <tr>\n",
       "      <th>0</th>\n",
       "      <td>golden retriever</td>\n",
       "      <td>154</td>\n",
       "    </tr>\n",
       "    <tr>\n",
       "      <th>1</th>\n",
       "      <td>labrador retriever</td>\n",
       "      <td>105</td>\n",
       "    </tr>\n",
       "    <tr>\n",
       "      <th>2</th>\n",
       "      <td>pembroke</td>\n",
       "      <td>93</td>\n",
       "    </tr>\n",
       "    <tr>\n",
       "      <th>3</th>\n",
       "      <td>chihuahua</td>\n",
       "      <td>87</td>\n",
       "    </tr>\n",
       "    <tr>\n",
       "      <th>4</th>\n",
       "      <td>pug</td>\n",
       "      <td>62</td>\n",
       "    </tr>\n",
       "  </tbody>\n",
       "</table>\n",
       "</div>"
      ],
      "text/plain": [
       "            dog_breed  tweet_counts\n",
       "0  golden retriever    154         \n",
       "1  labrador retriever  105         \n",
       "2  pembroke            93          \n",
       "3  chihuahua           87          \n",
       "4  pug                 62          "
      ]
     },
     "execution_count": 97,
     "metadata": {},
     "output_type": "execute_result"
    }
   ],
   "source": [
    "# convert df_breed pandas series to dataframe\n",
    "df_breed = pd.DataFrame(df_breed)\n",
    "df_breed = df_breed.reset_index()\n",
    "df_breed.columns = ['dog_breed', 'tweet_counts']\n",
    "df_breed.head()"
   ]
  },
  {
   "cell_type": "code",
   "execution_count": 98,
   "metadata": {
    "scrolled": false
   },
   "outputs": [
    {
     "data": {
      "image/png": "[encoded data removed]",
      "text/plain": [
       "<Figure size 720x432 with 1 Axes>"
      ]
     },
     "metadata": {
      "needs_background": "light"
     },
     "output_type": "display_data"
    }
   ],
   "source": [
    "# visualize the top 20 most tweeted breeds\n",
    "fig, ax = plt.subplots(figsize=(10, 6))\n",
    "sns.set_style(\"whitegrid\")\n",
    "# create a new bar char\n",
    "ax = df_breed.plot.bar(ax=ax, color = 'g')\n",
    "ax.set_title('Dog Breeds with the most Tweets')\n",
    "ax.set_xlabel(\"Dog Breed\")\n",
    "ax.set_ylabel('Total Tweets')\n",
    "plt.tight_layout()"
   ]
  },
  {
   "cell_type": "markdown",
   "metadata": {},
   "source": [
    "The above plot shows the 20 breeds with the most tweets, the top 3 of them are **golden retriever (tweeted 154 times), labrador retriever (105) and pembroke (93)**."
   ]
  },
  {
   "cell_type": "markdown",
   "metadata": {},
   "source": [
    "**2. what are the dog breeds with the highest average ratings?**"
   ]
  },
  {
   "cell_type": "code",
   "execution_count": 99,
   "metadata": {
    "scrolled": false
   },
   "outputs": [
    {
     "data": {
      "text/html": [
       "<div>\n",
       "<style scoped>\n",
       "    .dataframe tbody tr th:only-of-type {\n",
       "        vertical-align: middle;\n",
       "    }\n",
       "\n",
       "    .dataframe tbody tr th {\n",
       "        vertical-align: top;\n",
       "    }\n",
       "\n",
       "    .dataframe thead th {\n",
       "        text-align: right;\n",
       "    }\n",
       "</style>\n",
       "<table border=\"1\" class=\"dataframe\">\n",
       "  <thead>\n",
       "    <tr style=\"text-align: right;\">\n",
       "      <th></th>\n",
       "      <th>tweet_id</th>\n",
       "      <th>timestamp</th>\n",
       "      <th>source</th>\n",
       "      <th>text</th>\n",
       "      <th>expanded_urls</th>\n",
       "      <th>rating_numerator</th>\n",
       "      <th>rating_denominator</th>\n",
       "      <th>name</th>\n",
       "      <th>rating_count</th>\n",
       "      <th>jpg_url</th>\n",
       "      <th>img_num</th>\n",
       "      <th>favorite_count</th>\n",
       "      <th>retweet_count</th>\n",
       "      <th>dog_stage</th>\n",
       "      <th>breed</th>\n",
       "      <th>confidence</th>\n",
       "      <th>decimal_rating</th>\n",
       "    </tr>\n",
       "  </thead>\n",
       "  <tbody>\n",
       "    <tr>\n",
       "      <th>0</th>\n",
       "      <td>892177421306343426</td>\n",
       "      <td>2017-08-01 00:17:27+00:00</td>\n",
       "      <td>&lt;a href=\"http://twitter.com/download/iphone\" rel=\"nofollow\"&gt;Twitter for iPhone&lt;/a&gt;</td>\n",
       "      <td>This is Tilly. She's just checking pup on you. Hopes you're doing ok. If not, she's available for pats, snugs, boops, the whole bit. 13/10 https://t.co/0Xxu71qeIV</td>\n",
       "      <td>https://twitter.com/dog_rates/status/892177421306343426/photo/1</td>\n",
       "      <td>13.0</td>\n",
       "      <td>10.0</td>\n",
       "      <td>Tilly</td>\n",
       "      <td>1</td>\n",
       "      <td>https://pbs.twimg.com/media/DGGmoV4XsAAUL6n.jpg</td>\n",
       "      <td>1</td>\n",
       "      <td>33819</td>\n",
       "      <td>6514</td>\n",
       "      <td>None</td>\n",
       "      <td>chihuahua</td>\n",
       "      <td>0.323581</td>\n",
       "      <td>1.3</td>\n",
       "    </tr>\n",
       "    <tr>\n",
       "      <th>1</th>\n",
       "      <td>891815181378084864</td>\n",
       "      <td>2017-07-31 00:18:03+00:00</td>\n",
       "      <td>&lt;a href=\"http://twitter.com/download/iphone\" rel=\"nofollow\"&gt;Twitter for iPhone&lt;/a&gt;</td>\n",
       "      <td>This is Archie. He is a rare Norwegian Pouncing Corgo. Lives in the tall grass. You never know when one may strike. 12/10 https://t.co/wUnZnhtVJB</td>\n",
       "      <td>https://twitter.com/dog_rates/status/891815181378084864/photo/1</td>\n",
       "      <td>12.0</td>\n",
       "      <td>10.0</td>\n",
       "      <td>Archie</td>\n",
       "      <td>1</td>\n",
       "      <td>https://pbs.twimg.com/media/DGBdLU1WsAANxJ9.jpg</td>\n",
       "      <td>1</td>\n",
       "      <td>25461</td>\n",
       "      <td>4328</td>\n",
       "      <td>None</td>\n",
       "      <td>chihuahua</td>\n",
       "      <td>0.716012</td>\n",
       "      <td>1.2</td>\n",
       "    </tr>\n",
       "    <tr>\n",
       "      <th>2</th>\n",
       "      <td>891689557279858688</td>\n",
       "      <td>2017-07-30 15:58:51+00:00</td>\n",
       "      <td>&lt;a href=\"http://twitter.com/download/iphone\" rel=\"nofollow\"&gt;Twitter for iPhone&lt;/a&gt;</td>\n",
       "      <td>This is Darla. She commenced a snooze mid meal. 13/10 happens to the best of us https://t.co/tD36da7qLQ</td>\n",
       "      <td>https://twitter.com/dog_rates/status/891689557279858688/photo/1</td>\n",
       "      <td>13.0</td>\n",
       "      <td>10.0</td>\n",
       "      <td>Darla</td>\n",
       "      <td>1</td>\n",
       "      <td>https://pbs.twimg.com/media/DF_q7IAWsAEuuN8.jpg</td>\n",
       "      <td>1</td>\n",
       "      <td>42908</td>\n",
       "      <td>8964</td>\n",
       "      <td>None</td>\n",
       "      <td>labrador retriever</td>\n",
       "      <td>0.168086</td>\n",
       "      <td>1.3</td>\n",
       "    </tr>\n",
       "    <tr>\n",
       "      <th>3</th>\n",
       "      <td>891327558926688256</td>\n",
       "      <td>2017-07-29 16:00:24+00:00</td>\n",
       "      <td>&lt;a href=\"http://twitter.com/download/iphone\" rel=\"nofollow\"&gt;Twitter for iPhone&lt;/a&gt;</td>\n",
       "      <td>This is Franklin. He would like you to stop calling him \"cute.\" He is a very fierce shark and should be respected as such. 12/10 #BarkWeek https://t.co/AtUZn91f7f</td>\n",
       "      <td>https://twitter.com/dog_rates/status/891327558926688256/photo/1,https://twitter.com/dog_rates/status/891327558926688256/photo/1</td>\n",
       "      <td>12.0</td>\n",
       "      <td>10.0</td>\n",
       "      <td>Franklin</td>\n",
       "      <td>1</td>\n",
       "      <td>https://pbs.twimg.com/media/DF6hr6BUMAAzZgT.jpg</td>\n",
       "      <td>2</td>\n",
       "      <td>41048</td>\n",
       "      <td>9774</td>\n",
       "      <td>None</td>\n",
       "      <td>basset</td>\n",
       "      <td>0.555712</td>\n",
       "      <td>1.2</td>\n",
       "    </tr>\n",
       "    <tr>\n",
       "      <th>4</th>\n",
       "      <td>891087950875897856</td>\n",
       "      <td>2017-07-29 00:08:17+00:00</td>\n",
       "      <td>&lt;a href=\"http://twitter.com/download/iphone\" rel=\"nofollow\"&gt;Twitter for iPhone&lt;/a&gt;</td>\n",
       "      <td>Here we have a majestic great white breaching off South Africa's coast. Absolutely h*ckin breathtaking. 13/10 (IG: tucker_marlo) #BarkWeek https://t.co/kQ04fDDRmh</td>\n",
       "      <td>https://twitter.com/dog_rates/status/891087950875897856/photo/1</td>\n",
       "      <td>13.0</td>\n",
       "      <td>10.0</td>\n",
       "      <td>None</td>\n",
       "      <td>1</td>\n",
       "      <td>https://pbs.twimg.com/media/DF3HwyEWsAABqE6.jpg</td>\n",
       "      <td>1</td>\n",
       "      <td>20562</td>\n",
       "      <td>3261</td>\n",
       "      <td>None</td>\n",
       "      <td>chesapeake bay retriever</td>\n",
       "      <td>0.425595</td>\n",
       "      <td>1.3</td>\n",
       "    </tr>\n",
       "  </tbody>\n",
       "</table>\n",
       "</div>"
      ],
      "text/plain": [
       "             tweet_id                 timestamp  \\\n",
       "0  892177421306343426 2017-08-01 00:17:27+00:00   \n",
       "1  891815181378084864 2017-07-31 00:18:03+00:00   \n",
       "2  891689557279858688 2017-07-30 15:58:51+00:00   \n",
       "3  891327558926688256 2017-07-29 16:00:24+00:00   \n",
       "4  891087950875897856 2017-07-29 00:08:17+00:00   \n",
       "\n",
       "                                                                               source  \\\n",
       "0  <a href=\"http://twitter.com/download/iphone\" rel=\"nofollow\">Twitter for iPhone</a>   \n",
       "1  <a href=\"http://twitter.com/download/iphone\" rel=\"nofollow\">Twitter for iPhone</a>   \n",
       "2  <a href=\"http://twitter.com/download/iphone\" rel=\"nofollow\">Twitter for iPhone</a>   \n",
       "3  <a href=\"http://twitter.com/download/iphone\" rel=\"nofollow\">Twitter for iPhone</a>   \n",
       "4  <a href=\"http://twitter.com/download/iphone\" rel=\"nofollow\">Twitter for iPhone</a>   \n",
       "\n",
       "                                                                                                                                                                 text  \\\n",
       "0  This is Tilly. She's just checking pup on you. Hopes you're doing ok. If not, she's available for pats, snugs, boops, the whole bit. 13/10 https://t.co/0Xxu71qeIV   \n",
       "1  This is Archie. He is a rare Norwegian Pouncing Corgo. Lives in the tall grass. You never know when one may strike. 12/10 https://t.co/wUnZnhtVJB                    \n",
       "2  This is Darla. She commenced a snooze mid meal. 13/10 happens to the best of us https://t.co/tD36da7qLQ                                                              \n",
       "3  This is Franklin. He would like you to stop calling him \"cute.\" He is a very fierce shark and should be respected as such. 12/10 #BarkWeek https://t.co/AtUZn91f7f   \n",
       "4  Here we have a majestic great white breaching off South Africa's coast. Absolutely h*ckin breathtaking. 13/10 (IG: tucker_marlo) #BarkWeek https://t.co/kQ04fDDRmh   \n",
       "\n",
       "                                                                                                                     expanded_urls  \\\n",
       "0  https://twitter.com/dog_rates/status/892177421306343426/photo/1                                                                   \n",
       "1  https://twitter.com/dog_rates/status/891815181378084864/photo/1                                                                   \n",
       "2  https://twitter.com/dog_rates/status/891689557279858688/photo/1                                                                   \n",
       "3  https://twitter.com/dog_rates/status/891327558926688256/photo/1,https://twitter.com/dog_rates/status/891327558926688256/photo/1   \n",
       "4  https://twitter.com/dog_rates/status/891087950875897856/photo/1                                                                   \n",
       "\n",
       "   rating_numerator  rating_denominator      name  rating_count  \\\n",
       "0  13.0              10.0                Tilly     1              \n",
       "1  12.0              10.0                Archie    1              \n",
       "2  13.0              10.0                Darla     1              \n",
       "3  12.0              10.0                Franklin  1              \n",
       "4  13.0              10.0                None      1              \n",
       "\n",
       "                                           jpg_url  img_num  favorite_count  \\\n",
       "0  https://pbs.twimg.com/media/DGGmoV4XsAAUL6n.jpg  1        33819            \n",
       "1  https://pbs.twimg.com/media/DGBdLU1WsAANxJ9.jpg  1        25461            \n",
       "2  https://pbs.twimg.com/media/DF_q7IAWsAEuuN8.jpg  1        42908            \n",
       "3  https://pbs.twimg.com/media/DF6hr6BUMAAzZgT.jpg  2        41048            \n",
       "4  https://pbs.twimg.com/media/DF3HwyEWsAABqE6.jpg  1        20562            \n",
       "\n",
       "   retweet_count dog_stage                     breed  confidence  \\\n",
       "0  6514           None      chihuahua                 0.323581     \n",
       "1  4328           None      chihuahua                 0.716012     \n",
       "2  8964           None      labrador retriever        0.168086     \n",
       "3  9774           None      basset                    0.555712     \n",
       "4  3261           None      chesapeake bay retriever  0.425595     \n",
       "\n",
       "   decimal_rating  \n",
       "0  1.3             \n",
       "1  1.2             \n",
       "2  1.3             \n",
       "3  1.2             \n",
       "4  1.3             "
      ]
     },
     "execution_count": 99,
     "metadata": {},
     "output_type": "execute_result"
    }
   ],
   "source": [
    "# add a column 'decimal rating', which is rating numerator divided by denominator\n",
    "df_all_copy['decimal_rating'] = df_all_copy['rating_numerator'] / df_all_copy['rating_denominator']\n",
    "df_all_copy.head()"
   ]
  },
  {
   "cell_type": "code",
   "execution_count": 100,
   "metadata": {},
   "outputs": [],
   "source": [
    "# function to find average rating given dog breed\n",
    "def average_rating (dog_breed):\n",
    "    breed_rating = df_all_copy.query('breed == @dog_breed')['decimal_rating'].mean()\n",
    "    return breed_rating"
   ]
  },
  {
   "cell_type": "code",
   "execution_count": 101,
   "metadata": {
    "scrolled": false
   },
   "outputs": [
    {
     "data": {
      "text/html": [
       "<div>\n",
       "<style scoped>\n",
       "    .dataframe tbody tr th:only-of-type {\n",
       "        vertical-align: middle;\n",
       "    }\n",
       "\n",
       "    .dataframe tbody tr th {\n",
       "        vertical-align: top;\n",
       "    }\n",
       "\n",
       "    .dataframe thead th {\n",
       "        text-align: right;\n",
       "    }\n",
       "</style>\n",
       "<table border=\"1\" class=\"dataframe\">\n",
       "  <thead>\n",
       "    <tr style=\"text-align: right;\">\n",
       "      <th></th>\n",
       "      <th>dog_breed</th>\n",
       "      <th>tweet_counts</th>\n",
       "      <th>average_rating</th>\n",
       "    </tr>\n",
       "  </thead>\n",
       "  <tbody>\n",
       "    <tr>\n",
       "      <th>0</th>\n",
       "      <td>golden retriever</td>\n",
       "      <td>154</td>\n",
       "      <td>1.177783</td>\n",
       "    </tr>\n",
       "    <tr>\n",
       "      <th>7</th>\n",
       "      <td>samoyed</td>\n",
       "      <td>42</td>\n",
       "      <td>1.169048</td>\n",
       "    </tr>\n",
       "    <tr>\n",
       "      <th>2</th>\n",
       "      <td>pembroke</td>\n",
       "      <td>93</td>\n",
       "      <td>1.144086</td>\n",
       "    </tr>\n",
       "    <tr>\n",
       "      <th>6</th>\n",
       "      <td>chow</td>\n",
       "      <td>48</td>\n",
       "      <td>1.141667</td>\n",
       "    </tr>\n",
       "    <tr>\n",
       "      <th>14</th>\n",
       "      <td>eskimo dog</td>\n",
       "      <td>22</td>\n",
       "      <td>1.140909</td>\n",
       "    </tr>\n",
       "  </tbody>\n",
       "</table>\n",
       "</div>"
      ],
      "text/plain": [
       "           dog_breed  tweet_counts  average_rating\n",
       "0   golden retriever  154           1.177783      \n",
       "7   samoyed           42            1.169048      \n",
       "2   pembroke          93            1.144086      \n",
       "6   chow              48            1.141667      \n",
       "14  eskimo dog        22            1.140909      "
      ]
     },
     "execution_count": 101,
     "metadata": {},
     "output_type": "execute_result"
    }
   ],
   "source": [
    "# add to df_breed an average rating column\n",
    "df_breed['average_rating'] = df_breed['dog_breed'].apply(lambda p : average_rating(p))\n",
    "df_breed.sort_values('average_rating', ascending=False, inplace=True)\n",
    "df_breed.head()"
   ]
  },
  {
   "cell_type": "code",
   "execution_count": 102,
   "metadata": {},
   "outputs": [
    {
     "data": {
      "text/html": [
       "<div>\n",
       "<style scoped>\n",
       "    .dataframe tbody tr th:only-of-type {\n",
       "        vertical-align: middle;\n",
       "    }\n",
       "\n",
       "    .dataframe tbody tr th {\n",
       "        vertical-align: top;\n",
       "    }\n",
       "\n",
       "    .dataframe thead th {\n",
       "        text-align: right;\n",
       "    }\n",
       "</style>\n",
       "<table border=\"1\" class=\"dataframe\">\n",
       "  <thead>\n",
       "    <tr style=\"text-align: right;\">\n",
       "      <th></th>\n",
       "      <th>dog_breed</th>\n",
       "      <th>tweet_counts</th>\n",
       "      <th>average_rating</th>\n",
       "    </tr>\n",
       "  </thead>\n",
       "  <tbody>\n",
       "    <tr>\n",
       "      <th>0</th>\n",
       "      <td>golden retriever</td>\n",
       "      <td>154</td>\n",
       "      <td>1.177783</td>\n",
       "    </tr>\n",
       "    <tr>\n",
       "      <th>7</th>\n",
       "      <td>samoyed</td>\n",
       "      <td>42</td>\n",
       "      <td>1.169048</td>\n",
       "    </tr>\n",
       "    <tr>\n",
       "      <th>2</th>\n",
       "      <td>pembroke</td>\n",
       "      <td>93</td>\n",
       "      <td>1.144086</td>\n",
       "    </tr>\n",
       "    <tr>\n",
       "      <th>6</th>\n",
       "      <td>chow</td>\n",
       "      <td>48</td>\n",
       "      <td>1.141667</td>\n",
       "    </tr>\n",
       "    <tr>\n",
       "      <th>14</th>\n",
       "      <td>eskimo dog</td>\n",
       "      <td>22</td>\n",
       "      <td>1.140909</td>\n",
       "    </tr>\n",
       "    <tr>\n",
       "      <th>12</th>\n",
       "      <td>cocker spaniel</td>\n",
       "      <td>29</td>\n",
       "      <td>1.131034</td>\n",
       "    </tr>\n",
       "    <tr>\n",
       "      <th>1</th>\n",
       "      <td>labrador retriever</td>\n",
       "      <td>105</td>\n",
       "      <td>1.120000</td>\n",
       "    </tr>\n",
       "    <tr>\n",
       "      <th>10</th>\n",
       "      <td>french bulldog</td>\n",
       "      <td>31</td>\n",
       "      <td>1.119355</td>\n",
       "    </tr>\n",
       "    <tr>\n",
       "      <th>16</th>\n",
       "      <td>cardigan</td>\n",
       "      <td>21</td>\n",
       "      <td>1.114286</td>\n",
       "    </tr>\n",
       "    <tr>\n",
       "      <th>5</th>\n",
       "      <td>toy poodle</td>\n",
       "      <td>50</td>\n",
       "      <td>1.100000</td>\n",
       "    </tr>\n",
       "  </tbody>\n",
       "</table>\n",
       "</div>"
      ],
      "text/plain": [
       "             dog_breed  tweet_counts  average_rating\n",
       "0   golden retriever    154           1.177783      \n",
       "7   samoyed             42            1.169048      \n",
       "2   pembroke            93            1.144086      \n",
       "6   chow                48            1.141667      \n",
       "14  eskimo dog          22            1.140909      \n",
       "12  cocker spaniel      29            1.131034      \n",
       "1   labrador retriever  105           1.120000      \n",
       "10  french bulldog      31            1.119355      \n",
       "16  cardigan            21            1.114286      \n",
       "5   toy poodle          50            1.100000      "
      ]
     },
     "execution_count": 102,
     "metadata": {},
     "output_type": "execute_result"
    }
   ],
   "source": [
    "# 10 dogs with the highest avg rating\n",
    "df_rating_top_10 = df_breed.sort_values('average_rating', ascending=False)[:10]\n",
    "df_rating_top_10"
   ]
  },
  {
   "cell_type": "code",
   "execution_count": 103,
   "metadata": {
    "scrolled": false
   },
   "outputs": [
    {
     "data": {
      "image/png": "[encoded data removed]",
      "text/plain": [
       "<Figure size 720x432 with 1 Axes>"
      ]
     },
     "metadata": {},
     "output_type": "display_data"
    }
   ],
   "source": [
    "# visualze breeds with the highest average ratings\n",
    "ax = df_rating_top_10.plot.bar(x='dog_breed', y='average_rating', color = 'c', figsize=(10,6))\n",
    "ax.set_title('Top 10 Dog Breed with the Highest Ratings')\n",
    "plt.ylabel(\"Average Rating\")\n",
    "ax.set_xlabel('Dog Breed')\n",
    "plt.tight_layout()"
   ]
  },
  {
   "cell_type": "markdown",
   "metadata": {},
   "source": [
    "The plot above gives ten dog breeds with the highest average ratings, the top 3 breeds and ratings are: **golden retriever (1.178), samoyed (1.169) and pembroke (1.144)**."
   ]
  },
  {
   "cell_type": "markdown",
   "metadata": {},
   "source": [
    "**3. what are the dog breeds with the most numbers of favorites or retweets?**"
   ]
  },
  {
   "cell_type": "code",
   "execution_count": 104,
   "metadata": {},
   "outputs": [],
   "source": [
    "# functions to sum over favorites and retweets given breed\n",
    "def favorite_count (dog_breed):\n",
    "    fav_count = df_all_copy.query('breed == @dog_breed')['favorite_count'].sum()\n",
    "    return fav_count\n",
    "def retweet_count (dog_breed):\n",
    "    ret_count = df_all_copy.query('breed == @dog_breed')['retweet_count'].sum()\n",
    "    return ret_count"
   ]
  },
  {
   "cell_type": "code",
   "execution_count": 105,
   "metadata": {},
   "outputs": [
    {
     "data": {
      "text/html": [
       "<div>\n",
       "<style scoped>\n",
       "    .dataframe tbody tr th:only-of-type {\n",
       "        vertical-align: middle;\n",
       "    }\n",
       "\n",
       "    .dataframe tbody tr th {\n",
       "        vertical-align: top;\n",
       "    }\n",
       "\n",
       "    .dataframe thead th {\n",
       "        text-align: right;\n",
       "    }\n",
       "</style>\n",
       "<table border=\"1\" class=\"dataframe\">\n",
       "  <thead>\n",
       "    <tr style=\"text-align: right;\">\n",
       "      <th></th>\n",
       "      <th>dog_breed</th>\n",
       "      <th>tweet_counts</th>\n",
       "      <th>average_rating</th>\n",
       "      <th>favorite_counts</th>\n",
       "    </tr>\n",
       "  </thead>\n",
       "  <tbody>\n",
       "    <tr>\n",
       "      <th>0</th>\n",
       "      <td>golden retriever</td>\n",
       "      <td>154</td>\n",
       "      <td>1.177783</td>\n",
       "      <td>1915088</td>\n",
       "    </tr>\n",
       "    <tr>\n",
       "      <th>1</th>\n",
       "      <td>labrador retriever</td>\n",
       "      <td>105</td>\n",
       "      <td>1.120000</td>\n",
       "      <td>1264586</td>\n",
       "    </tr>\n",
       "    <tr>\n",
       "      <th>2</th>\n",
       "      <td>pembroke</td>\n",
       "      <td>93</td>\n",
       "      <td>1.144086</td>\n",
       "      <td>1036756</td>\n",
       "    </tr>\n",
       "    <tr>\n",
       "      <th>3</th>\n",
       "      <td>chihuahua</td>\n",
       "      <td>87</td>\n",
       "      <td>1.055172</td>\n",
       "      <td>714274</td>\n",
       "    </tr>\n",
       "    <tr>\n",
       "      <th>7</th>\n",
       "      <td>samoyed</td>\n",
       "      <td>42</td>\n",
       "      <td>1.169048</td>\n",
       "      <td>583906</td>\n",
       "    </tr>\n",
       "  </tbody>\n",
       "</table>\n",
       "</div>"
      ],
      "text/plain": [
       "            dog_breed  tweet_counts  average_rating  favorite_counts\n",
       "0  golden retriever    154           1.177783        1915088        \n",
       "1  labrador retriever  105           1.120000        1264586        \n",
       "2  pembroke            93            1.144086        1036756        \n",
       "3  chihuahua           87            1.055172        714274         \n",
       "7  samoyed             42            1.169048        583906         "
      ]
     },
     "execution_count": 105,
     "metadata": {},
     "output_type": "execute_result"
    }
   ],
   "source": [
    "# add favorite counts to each breed in df_breed\n",
    "df_breed['favorite_counts'] = df_breed['dog_breed'].apply(lambda p : favorite_count(p))\n",
    "df_breed.sort_values('favorite_counts', ascending=False, inplace=True)\n",
    "df_breed.head()"
   ]
  },
  {
   "cell_type": "code",
   "execution_count": 106,
   "metadata": {},
   "outputs": [
    {
     "data": {
      "text/html": [
       "<div>\n",
       "<style scoped>\n",
       "    .dataframe tbody tr th:only-of-type {\n",
       "        vertical-align: middle;\n",
       "    }\n",
       "\n",
       "    .dataframe tbody tr th {\n",
       "        vertical-align: top;\n",
       "    }\n",
       "\n",
       "    .dataframe thead th {\n",
       "        text-align: right;\n",
       "    }\n",
       "</style>\n",
       "<table border=\"1\" class=\"dataframe\">\n",
       "  <thead>\n",
       "    <tr style=\"text-align: right;\">\n",
       "      <th></th>\n",
       "      <th>dog_breed</th>\n",
       "      <th>tweet_counts</th>\n",
       "      <th>average_rating</th>\n",
       "      <th>favorite_counts</th>\n",
       "      <th>retweet_counts</th>\n",
       "    </tr>\n",
       "  </thead>\n",
       "  <tbody>\n",
       "    <tr>\n",
       "      <th>0</th>\n",
       "      <td>golden retriever</td>\n",
       "      <td>154</td>\n",
       "      <td>1.177783</td>\n",
       "      <td>1915088</td>\n",
       "      <td>573953</td>\n",
       "    </tr>\n",
       "    <tr>\n",
       "      <th>1</th>\n",
       "      <td>labrador retriever</td>\n",
       "      <td>105</td>\n",
       "      <td>1.120000</td>\n",
       "      <td>1264586</td>\n",
       "      <td>405163</td>\n",
       "    </tr>\n",
       "    <tr>\n",
       "      <th>2</th>\n",
       "      <td>pembroke</td>\n",
       "      <td>93</td>\n",
       "      <td>1.144086</td>\n",
       "      <td>1036756</td>\n",
       "      <td>291262</td>\n",
       "    </tr>\n",
       "    <tr>\n",
       "      <th>3</th>\n",
       "      <td>chihuahua</td>\n",
       "      <td>87</td>\n",
       "      <td>1.055172</td>\n",
       "      <td>714274</td>\n",
       "      <td>234198</td>\n",
       "    </tr>\n",
       "    <tr>\n",
       "      <th>7</th>\n",
       "      <td>samoyed</td>\n",
       "      <td>42</td>\n",
       "      <td>1.169048</td>\n",
       "      <td>583906</td>\n",
       "      <td>203446</td>\n",
       "    </tr>\n",
       "  </tbody>\n",
       "</table>\n",
       "</div>"
      ],
      "text/plain": [
       "            dog_breed  tweet_counts  average_rating  favorite_counts  \\\n",
       "0  golden retriever    154           1.177783        1915088           \n",
       "1  labrador retriever  105           1.120000        1264586           \n",
       "2  pembroke            93            1.144086        1036756           \n",
       "3  chihuahua           87            1.055172        714274            \n",
       "7  samoyed             42            1.169048        583906            \n",
       "\n",
       "   retweet_counts  \n",
       "0  573953          \n",
       "1  405163          \n",
       "2  291262          \n",
       "3  234198          \n",
       "7  203446          "
      ]
     },
     "execution_count": 106,
     "metadata": {},
     "output_type": "execute_result"
    }
   ],
   "source": [
    "# add retweet counts to each breed in df_breed\n",
    "df_breed['retweet_counts'] = df_breed['dog_breed'].apply(lambda p : retweet_count(p))\n",
    "df_breed.sort_values('retweet_counts', ascending=False, inplace=True)\n",
    "df_breed.head()"
   ]
  },
  {
   "cell_type": "code",
   "execution_count": 107,
   "metadata": {},
   "outputs": [
    {
     "data": {
      "text/plain": [
       "Text(0.5, 1.0, 'Breed Favorite Counts Ranking')"
      ]
     },
     "execution_count": 107,
     "metadata": {},
     "output_type": "execute_result"
    },
    {
     "data": {
      "image/png": "[encoded data removed]",
      "text/plain": [
       "<Figure size 1080x432 with 1 Axes>"
      ]
     },
     "metadata": {},
     "output_type": "display_data"
    }
   ],
   "source": [
    "# visualize favorite counts\n",
    "fig, ax = plt.subplots(figsize = (15,6))\n",
    "ax = sns.barplot(x = \"dog_breed\", y = \"favorite_counts\", data = df_breed.sort_values(\"favorite_counts\", ascending=False).iloc[:10], color = 'm')\n",
    "ax.set_title(\"Breed Favorite Counts Ranking\")"
   ]
  },
  {
   "cell_type": "code",
   "execution_count": 108,
   "metadata": {
    "scrolled": false
   },
   "outputs": [
    {
     "data": {
      "text/plain": [
       "Text(0.5, 1.0, 'Breed Retweet Counts Ranking')"
      ]
     },
     "execution_count": 108,
     "metadata": {},
     "output_type": "execute_result"
    },
    {
     "data": {
      "image/png": "[encoded data removed]",
      "text/plain": [
       "<Figure size 1080x432 with 1 Axes>"
      ]
     },
     "metadata": {},
     "output_type": "display_data"
    }
   ],
   "source": [
    "# visualize retweet counts\n",
    "fig, ax = plt.subplots(figsize = (15,6))\n",
    "ax = sns.barplot(x = \"dog_breed\", y = \"retweet_counts\", data = df_breed.sort_values(\"retweet_counts\", ascending=False).iloc[:10], color = 'm')\n",
    "ax.set_title(\"Breed Retweet Counts Ranking\")"
   ]
  },
  {
   "cell_type": "markdown",
   "metadata": {},
   "source": [
    "**Golden retriever (1915008 favorites, 573953 retweets), labrador retriever (1264586 favorites, 405163 retweets), pembroke (1036756 favorites, 291262 retweets) are top 3 on both favorite and retweet lists.**"
   ]
  },
  {
   "cell_type": "markdown",
   "metadata": {},
   "source": [
    "**4. what are the distributions of the rating, favorite_count and retweet_count?**"
   ]
  },
  {
   "cell_type": "code",
   "execution_count": 109,
   "metadata": {},
   "outputs": [
    {
     "data": {
      "text/html": [
       "<div>\n",
       "<style scoped>\n",
       "    .dataframe tbody tr th:only-of-type {\n",
       "        vertical-align: middle;\n",
       "    }\n",
       "\n",
       "    .dataframe tbody tr th {\n",
       "        vertical-align: top;\n",
       "    }\n",
       "\n",
       "    .dataframe thead th {\n",
       "        text-align: right;\n",
       "    }\n",
       "</style>\n",
       "<table border=\"1\" class=\"dataframe\">\n",
       "  <thead>\n",
       "    <tr style=\"text-align: right;\">\n",
       "      <th></th>\n",
       "      <th>decimal_rating</th>\n",
       "      <th>favorite_count</th>\n",
       "      <th>retweet_count</th>\n",
       "    </tr>\n",
       "  </thead>\n",
       "  <tbody>\n",
       "    <tr>\n",
       "      <th>count</th>\n",
       "      <td>1640.000000</td>\n",
       "      <td>1640.000000</td>\n",
       "      <td>1640.000000</td>\n",
       "    </tr>\n",
       "    <tr>\n",
       "      <th>mean</th>\n",
       "      <td>1.085858</td>\n",
       "      <td>9371.344512</td>\n",
       "      <td>2853.065854</td>\n",
       "    </tr>\n",
       "    <tr>\n",
       "      <th>std</th>\n",
       "      <td>0.185706</td>\n",
       "      <td>12699.965595</td>\n",
       "      <td>4850.693086</td>\n",
       "    </tr>\n",
       "    <tr>\n",
       "      <th>min</th>\n",
       "      <td>0.000000</td>\n",
       "      <td>81.000000</td>\n",
       "      <td>16.000000</td>\n",
       "    </tr>\n",
       "    <tr>\n",
       "      <th>25%</th>\n",
       "      <td>1.000000</td>\n",
       "      <td>2243.000000</td>\n",
       "      <td>664.750000</td>\n",
       "    </tr>\n",
       "    <tr>\n",
       "      <th>50%</th>\n",
       "      <td>1.100000</td>\n",
       "      <td>4534.000000</td>\n",
       "      <td>1460.500000</td>\n",
       "    </tr>\n",
       "    <tr>\n",
       "      <th>75%</th>\n",
       "      <td>1.200000</td>\n",
       "      <td>11851.500000</td>\n",
       "      <td>3270.750000</td>\n",
       "    </tr>\n",
       "    <tr>\n",
       "      <th>max</th>\n",
       "      <td>3.428571</td>\n",
       "      <td>132810.000000</td>\n",
       "      <td>79515.000000</td>\n",
       "    </tr>\n",
       "  </tbody>\n",
       "</table>\n",
       "</div>"
      ],
      "text/plain": [
       "       decimal_rating  favorite_count  retweet_count\n",
       "count  1640.000000     1640.000000     1640.000000  \n",
       "mean   1.085858        9371.344512     2853.065854  \n",
       "std    0.185706        12699.965595    4850.693086  \n",
       "min    0.000000        81.000000       16.000000    \n",
       "25%    1.000000        2243.000000     664.750000   \n",
       "50%    1.100000        4534.000000     1460.500000  \n",
       "75%    1.200000        11851.500000    3270.750000  \n",
       "max    3.428571        132810.000000   79515.000000 "
      ]
     },
     "execution_count": 109,
     "metadata": {},
     "output_type": "execute_result"
    }
   ],
   "source": [
    "# statistics on rating, favorite and retweet\n",
    "df_all_copy[['decimal_rating', 'favorite_count', 'retweet_count']].describe()"
   ]
  },
  {
   "cell_type": "code",
   "execution_count": 110,
   "metadata": {
    "scrolled": false
   },
   "outputs": [
    {
     "data": {
      "text/plain": [
       "array([[<matplotlib.axes._subplots.AxesSubplot object at 0x0000020353E11DD8>,\n",
       "        <matplotlib.axes._subplots.AxesSubplot object at 0x0000020353E3F780>,\n",
       "        <matplotlib.axes._subplots.AxesSubplot object at 0x0000020353E64FD0>]],\n",
       "      dtype=object)"
      ]
     },
     "execution_count": 110,
     "metadata": {},
     "output_type": "execute_result"
    },
    {
     "data": {
      "image/png": "[encoded data removed]",
      "text/plain": [
       "<Figure size 720x288 with 3 Axes>"
      ]
     },
     "metadata": {},
     "output_type": "display_data"
    }
   ],
   "source": [
    "# plot 3 histograms\n",
    "df_all_copy[['decimal_rating', 'favorite_count', 'retweet_count']].hist(figsize = (10, 4), layout = (1, 3), color = 'g')"
   ]
  },
  {
   "cell_type": "markdown",
   "metadata": {},
   "source": [
    "**The average rating on dogs is 1.09, with a min rating of 0.00 and a max rating of 3.43. The interquatile range is 1.00 to 1.20.**\n",
    "\n",
    "**The average favorite count of all tweets is 9371, with a min count of 81 and a max count of 132810. The interquatile range is 2243 to 11852.**\n",
    "\n",
    "**The average retweet count of all tweets is 2853, with a min count of 16 and a max count of 79515. The interquatile range is 665 to 3271.**"
   ]
  },
  {
   "cell_type": "markdown",
   "metadata": {},
   "source": [
    "**5. what is the relation between the average rating and favorite/retweet counts for different dog breeds.**"
   ]
  },
  {
   "cell_type": "code",
   "execution_count": 111,
   "metadata": {
    "scrolled": false
   },
   "outputs": [
    {
     "data": {
      "image/png": "[encoded data removed]",
      "text/plain": [
       "<Figure size 720x720 with 1 Axes>"
      ]
     },
     "metadata": {},
     "output_type": "display_data"
    }
   ],
   "source": [
    "# scatter plot of favorite count on average rating for breeds\n",
    "\n",
    "with sns.plotting_context(\"notebook\"):\n",
    "    # create a matplotlib figure\n",
    "    fig, ax = plt.subplots(figsize = (10,10))\n",
    "\n",
    "    # plot the scatterplot of dog average_rating and favorite_counts\n",
    "    p1 = sns.scatterplot(x='average_rating', y='favorite_counts', data = df_breed, alpha = 0.5, color = \"k\", lw = 2)\n",
    "   \n",
    "    for line in range(0,df_breed.shape[0]):\n",
    "        p1.text(df_breed.average_rating[line], df_breed.favorite_counts[line]+20000, \n",
    "        df_breed.dog_breed[line], horizontalalignment='center', size='small', color='black', weight='semibold')\n",
    "\n",
    "    # set the title, legend, x & y labels\n",
    "\n",
    "    plt.xlabel('Average Rating')\n",
    "    plt.ylabel('Favorite Counts')\n",
    "    plt.title('Scatterplot of Breed Favorite Counts vs. Average Ratings')\n",
    "\n",
    "    plt.tight_layout()"
   ]
  },
  {
   "cell_type": "code",
   "execution_count": 112,
   "metadata": {
    "scrolled": false
   },
   "outputs": [
    {
     "data": {
      "image/png": "[encoded data removed]",
      "text/plain": [
       "<Figure size 720x720 with 1 Axes>"
      ]
     },
     "metadata": {},
     "output_type": "display_data"
    }
   ],
   "source": [
    "# scatter plot of retweet count on average rating for breeds\n",
    "\n",
    "with sns.plotting_context(\"notebook\"):\n",
    "    # create a matplotlib figure\n",
    "    fig, ax = plt.subplots(figsize = (10,10))\n",
    "\n",
    "    # plot the scatterplot of dog average_rating and retweet_counts\n",
    "    p1 = sns.scatterplot(x='average_rating', y='retweet_counts', data = df_breed, alpha = 0.5, color = \"k\", lw = 2)\n",
    "   \n",
    "    for line in range(0,df_breed.shape[0]):\n",
    "        p1.text(df_breed.average_rating[line], df_breed.retweet_counts[line]+20000, \n",
    "        df_breed.dog_breed[line], horizontalalignment='center', size='small', color='black', weight='semibold')\n",
    "\n",
    "    # set the title, legend, x & y labels\n",
    "\n",
    "    plt.xlabel('Average Rating')\n",
    "    plt.ylabel('Retweet Counts')\n",
    "    plt.title('Scatterplot of Breed Retweet Counts vs. Average Ratings')\n",
    "\n",
    "    plt.tight_layout()"
   ]
  },
  {
   "cell_type": "markdown",
   "metadata": {},
   "source": [
    "We can see from the two scatterplots above, **the favorite/retweet count is roughly proportional to the average rating of the breed**. the higher the rating, the more likely the post will get more likes and retweets. Among all the breeds, **golden retriever is the most popular breed and gets far more favorites/retweets then expected**."
   ]
  },
  {
   "cell_type": "markdown",
   "metadata": {},
   "source": [
    "**6. what is the most liked/retweeted single tweet?**"
   ]
  },
  {
   "cell_type": "code",
   "execution_count": 113,
   "metadata": {
    "scrolled": false
   },
   "outputs": [
    {
     "data": {
      "text/plain": [
       "tweet_id              822872901745569793                                                                                             \n",
       "timestamp             2017-01-21 18:26:02+00:00                                                                                      \n",
       "source                <a href=\"http://twitter.com/download/iphone\" rel=\"nofollow\">Twitter for iPhone</a>                             \n",
       "text                  Here's a super supportive puppo participating in the Toronto  #WomensMarch today. 13/10 https://t.co/nTz3FtorBc\n",
       "expanded_urls         https://twitter.com/dog_rates/status/822872901745569793/photo/1                                                \n",
       "rating_numerator      13                                                                                                             \n",
       "rating_denominator    10                                                                                                             \n",
       "name                  None                                                                                                           \n",
       "rating_count          1                                                                                                              \n",
       "jpg_url               https://pbs.twimg.com/media/C2tugXLXgAArJO4.jpg                                                                \n",
       "img_num               1                                                                                                              \n",
       "favorite_count        132810                                                                                                         \n",
       "retweet_count         48265                                                                                                          \n",
       "dog_stage             puppo                                                                                                          \n",
       "breed                 lakeland terrier                                                                                               \n",
       "confidence            0.196015                                                                                                       \n",
       "Name: 275, dtype: object"
      ]
     },
     "execution_count": 113,
     "metadata": {},
     "output_type": "execute_result"
    }
   ],
   "source": [
    "# find max on favorite count\n",
    "df_all.iloc[df_all['favorite_count'].idxmax()]"
   ]
  },
  {
   "cell_type": "code",
   "execution_count": 114,
   "metadata": {
    "scrolled": false
   },
   "outputs": [
    {
     "data": {
      "text/html": [
       "<img src=\"https://pbs.twimg.com/media/C2tugXLXgAArJO4.jpg\"/>"
      ],
      "text/plain": [
       "<IPython.core.display.HTML object>"
      ]
     },
     "metadata": {},
     "output_type": "display_data"
    }
   ],
   "source": [
    "# display the dog picture\n",
    "display(HTML('<img src=\"https://pbs.twimg.com/media/C2tugXLXgAArJO4.jpg\"/>'))"
   ]
  },
  {
   "cell_type": "markdown",
   "metadata": {},
   "source": [
    "**The most favorite picture is a a super supportive puppo participating in the Toronto #WomensMarch, and received 132810 favorites.**"
   ]
  },
  {
   "cell_type": "code",
   "execution_count": 115,
   "metadata": {
    "scrolled": false
   },
   "outputs": [
    {
     "data": {
      "text/plain": [
       "tweet_id              744234799360020481                                                                                                 \n",
       "timestamp             2016-06-18 18:26:18+00:00                                                                                          \n",
       "source                <a href=\"http://twitter.com/download/iphone\" rel=\"nofollow\">Twitter for iPhone</a>                                 \n",
       "text                  Here's a doggo realizing you can stand in a pool. 13/10 enlightened af (vid by Tina Conrad) https://t.co/7wE9LTEXC4\n",
       "expanded_urls         https://twitter.com/dog_rates/status/744234799360020481/video/1                                                    \n",
       "rating_numerator      13                                                                                                                 \n",
       "rating_denominator    10                                                                                                                 \n",
       "name                  None                                                                                                               \n",
       "rating_count          1                                                                                                                  \n",
       "jpg_url               https://pbs.twimg.com/ext_tw_video_thumb/744234667679821824/pu/img/1GaWmtJtdqzZV7jy.jpg                            \n",
       "img_num               1                                                                                                                  \n",
       "favorite_count        131075                                                                                                             \n",
       "retweet_count         79515                                                                                                              \n",
       "dog_stage             doggo                                                                                                              \n",
       "breed                 labrador retriever                                                                                                 \n",
       "confidence            0.825333                                                                                                           \n",
       "Name: 684, dtype: object"
      ]
     },
     "execution_count": 115,
     "metadata": {},
     "output_type": "execute_result"
    }
   ],
   "source": [
    "# find max on retweet count\n",
    "df_all.iloc[df_all['retweet_count'].idxmax()]"
   ]
  },
  {
   "cell_type": "code",
   "execution_count": 116,
   "metadata": {
    "scrolled": false
   },
   "outputs": [
    {
     "data": {
      "text/html": [
       "<img src=\"https://pbs.twimg.com/ext_tw_video_thumb/744234667679821824/pu/img/1GaWmtJtdqzZV7jy.jpg\"/>"
      ],
      "text/plain": [
       "<IPython.core.display.HTML object>"
      ]
     },
     "metadata": {},
     "output_type": "display_data"
    }
   ],
   "source": [
    "# display the dog picture\n",
    "display(HTML('<img src=\"https://pbs.twimg.com/ext_tw_video_thumb/744234667679821824/pu/img/1GaWmtJtdqzZV7jy.jpg\"/>'))"
   ]
  },
  {
   "cell_type": "markdown",
   "metadata": {},
   "source": [
    "**The most retweeted picture is a doggo that realizes it can stand in a pool (swimming actually), and it received 79515 retweets.** "
   ]
  },
  {
   "cell_type": "markdown",
   "metadata": {},
   "source": [
    "**7. what is the average favorite/retweet count on different dog_stage?**"
   ]
  },
  {
   "cell_type": "code",
   "execution_count": 118,
   "metadata": {
    "scrolled": false
   },
   "outputs": [
    {
     "data": {
      "image/png": "[encoded data removed]",
      "text/plain": [
       "<Figure size 720x432 with 1 Axes>"
      ]
     },
     "metadata": {},
     "output_type": "display_data"
    }
   ],
   "source": [
    "# groupby dog_stage and calculate the mean favorite count\n",
    "df_stage = df_all_copy.groupby('dog_stage')['favorite_count'].mean()\n",
    "# visualization\n",
    "df_stage.plot.bar(figsize = (10, 6))\n",
    "plt.title('Average Favorite Counts per Dog Stage')\n",
    "plt.xlabel('Dog Stage')\n",
    "plt.ylabel('Average Favorite Counts')\n",
    "plt.tight_layout()"
   ]
  },
  {
   "cell_type": "code",
   "execution_count": 119,
   "metadata": {
    "scrolled": false
   },
   "outputs": [
    {
     "data": {
      "image/png": "[encoded data removed]",
      "text/plain": [
       "<Figure size 720x432 with 1 Axes>"
      ]
     },
     "metadata": {},
     "output_type": "display_data"
    }
   ],
   "source": [
    "# groupby dog_stage and calculate the mean retweet count\n",
    "df_stage_2 = df_all_copy.groupby('dog_stage')['retweet_count'].mean()\n",
    "# visualization\n",
    "df_stage_2.plot.bar(figsize = (10, 6))\n",
    "plt.title('Average Retweet Counts per Dog Stage')\n",
    "plt.xlabel('Dog Stage')\n",
    "plt.ylabel('Average Retweet Counts')\n",
    "plt.tight_layout()"
   ]
  },
  {
   "cell_type": "markdown",
   "metadata": {},
   "source": [
    "**If we consider there are in total only 9 tweets where the dogs have multipe stages, and we exclude them in comparison because these posts might not contain general results, overall, puppo on average gets the most favorite count, doggo on average gets the most retweet count (slightly leading puppo).**"
   ]
  },
  {
   "cell_type": "markdown",
   "metadata": {},
   "source": [
    "**8. what is the WeRateDogs account activity by year, month, day of the week, hour of the day?**"
   ]
  },
  {
   "cell_type": "code",
   "execution_count": 120,
   "metadata": {},
   "outputs": [],
   "source": [
    "# use timestamp data, add year, month, day, hour, day_of_week columns\n",
    "df_all_copy['year'] = df_all_copy[\"timestamp\"].apply(lambda x: x.year)\n",
    "df_all_copy['month'] = df_all_copy[\"timestamp\"].apply(lambda x: x.month)\n",
    "df_all_copy['day'] = df_all_copy[\"timestamp\"].apply(lambda x: x.day)\n",
    "df_all_copy['hour'] = df_all_copy[\"timestamp\"].apply(lambda x: x.hour)\n",
    "df_all_copy[\"day_of_week\"] = df_all_copy[\"timestamp\"].apply(lambda x: x.dayofweek)"
   ]
  },
  {
   "cell_type": "code",
   "execution_count": 121,
   "metadata": {},
   "outputs": [
    {
     "data": {
      "text/plain": [
       "count     1640                     \n",
       "unique    1640                     \n",
       "top       2015-12-08 16:21:41+00:00\n",
       "freq      1                        \n",
       "first     2015-11-15 22:32:08+00:00\n",
       "last      2017-08-01 00:17:27+00:00\n",
       "Name: timestamp, dtype: object"
      ]
     },
     "execution_count": 121,
     "metadata": {},
     "output_type": "execute_result"
    }
   ],
   "source": [
    "df_all_copy.timestamp.describe()"
   ]
  },
  {
   "cell_type": "markdown",
   "metadata": {},
   "source": [
    "We can see all the tweets are from **2015/11/15** to **2017/08/01**."
   ]
  },
  {
   "cell_type": "code",
   "execution_count": 122,
   "metadata": {
    "scrolled": false
   },
   "outputs": [
    {
     "data": {
      "text/plain": [
       "Text(0.5, 1.0, 'Tweet Counts (Month of Year 2015)')"
      ]
     },
     "execution_count": 122,
     "metadata": {},
     "output_type": "execute_result"
    },
    {
     "data": {
      "image/png": "[encoded data removed]",
      "text/plain": [
       "<Figure size 720x432 with 1 Axes>"
      ]
     },
     "metadata": {},
     "output_type": "display_data"
    }
   ],
   "source": [
    "# twitter counts by month in 2015\n",
    "fig, ax = plt.subplots(figsize = (10,6))\n",
    "ax = sns.countplot(x = \"month\", data = df_all_copy.query(\"year == 2015\"), color = 'c')\n",
    "ax.set_title('Tweet Counts (Month of Year 2015)')"
   ]
  },
  {
   "cell_type": "code",
   "execution_count": 123,
   "metadata": {
    "scrolled": false
   },
   "outputs": [
    {
     "data": {
      "text/plain": [
       "Text(0.5, 1.0, 'Tweet Counts (Month of Year 2016)')"
      ]
     },
     "execution_count": 123,
     "metadata": {},
     "output_type": "execute_result"
    },
    {
     "data": {
      "image/png": "[encoded data removed]",
      "text/plain": [
       "<Figure size 720x432 with 1 Axes>"
      ]
     },
     "metadata": {},
     "output_type": "display_data"
    }
   ],
   "source": [
    "# twitter counts by month in 2016\n",
    "fig, ax = plt.subplots(figsize = (10,6))\n",
    "ax = sns.countplot(x = \"month\", data = df_all_copy.query(\"year == 2016\"), color = 'c')\n",
    "ax.set_title('Tweet Counts (Month of Year 2016)')"
   ]
  },
  {
   "cell_type": "code",
   "execution_count": 124,
   "metadata": {
    "scrolled": false
   },
   "outputs": [
    {
     "data": {
      "text/plain": [
       "Text(0.5, 1.0, 'Tweet Counts (Month of Year 2017)')"
      ]
     },
     "execution_count": 124,
     "metadata": {},
     "output_type": "execute_result"
    },
    {
     "data": {
      "image/png": "[encoded data removed]",
      "text/plain": [
       "<Figure size 720x432 with 1 Axes>"
      ]
     },
     "metadata": {},
     "output_type": "display_data"
    }
   ],
   "source": [
    "# twitter counts by month in 2017\n",
    "fig, ax = plt.subplots(figsize = (10,6))\n",
    "ax = sns.countplot(x = \"month\", data = df_all_copy.query(\"year == 2017\"), color = 'c')\n",
    "ax.set_title('Tweet Counts (Month of Year 2017)')"
   ]
  },
  {
   "cell_type": "markdown",
   "metadata": {},
   "source": [
    "**WeRateDogs on average posts more than 200 tweets during November and December in 2015, this number drops for the next 3 months (Jan, Feb, Mar of 2016) with ~100 tweets/month, then drops again and stablizes from April 2016 until July 2017 (averages 40 to 50 tweets a month).**"
   ]
  },
  {
   "cell_type": "code",
   "execution_count": 125,
   "metadata": {
    "scrolled": false
   },
   "outputs": [
    {
     "data": {
      "text/plain": [
       "Text(0.5, 1.0, 'Tweet Counts (Day of Month)')"
      ]
     },
     "execution_count": 125,
     "metadata": {},
     "output_type": "execute_result"
    },
    {
     "data": {
      "image/png": "[encoded data removed]",
      "text/plain": [
       "<Figure size 720x432 with 1 Axes>"
      ]
     },
     "metadata": {},
     "output_type": "display_data"
    }
   ],
   "source": [
    "# tweets by day of month\n",
    "fig, ax = plt.subplots(figsize = (10,6))\n",
    "ax = sns.countplot(x = \"day\", data = df_all_copy, color = 'c')\n",
    "ax.set_title('Tweet Counts (Day of Month)')"
   ]
  },
  {
   "cell_type": "markdown",
   "metadata": {},
   "source": [
    "**The total tweet counts in each day of the month are pretty stable** (fewer tweets on 30 or 31 is because some months don't have the 30th or 31st day)."
   ]
  },
  {
   "cell_type": "code",
   "execution_count": 126,
   "metadata": {
    "scrolled": false
   },
   "outputs": [
    {
     "data": {
      "text/plain": [
       "Text(0.5, 1.0, 'Tweet Counts (Day of Week)')"
      ]
     },
     "execution_count": 126,
     "metadata": {},
     "output_type": "execute_result"
    },
    {
     "data": {
      "image/png": "[encoded data removed]",
      "text/plain": [
       "<Figure size 720x432 with 1 Axes>"
      ]
     },
     "metadata": {},
     "output_type": "display_data"
    }
   ],
   "source": [
    "# tweet counts on day of week\n",
    "fig, ax = plt.subplots(figsize = (10,6))\n",
    "ax = sns.countplot(x = \"day_of_week\", data = df_all_copy, color = 'c')\n",
    "ax.set_xticklabels(['Sunday', 'Monday', 'Tuesday', 'Wednesday', 'Thursday', 'Friday', 'Saturday'])\n",
    "ax.set_title('Tweet Counts (Day of Week)')"
   ]
  },
  {
   "cell_type": "markdown",
   "metadata": {},
   "source": [
    "From the day of week total posts, **WeRateDogs seems to post more tweets on Sunday (with a total post number of ~270) then any other day of the week.**"
   ]
  },
  {
   "cell_type": "code",
   "execution_count": 127,
   "metadata": {
    "scrolled": false
   },
   "outputs": [
    {
     "data": {
      "text/plain": [
       "Text(0.5, 1.0, 'Tweet Counts (Hour of Day)')"
      ]
     },
     "execution_count": 127,
     "metadata": {},
     "output_type": "execute_result"
    },
    {
     "data": {
      "image/png": "[encoded data removed]",
      "text/plain": [
       "<Figure size 720x432 with 1 Axes>"
      ]
     },
     "metadata": {},
     "output_type": "display_data"
    }
   ],
   "source": [
    "# hour of day post number\n",
    "fig, ax = plt.subplots(figsize = (10,6))\n",
    "ax = sns.countplot(x = \"hour\", data = df_all_copy, color = 'c')\n",
    "ax.set_title('Tweet Counts (Hour of Day)')"
   ]
  },
  {
   "cell_type": "markdown",
   "metadata": {},
   "source": [
    "**More tweets actually come from hours of 0-3 and 16-17, There is no single post for the hours of 7-12 (maybe it's the sleep time for the people who run the account).**"
   ]
  },
  {
   "cell_type": "markdown",
   "metadata": {},
   "source": [
    "**9. what is the distribution of favorite counts by month in each year?**"
   ]
  },
  {
   "cell_type": "code",
   "execution_count": 128,
   "metadata": {},
   "outputs": [
    {
     "data": {
      "text/html": [
       "<div>\n",
       "<style scoped>\n",
       "    .dataframe tbody tr th:only-of-type {\n",
       "        vertical-align: middle;\n",
       "    }\n",
       "\n",
       "    .dataframe tbody tr th {\n",
       "        vertical-align: top;\n",
       "    }\n",
       "\n",
       "    .dataframe thead th {\n",
       "        text-align: right;\n",
       "    }\n",
       "</style>\n",
       "<table border=\"1\" class=\"dataframe\">\n",
       "  <thead>\n",
       "    <tr style=\"text-align: right;\">\n",
       "      <th></th>\n",
       "      <th>month</th>\n",
       "      <th>favorite_count_2015</th>\n",
       "      <th>retweet_count_2015</th>\n",
       "      <th>favorite_count_2016</th>\n",
       "      <th>retweet_count_2016</th>\n",
       "      <th>favorite_count_2017</th>\n",
       "      <th>retweet_count_2017</th>\n",
       "    </tr>\n",
       "  </thead>\n",
       "  <tbody>\n",
       "    <tr>\n",
       "      <th>0</th>\n",
       "      <td>1</td>\n",
       "      <td>NaN</td>\n",
       "      <td>NaN</td>\n",
       "      <td>491338.0</td>\n",
       "      <td>178155.0</td>\n",
       "      <td>1143224.0</td>\n",
       "      <td>370247.0</td>\n",
       "    </tr>\n",
       "    <tr>\n",
       "      <th>1</th>\n",
       "      <td>2</td>\n",
       "      <td>NaN</td>\n",
       "      <td>NaN</td>\n",
       "      <td>362751.0</td>\n",
       "      <td>129548.0</td>\n",
       "      <td>1139249.0</td>\n",
       "      <td>270785.0</td>\n",
       "    </tr>\n",
       "    <tr>\n",
       "      <th>2</th>\n",
       "      <td>3</td>\n",
       "      <td>NaN</td>\n",
       "      <td>NaN</td>\n",
       "      <td>464598.0</td>\n",
       "      <td>160181.0</td>\n",
       "      <td>913580.0</td>\n",
       "      <td>219362.0</td>\n",
       "    </tr>\n",
       "    <tr>\n",
       "      <th>3</th>\n",
       "      <td>4</td>\n",
       "      <td>NaN</td>\n",
       "      <td>NaN</td>\n",
       "      <td>230346.0</td>\n",
       "      <td>79402.0</td>\n",
       "      <td>754984.0</td>\n",
       "      <td>188230.0</td>\n",
       "    </tr>\n",
       "    <tr>\n",
       "      <th>4</th>\n",
       "      <td>5</td>\n",
       "      <td>NaN</td>\n",
       "      <td>NaN</td>\n",
       "      <td>292435.0</td>\n",
       "      <td>101909.0</td>\n",
       "      <td>1033073.0</td>\n",
       "      <td>265131.0</td>\n",
       "    </tr>\n",
       "    <tr>\n",
       "      <th>5</th>\n",
       "      <td>6</td>\n",
       "      <td>NaN</td>\n",
       "      <td>NaN</td>\n",
       "      <td>656763.0</td>\n",
       "      <td>289640.0</td>\n",
       "      <td>1207392.0</td>\n",
       "      <td>275568.0</td>\n",
       "    </tr>\n",
       "    <tr>\n",
       "      <th>6</th>\n",
       "      <td>7</td>\n",
       "      <td>NaN</td>\n",
       "      <td>NaN</td>\n",
       "      <td>544135.0</td>\n",
       "      <td>193387.0</td>\n",
       "      <td>1465000.0</td>\n",
       "      <td>314508.0</td>\n",
       "    </tr>\n",
       "    <tr>\n",
       "      <th>7</th>\n",
       "      <td>8</td>\n",
       "      <td>NaN</td>\n",
       "      <td>NaN</td>\n",
       "      <td>445238.0</td>\n",
       "      <td>144553.0</td>\n",
       "      <td>33819.0</td>\n",
       "      <td>6514.0</td>\n",
       "    </tr>\n",
       "    <tr>\n",
       "      <th>8</th>\n",
       "      <td>9</td>\n",
       "      <td>NaN</td>\n",
       "      <td>NaN</td>\n",
       "      <td>618661.0</td>\n",
       "      <td>197830.0</td>\n",
       "      <td>NaN</td>\n",
       "      <td>NaN</td>\n",
       "    </tr>\n",
       "    <tr>\n",
       "      <th>9</th>\n",
       "      <td>10</td>\n",
       "      <td>NaN</td>\n",
       "      <td>NaN</td>\n",
       "      <td>791553.0</td>\n",
       "      <td>253481.0</td>\n",
       "      <td>NaN</td>\n",
       "      <td>NaN</td>\n",
       "    </tr>\n",
       "    <tr>\n",
       "      <th>10</th>\n",
       "      <td>11</td>\n",
       "      <td>261130.0</td>\n",
       "      <td>105995.0</td>\n",
       "      <td>620546.0</td>\n",
       "      <td>199158.0</td>\n",
       "      <td>NaN</td>\n",
       "      <td>NaN</td>\n",
       "    </tr>\n",
       "    <tr>\n",
       "      <th>11</th>\n",
       "      <td>12</td>\n",
       "      <td>1040206.0</td>\n",
       "      <td>448178.0</td>\n",
       "      <td>858984.0</td>\n",
       "      <td>287266.0</td>\n",
       "      <td>NaN</td>\n",
       "      <td>NaN</td>\n",
       "    </tr>\n",
       "  </tbody>\n",
       "</table>\n",
       "</div>"
      ],
      "text/plain": [
       "    month  favorite_count_2015  retweet_count_2015  favorite_count_2016  \\\n",
       "0   1     NaN                  NaN                  491338.0              \n",
       "1   2     NaN                  NaN                  362751.0              \n",
       "2   3     NaN                  NaN                  464598.0              \n",
       "3   4     NaN                  NaN                  230346.0              \n",
       "4   5     NaN                  NaN                  292435.0              \n",
       "5   6     NaN                  NaN                  656763.0              \n",
       "6   7     NaN                  NaN                  544135.0              \n",
       "7   8     NaN                  NaN                  445238.0              \n",
       "8   9     NaN                  NaN                  618661.0              \n",
       "9   10    NaN                  NaN                  791553.0              \n",
       "10  11     261130.0             105995.0            620546.0              \n",
       "11  12     1040206.0            448178.0            858984.0              \n",
       "\n",
       "    retweet_count_2016  favorite_count_2017  retweet_count_2017  \n",
       "0   178155.0            1143224.0            370247.0            \n",
       "1   129548.0            1139249.0            270785.0            \n",
       "2   160181.0            913580.0             219362.0            \n",
       "3   79402.0             754984.0             188230.0            \n",
       "4   101909.0            1033073.0            265131.0            \n",
       "5   289640.0            1207392.0            275568.0            \n",
       "6   193387.0            1465000.0            314508.0            \n",
       "7   144553.0            33819.0              6514.0              \n",
       "8   197830.0           NaN                  NaN                  \n",
       "9   253481.0           NaN                  NaN                  \n",
       "10  199158.0           NaN                  NaN                  \n",
       "11  287266.0           NaN                  NaN                  "
      ]
     },
     "execution_count": 128,
     "metadata": {},
     "output_type": "execute_result"
    }
   ],
   "source": [
    "# query data from each year and find favorite/retweet counts of each month in these years\n",
    "df_all_2015 = df_all_copy.query(\"year == 2015\").groupby(\"month\", as_index = False).sum()\n",
    "df_all_2015 = df_all_2015[['month', 'favorite_count', 'retweet_count']]\n",
    "df_all_2015.rename(columns={'favorite_count': 'favorite_count_2015', 'retweet_count': 'retweet_count_2015'}, inplace=True)\n",
    "\n",
    "df_all_2016 = df_all_copy.query(\"year == 2016\").groupby(\"month\", as_index = False).sum()\n",
    "df_all_2016 = df_all_2016[['month', 'favorite_count', 'retweet_count']]\n",
    "df_all_2016.rename(columns={'favorite_count': 'favorite_count_2016', 'retweet_count': 'retweet_count_2016'}, inplace=True)\n",
    "\n",
    "df_all_2017 = df_all_copy.query(\"year == 2017\").groupby(\"month\", as_index = False).sum()\n",
    "df_all_2017 = df_all_2017[['month', 'favorite_count', 'retweet_count']]\n",
    "df_all_2017.rename(columns={'favorite_count': 'favorite_count_2017', 'retweet_count': 'retweet_count_2017'}, inplace=True)\n",
    "\n",
    "# create a monthly count dataframe that stores favorite/retweet counts from each month\n",
    "df_monthly_count = pd.merge(df_all_2015, df_all_2016, on='month', how='outer')\n",
    "df_monthly_count = pd.merge(df_monthly_count, df_all_2017, on='month', how='outer')\n",
    "\n",
    "df_monthly_count.sort_values('month', ascending=True, inplace=True)\n",
    "df_monthly_count.reset_index(drop = True, inplace = True)\n",
    "df_monthly_count"
   ]
  },
  {
   "cell_type": "code",
   "execution_count": 129,
   "metadata": {
    "scrolled": false
   },
   "outputs": [
    {
     "data": {
      "image/png": "[encoded data removed]",
      "text/plain": [
       "<Figure size 720x432 with 1 Axes>"
      ]
     },
     "metadata": {},
     "output_type": "display_data"
    }
   ],
   "source": [
    "# show monthly favorite/retweet counts and conpare between years\n",
    "fig, ax = plt.subplots(figsize = (10,6))\n",
    "ax = df_monthly_count.plot.bar(x='month', ax=ax)\n",
    "ax.set_title(\"Favorite/Retweet Counts per Month Comparison\")\n",
    "plt.tight_layout()"
   ]
  },
  {
   "cell_type": "markdown",
   "metadata": {},
   "source": [
    "**Overall, the account is gaining popularity in receiving favorites and retweets over the years** (we can see increases in height from the green bar to the purple bar showing trend in favorites, red bar to the brown bar showing trend in retweets). The decrease from blue bar to green bar is actually due to different numbers of tweets in the respective months (Dec), we have many more tweets in Dec 2015 than Dec 2016)."
   ]
  },
  {
   "cell_type": "markdown",
   "metadata": {},
   "source": [
    "## Summary and Conclusion\n",
    "\n",
    "In this project, I investigated the **twitter data from WeRateDogs**. This project goes through the process of **data gathering, assessing, cleaning and analysis (visualization)**. During the analysis section, I provided and answered 9 interesting questions."
   ]
  },
  {
   "cell_type": "code",
   "execution_count": null,
   "metadata": {},
   "outputs": [],
   "source": []
  }
 ],
 "metadata": {
  "kernelspec": {
   "display_name": "Python 3",
   "language": "python",
   "name": "python3"
  },
  "language_info": {
   "codemirror_mode": {
    "name": "ipython",
    "version": 3
   },
   "file_extension": ".py",
   "mimetype": "text/x-python",
   "name": "python",
   "nbconvert_exporter": "python",
   "pygments_lexer": "ipython3",
   "version": "3.7.3"
  }
 },
 "nbformat": 4,
 "nbformat_minor": 2
}
